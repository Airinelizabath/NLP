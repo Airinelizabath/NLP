{
  "nbformat": 4,
  "nbformat_minor": 0,
  "metadata": {
    "colab": {
      "name": "CH1-2.ipynb",
      "provenance": [],
      "collapsed_sections": [],
      "authorship_tag": "ABX9TyPU2m3T7U6xow+PCL9tmvL6",
      "include_colab_link": true
    },
    "kernelspec": {
      "name": "python3",
      "display_name": "Python 3"
    }
  },
  "cells": [
    {
      "cell_type": "markdown",
      "metadata": {
        "id": "view-in-github",
        "colab_type": "text"
      },
      "source": [
        "<a href=\"https://colab.research.google.com/github/Airinelizabath/NLP/blob/main/CH1_2.ipynb\" target=\"_parent\"><img src=\"https://colab.research.google.com/assets/colab-badge.svg\" alt=\"Open In Colab\"/></a>"
      ]
    },
    {
      "cell_type": "code",
      "metadata": {
        "id": "N6_Xu1Uq5fEw"
      },
      "source": [
        "import python_utils\n",
        "import nltk"
      ],
      "execution_count": null,
      "outputs": []
    },
    {
      "cell_type": "code",
      "metadata": {
        "id": "W4EdLgEX57xp"
      },
      "source": [
        "nltk.download()"
      ],
      "execution_count": null,
      "outputs": []
    },
    {
      "cell_type": "code",
      "metadata": {
        "id": "YMmhflGFwYFW"
      },
      "source": [
        "from nltk.book import *"
      ],
      "execution_count": null,
      "outputs": []
    },
    {
      "cell_type": "markdown",
      "metadata": {
        "id": "x-PyE1if7Jw5"
      },
      "source": [
        "1. Try using the Python interpreter as a calculator, and typing expressions like 12 /(4 + 1)."
      ]
    },
    {
      "cell_type": "code",
      "metadata": {
        "id": "JlWzuQwV7POA",
        "colab": {
          "base_uri": "https://localhost:8080/",
          "height": 34
        },
        "outputId": "e2726df6-dc3b-4ccd-cf37-07409af070b7"
      },
      "source": [
        "12/(4+1)"
      ],
      "execution_count": null,
      "outputs": [
        {
          "output_type": "execute_result",
          "data": {
            "text/plain": [
              "2.4"
            ]
          },
          "metadata": {
            "tags": []
          },
          "execution_count": 3
        }
      ]
    },
    {
      "cell_type": "markdown",
      "metadata": {
        "id": "-9fwUv6V7Te7"
      },
      "source": [
        "2. Given an alphabet of 26 letters, there are 26 to the power 10, or 26 ** 10, 10-\n",
        "letter strings we can form. That works out to 141167095653376L (the L at the end\n",
        "just indicates that this is Python’s long-number format). How many hundred-letter strings are possible?"
      ]
    },
    {
      "cell_type": "code",
      "metadata": {
        "id": "EkIg6dSr7eQs",
        "colab": {
          "base_uri": "https://localhost:8080/",
          "height": 34
        },
        "outputId": "de285f1f-0c39-43aa-e678-411b29020a71"
      },
      "source": [
        "26**100"
      ],
      "execution_count": null,
      "outputs": [
        {
          "output_type": "execute_result",
          "data": {
            "text/plain": [
              "3142930641582938830174357788501626427282669988762475256374173175398995908420104023465432599069702289330964075081611719197835869803511992549376"
            ]
          },
          "metadata": {
            "tags": []
          },
          "execution_count": 4
        }
      ]
    },
    {
      "cell_type": "markdown",
      "metadata": {
        "id": "XQGxi-Gp8JIQ"
      },
      "source": [
        "3. The Python multiplication operation can be applied to lists. What happens when you type ['Monty', 'Python'] * 20 , or 3 * sent1 ?"
      ]
    },
    {
      "cell_type": "code",
      "metadata": {
        "id": "jwiyKuX_t42s"
      },
      "source": [
        "['Monty','Python']*20"
      ],
      "execution_count": null,
      "outputs": []
    },
    {
      "cell_type": "code",
      "metadata": {
        "id": "SH68EG0-wHNY"
      },
      "source": [
        "sent1 = ['Call', 'me', 'Ishmael', '.']\n",
        "3*sent1"
      ],
      "execution_count": null,
      "outputs": []
    },
    {
      "cell_type": "markdown",
      "metadata": {
        "id": "HxUnEqgc8T5S"
      },
      "source": [
        "4. Review Section 1.1 on computing with language. How many words are there in text2 ? How many distinct words are there?"
      ]
    },
    {
      "cell_type": "code",
      "metadata": {
        "id": "2Y597OvQvmFD",
        "colab": {
          "base_uri": "https://localhost:8080/",
          "height": 52
        },
        "outputId": "e7262d97-bdd1-4e54-b8a2-fcb2367e000c"
      },
      "source": [
        "print(\"no of words in text2 :\"+str(len(text2)))\n",
        "print(\"no. of distinct word in text2:\"+str(len(set(text2))))"
      ],
      "execution_count": null,
      "outputs": [
        {
          "output_type": "stream",
          "text": [
            "no of words in text2 :141576\n",
            "no. of distinct word in text2:6833\n"
          ],
          "name": "stdout"
        }
      ]
    },
    {
      "cell_type": "markdown",
      "metadata": {
        "id": "rk2xIWdS8al7"
      },
      "source": [
        "5. Compare the lexical diversity scores for humor and romance fiction in Table 1-1. Which genre is more lexically diverse?"
      ]
    },
    {
      "cell_type": "code",
      "metadata": {
        "id": "OU9vAUNOxITy"
      },
      "source": [
        "def lexical_diversity(text):\n",
        "  return len(text) / len(set(text))"
      ],
      "execution_count": null,
      "outputs": []
    },
    {
      "cell_type": "markdown",
      "metadata": {
        "id": "qeuCuOUw8kqZ"
      },
      "source": [
        "6. Produce a dispersion plot of the four main protagonists in Sense and Sensibility: Elinor, Marianne, Edward, and Willoughby. What can you observe about the different roles played by the males and females in this novel? Can you identify the couples?"
      ]
    },
    {
      "cell_type": "code",
      "metadata": {
        "id": "TKA7HhKs3qYQ",
        "colab": {
          "base_uri": "https://localhost:8080/",
          "height": 295
        },
        "outputId": "f0a0b7a1-1dd2-4021-9409-7154cf7456e6"
      },
      "source": [
        "text2.dispersion_plot(['Elinor', 'Marianne', 'Edward','Willoughby'])"
      ],
      "execution_count": null,
      "outputs": [
        {
          "output_type": "display_data",
          "data": {
            "image/png": "[encoded data removed]",
            "text/plain": [
              "<Figure size 432x288 with 1 Axes>"
            ]
          },
          "metadata": {
            "tags": [],
            "needs_background": "light"
          }
        }
      ]
    },
    {
      "cell_type": "markdown",
      "metadata": {
        "id": "7gt5BT844lS_"
      },
      "source": [
        "\n",
        "\n",
        ">>Ellinor and Marianne might be couples as their frequency are the most and occur almost the same time peroid. Same goes for Edward and Willoughby.\n",
        "\n"
      ]
    },
    {
      "cell_type": "markdown",
      "metadata": {
        "id": "QvBG-QFc8tER"
      },
      "source": [
        "7. Find the collocations in text5"
      ]
    },
    {
      "cell_type": "code",
      "metadata": {
        "id": "VWmMluY05tI0",
        "colab": {
          "base_uri": "https://localhost:8080/",
          "height": 86
        },
        "outputId": "59158d6f-c366-4276-c2e1-ac43e684b0ea"
      },
      "source": [
        "text5.collocations()"
      ],
      "execution_count": null,
      "outputs": [
        {
          "output_type": "stream",
          "text": [
            "wanna chat; PART JOIN; MODE #14-19teens; JOIN PART; PART PART;\n",
            "cute.-ass MP3; MP3 player; JOIN JOIN; times .. .; ACTION watches; guys\n",
            "wanna; song lasts; last night; ACTION sits; -...)...- S.M.R.; Lime\n",
            "Player; Player 12%; dont know; lez gurls; long time\n"
          ],
          "name": "stdout"
        }
      ]
    },
    {
      "cell_type": "markdown",
      "metadata": {
        "id": "U8cOtg6u8w4i"
      },
      "source": [
        "8. Consider the following Python expression: len(set(text4)) . State the purpose of this expression. Describe the two steps involved in performing this computation."
      ]
    },
    {
      "cell_type": "code",
      "metadata": {
        "id": "DFzNRDdw58lv",
        "colab": {
          "base_uri": "https://localhost:8080/",
          "height": 34
        },
        "outputId": "a43abe2e-a62c-4413-a4fc-3cb6c2c8f956"
      },
      "source": [
        " len(set(text4))"
      ],
      "execution_count": null,
      "outputs": [
        {
          "output_type": "execute_result",
          "data": {
            "text/plain": [
              "9913"
            ]
          },
          "metadata": {
            "tags": []
          },
          "execution_count": 18
        }
      ]
    },
    {
      "cell_type": "markdown",
      "metadata": {
        "id": "1TscbJ7w6ABr"
      },
      "source": [
        "Find number of distinct words in text4.    \n",
        "set() => includes the words in the text in the form of list. That is it includes only distinct word.    \n",
        "len() => no of words in the list."
      ]
    },
    {
      "cell_type": "markdown",
      "metadata": {
        "id": "6Rs621s083Om"
      },
      "source": [
        "9. Review Section 1.2 on lists and strings.\n",
        "> a. Define a string and assign it to a variable, e.g., my_string = 'My String' (but put something more interesting in the string). Print the contents of this variable in two ways, first by simply typing the variable name and pressing Enter, then by using the print statement.\n",
        "\n",
        "\n",
        "\n"
      ]
    },
    {
      "cell_type": "code",
      "metadata": {
        "id": "QL4oLIh165rw"
      },
      "source": [
        "my_string='If you think you’re going to crash, step on the pedal harder.'"
      ],
      "execution_count": null,
      "outputs": []
    },
    {
      "cell_type": "code",
      "metadata": {
        "id": "CxHxhsNIQPE2",
        "colab": {
          "base_uri": "https://localhost:8080/",
          "height": 35
        },
        "outputId": "5e255989-eb02-4931-d92d-1f1aec200fba"
      },
      "source": [
        "my_string"
      ],
      "execution_count": null,
      "outputs": [
        {
          "output_type": "execute_result",
          "data": {
            "application/vnd.google.colaboratory.intrinsic+json": {
              "type": "string"
            },
            "text/plain": [
              "'If you think you’re going to crash, step on the pedal harder.'"
            ]
          },
          "metadata": {
            "tags": []
          },
          "execution_count": 21
        }
      ]
    },
    {
      "cell_type": "code",
      "metadata": {
        "id": "mI7WPLs5QRv7",
        "colab": {
          "base_uri": "https://localhost:8080/",
          "height": 34
        },
        "outputId": "134703a8-44a7-44ec-d993-1257bdb734ba"
      },
      "source": [
        "print(my_string)"
      ],
      "execution_count": null,
      "outputs": [
        {
          "output_type": "stream",
          "text": [
            "If you think you’re going to crash, step on the pedal harder.\n"
          ],
          "name": "stdout"
        }
      ]
    },
    {
      "cell_type": "markdown",
      "metadata": {
        "id": "3b67VsFu9Wz3"
      },
      "source": [
        ">>b. Try adding the string to itself using my_string + my_string , or multiplying it\n",
        "by a number, e.g., my_string * 3 . Notice that the strings are joined together\n",
        "without any spaces. How could you fix this?"
      ]
    },
    {
      "cell_type": "code",
      "metadata": {
        "id": "PljXAUgjQdPE",
        "colab": {
          "base_uri": "https://localhost:8080/",
          "height": 35
        },
        "outputId": "40353555-b5ad-4f9c-820e-e7b5822051df"
      },
      "source": [
        "my_string+my_string\n",
        "my_string*3"
      ],
      "execution_count": null,
      "outputs": [
        {
          "output_type": "execute_result",
          "data": {
            "application/vnd.google.colaboratory.intrinsic+json": {
              "type": "string"
            },
            "text/plain": [
              "'If you think you’re going to crash, step on the pedal harder.If you think you’re going to crash, step on the pedal harder.If you think you’re going to crash, step on the pedal harder.'"
            ]
          },
          "metadata": {
            "tags": []
          },
          "execution_count": 24
        }
      ]
    },
    {
      "cell_type": "markdown",
      "metadata": {
        "id": "xJVx4HP59a4W"
      },
      "source": [
        "10. Define a variable my_sent to be a list of words, using the syntax my_sent =[\"My\", \"sent\"] (but with your own words, or a favorite saying).\n",
        ">a. Use ' '.join(my_sent) to convert this into a string."
      ]
    },
    {
      "cell_type": "code",
      "metadata": {
        "id": "Uy7S2W7fRCxK",
        "colab": {
          "base_uri": "https://localhost:8080/",
          "height": 35
        },
        "outputId": "ac6d7e7c-e5b2-4452-ef70-1517789fca24"
      },
      "source": [
        "my_sent =[\"Do\", \"or\",\"Die\"]\n",
        "' '.join(my_sent)"
      ],
      "execution_count": null,
      "outputs": [
        {
          "output_type": "execute_result",
          "data": {
            "application/vnd.google.colaboratory.intrinsic+json": {
              "type": "string"
            },
            "text/plain": [
              "'Do or Die'"
            ]
          },
          "metadata": {
            "tags": []
          },
          "execution_count": 30
        }
      ]
    },
    {
      "cell_type": "markdown",
      "metadata": {
        "id": "KVNCZz-u9iCT"
      },
      "source": [
        ">> b. Use split() to split the string back into the list form you had to start with."
      ]
    },
    {
      "cell_type": "code",
      "metadata": {
        "id": "HYWR6JwQRVTg",
        "colab": {
          "base_uri": "https://localhost:8080/",
          "height": 34
        },
        "outputId": "702bd993-8bfa-43fb-efe7-78445340e114"
      },
      "source": [
        "'Do or Die'.split()"
      ],
      "execution_count": null,
      "outputs": [
        {
          "output_type": "execute_result",
          "data": {
            "text/plain": [
              "['Do', 'or', 'Die']"
            ]
          },
          "metadata": {
            "tags": []
          },
          "execution_count": 31
        }
      ]
    },
    {
      "cell_type": "markdown",
      "metadata": {
        "id": "CSGfb5w59AeG"
      },
      "source": [
        "11. Define several variables containing lists of words, e.g., phrase1 , phrase2 , and soon. Join them together in various combinations (using the plus operator) to form whole sentences. What is the relationship between len (phrase1 + phrase2) and len (phrase1) + len(phrase2) ?"
      ]
    },
    {
      "cell_type": "code",
      "metadata": {
        "id": "Qm5gNHohS5Qy"
      },
      "source": [
        "phrase1 ='Cause I, I, I\\'m in the stars tonight'\n",
        "phrase2 ='So watch me bring the fire and set the night alight (Hey)'\n",
        "phrase3='Shining through the city with a little funk and soul'\n",
        "phrase4='So I\\'ma light it up like dynamite, woah-oh-oh'"
      ],
      "execution_count": null,
      "outputs": []
    },
    {
      "cell_type": "code",
      "metadata": {
        "id": "JB8iIttQTyJ1",
        "colab": {
          "base_uri": "https://localhost:8080/",
          "height": 34
        },
        "outputId": "a98eca6d-1b76-46a1-b1fa-3acb7b4c817e"
      },
      "source": [
        "len(phrase1 + phrase2 + phrase3+ phrase4)"
      ],
      "execution_count": null,
      "outputs": [
        {
          "output_type": "execute_result",
          "data": {
            "text/plain": [
              "190"
            ]
          },
          "metadata": {
            "tags": []
          },
          "execution_count": 39
        }
      ]
    },
    {
      "cell_type": "code",
      "metadata": {
        "id": "w85jHcO9UYb3",
        "colab": {
          "base_uri": "https://localhost:8080/",
          "height": 34
        },
        "outputId": "01e78d7d-d4ce-4cb3-b77d-a650980009e1"
      },
      "source": [
        "len (phrase1) + len(phrase2) + len(phrase3) + len(phrase4)"
      ],
      "execution_count": null,
      "outputs": [
        {
          "output_type": "execute_result",
          "data": {
            "text/plain": [
              "190"
            ]
          },
          "metadata": {
            "tags": []
          },
          "execution_count": 40
        }
      ]
    },
    {
      "cell_type": "markdown",
      "metadata": {
        "id": "eIV4nQFA-hTQ"
      },
      "source": [
        "Consider the following two expressions, which have the same value. Which one\n",
        "will typically be more relevant in NLP? Why?\n",
        ">a. \"Monty Python\"[6:12]  \n",
        ">b. [\"Monty\", \"Python\"][1]"
      ]
    },
    {
      "cell_type": "code",
      "metadata": {
        "id": "HPyIezJvfDzR",
        "colab": {
          "base_uri": "https://localhost:8080/",
          "height": 35
        },
        "outputId": "ba769f53-7bbb-404e-a895-2c106fed20ae"
      },
      "source": [
        "\"Monty Python\"[6:12]"
      ],
      "execution_count": null,
      "outputs": [
        {
          "output_type": "execute_result",
          "data": {
            "application/vnd.google.colaboratory.intrinsic+json": {
              "type": "string"
            },
            "text/plain": [
              "'Python'"
            ]
          },
          "metadata": {
            "tags": []
          },
          "execution_count": 62
        }
      ]
    },
    {
      "cell_type": "code",
      "metadata": {
        "id": "25NogNUqfUbP",
        "colab": {
          "base_uri": "https://localhost:8080/",
          "height": 35
        },
        "outputId": "f75f9a3a-3e24-449e-aed3-747231506cfa"
      },
      "source": [
        " [\"Monty\", \"Python\"][1]"
      ],
      "execution_count": null,
      "outputs": [
        {
          "output_type": "execute_result",
          "data": {
            "application/vnd.google.colaboratory.intrinsic+json": {
              "type": "string"
            },
            "text/plain": [
              "'Python'"
            ]
          },
          "metadata": {
            "tags": []
          },
          "execution_count": 63
        }
      ]
    },
    {
      "cell_type": "markdown",
      "metadata": {
        "id": "atDBJQKm-xvV"
      },
      "source": [
        "13. We have seen how to represent a sentence as a list of words, where each word is a sequence of characters. What does sent1[2][2] do? Why? Experiment with other index values."
      ]
    },
    {
      "cell_type": "code",
      "metadata": {
        "id": "LUt-_KDUfmTG",
        "colab": {
          "base_uri": "https://localhost:8080/",
          "height": 35
        },
        "outputId": "95044c76-5a42-450d-e914-ae86074d4895"
      },
      "source": [
        "sent1[2][2]"
      ],
      "execution_count": null,
      "outputs": [
        {
          "output_type": "execute_result",
          "data": {
            "application/vnd.google.colaboratory.intrinsic+json": {
              "type": "string"
            },
            "text/plain": [
              "'h'"
            ]
          },
          "metadata": {
            "tags": []
          },
          "execution_count": 69
        }
      ]
    },
    {
      "cell_type": "code",
      "metadata": {
        "id": "ooOXkT1Jf41V",
        "colab": {
          "base_uri": "https://localhost:8080/",
          "height": 35
        },
        "outputId": "aa5b0c57-4867-4b58-edad-a409b492e2eb"
      },
      "source": [
        "sent2[3]"
      ],
      "execution_count": null,
      "outputs": [
        {
          "output_type": "execute_result",
          "data": {
            "application/vnd.google.colaboratory.intrinsic+json": {
              "type": "string"
            },
            "text/plain": [
              "'Dashwood'"
            ]
          },
          "metadata": {
            "tags": []
          },
          "execution_count": 70
        }
      ]
    },
    {
      "cell_type": "code",
      "metadata": {
        "id": "gcyw5PcDf7TP",
        "colab": {
          "base_uri": "https://localhost:8080/",
          "height": 35
        },
        "outputId": "3ade31f5-afb1-4e7f-a891-c89c818b9603"
      },
      "source": [
        "sent7[10][1]"
      ],
      "execution_count": null,
      "outputs": [
        {
          "output_type": "execute_result",
          "data": {
            "application/vnd.google.colaboratory.intrinsic+json": {
              "type": "string"
            },
            "text/plain": [
              "'o'"
            ]
          },
          "metadata": {
            "tags": []
          },
          "execution_count": 71
        }
      ]
    },
    {
      "cell_type": "markdown",
      "metadata": {
        "id": "C5-9_YYi-4tX"
      },
      "source": [
        "14. The first sentence of text3 is provided to you in the variable sent3 . The index of *the* in sent3 is 1, because sent3[1] gives us 'the' . What are the indexes of the two other occurrences of this word in sent3 ?"
      ]
    },
    {
      "cell_type": "code",
      "metadata": {
        "id": "1TTq3qT2gXqK",
        "colab": {
          "base_uri": "https://localhost:8080/",
          "height": 52
        },
        "outputId": "d9011a1b-64de-4686-f6b0-71d54d6d0582"
      },
      "source": [
        "print(sent3)\n",
        "[i for i, item in enumerate(sent3) if item == 'the']"
      ],
      "execution_count": null,
      "outputs": [
        {
          "output_type": "stream",
          "text": [
            "['In', 'the', 'beginning', 'God', 'created', 'the', 'heaven', 'and', 'the', 'earth', '.']\n"
          ],
          "name": "stdout"
        },
        {
          "output_type": "execute_result",
          "data": {
            "text/plain": [
              "[1, 5, 8]"
            ]
          },
          "metadata": {
            "tags": []
          },
          "execution_count": 79
        }
      ]
    },
    {
      "cell_type": "markdown",
      "metadata": {
        "id": "XszFue3D_BFP"
      },
      "source": [
        "15. Review the discussion of conditionals in Section 1.4. Find all words in the Chat Corpus ( text5 ) starting with the letter b. Show them in alphabetical order."
      ]
    },
    {
      "cell_type": "code",
      "metadata": {
        "id": "pm4ADOl3j5h2",
        "colab": {
          "base_uri": "https://localhost:8080/",
          "height": 1000
        },
        "outputId": "462d2c6c-b500-44ac-ef43-c2d87c885589"
      },
      "source": [
        "sorted(set([w for w in text5 if w.startswith('b') ]))"
      ],
      "execution_count": null,
      "outputs": [
        {
          "output_type": "execute_result",
          "data": {
            "text/plain": [
              "['b',\n",
              " 'b-day',\n",
              " 'b/c',\n",
              " 'b4',\n",
              " 'babay',\n",
              " 'babble',\n",
              " 'babblein',\n",
              " 'babe',\n",
              " 'babes',\n",
              " 'babi',\n",
              " 'babies',\n",
              " 'babiess',\n",
              " 'baby',\n",
              " 'babycakeses',\n",
              " 'bachelorette',\n",
              " 'back',\n",
              " 'backatchya',\n",
              " 'backfrontsidewaysandallaroundtheworld',\n",
              " 'backroom',\n",
              " 'backup',\n",
              " 'bacl',\n",
              " 'bad',\n",
              " 'bag',\n",
              " 'bagel',\n",
              " 'bagels',\n",
              " 'bahahahaa',\n",
              " 'bak',\n",
              " 'baked',\n",
              " 'balad',\n",
              " 'balance',\n",
              " 'balck',\n",
              " 'ball',\n",
              " 'ballin',\n",
              " 'balls',\n",
              " 'ban',\n",
              " 'band',\n",
              " 'bandito',\n",
              " 'bandsaw',\n",
              " 'banjoes',\n",
              " 'banned',\n",
              " 'baord',\n",
              " 'bar',\n",
              " 'barbie',\n",
              " 'bare',\n",
              " 'barely',\n",
              " 'bares',\n",
              " 'barfights',\n",
              " 'barks',\n",
              " 'barn',\n",
              " 'barrel',\n",
              " 'base',\n",
              " 'bases',\n",
              " 'basically',\n",
              " 'basket',\n",
              " 'battery',\n",
              " 'bay',\n",
              " 'bbbbbyyyyyyyeeeeeeeee',\n",
              " 'bbiam',\n",
              " 'bbl',\n",
              " 'bbs',\n",
              " 'bc',\n",
              " 'be',\n",
              " 'beach',\n",
              " 'beachhhh',\n",
              " 'beam',\n",
              " 'beams',\n",
              " 'beanbag',\n",
              " 'beans',\n",
              " 'bear',\n",
              " 'bears',\n",
              " 'beat',\n",
              " 'beaten',\n",
              " 'beatles',\n",
              " 'beats',\n",
              " 'beattles',\n",
              " 'beautiful',\n",
              " 'because',\n",
              " 'beckley',\n",
              " 'become',\n",
              " 'bed',\n",
              " 'bedford',\n",
              " 'bedroom',\n",
              " 'beeeeehave',\n",
              " 'beeehave',\n",
              " 'been',\n",
              " 'beer',\n",
              " 'before',\n",
              " 'beg',\n",
              " 'begin',\n",
              " 'behave',\n",
              " 'behind',\n",
              " 'bein',\n",
              " 'being',\n",
              " 'beleive',\n",
              " 'believe',\n",
              " 'belive',\n",
              " 'bell',\n",
              " 'belly',\n",
              " 'belong',\n",
              " 'belongings',\n",
              " 'ben',\n",
              " 'bend',\n",
              " 'benz',\n",
              " 'bes',\n",
              " 'beside',\n",
              " 'besides',\n",
              " 'best',\n",
              " 'bet',\n",
              " 'betrayal',\n",
              " 'betta',\n",
              " 'better',\n",
              " 'between',\n",
              " 'beuty',\n",
              " 'bf',\n",
              " 'bi',\n",
              " 'biatch',\n",
              " 'bible',\n",
              " 'biebsa',\n",
              " 'bied',\n",
              " 'big',\n",
              " 'bigest',\n",
              " 'biggest',\n",
              " 'biiiatch',\n",
              " 'bike',\n",
              " 'bikes',\n",
              " 'bikini',\n",
              " 'bio',\n",
              " 'bird',\n",
              " 'birfday',\n",
              " 'birthday',\n",
              " 'bisexual',\n",
              " 'bishes',\n",
              " 'bit',\n",
              " 'bitch',\n",
              " 'bitches',\n",
              " 'bitdh',\n",
              " 'bite',\n",
              " 'bites',\n",
              " 'biyatch',\n",
              " 'biz',\n",
              " 'bj',\n",
              " 'black',\n",
              " 'blade',\n",
              " 'blah',\n",
              " 'blank',\n",
              " 'blankie',\n",
              " 'blazed',\n",
              " 'bleach',\n",
              " 'blech',\n",
              " 'bless',\n",
              " 'blessings',\n",
              " 'blew',\n",
              " 'blind',\n",
              " 'blinks',\n",
              " 'bliss',\n",
              " 'blocking',\n",
              " 'bloe',\n",
              " 'blood',\n",
              " 'blooded',\n",
              " 'bloody',\n",
              " 'blow',\n",
              " 'blowing',\n",
              " 'blowjob',\n",
              " 'blowup',\n",
              " 'blue',\n",
              " 'blueberry',\n",
              " 'bluer',\n",
              " 'blues',\n",
              " 'blunt',\n",
              " 'board',\n",
              " 'bob',\n",
              " 'bodies',\n",
              " 'body',\n",
              " 'boed',\n",
              " 'boght',\n",
              " 'boi',\n",
              " 'boing',\n",
              " 'boinked',\n",
              " 'bois',\n",
              " 'bomb',\n",
              " 'bone',\n",
              " 'boned',\n",
              " 'bones',\n",
              " 'bong',\n",
              " 'boning',\n",
              " 'bonus',\n",
              " 'boo',\n",
              " 'booboo',\n",
              " 'boobs',\n",
              " 'book',\n",
              " 'boom',\n",
              " 'boooooooooooglyyyyyy',\n",
              " 'boost',\n",
              " 'boot',\n",
              " 'bootay',\n",
              " 'booted',\n",
              " 'boots',\n",
              " 'booty',\n",
              " 'border',\n",
              " 'borderline',\n",
              " 'bored',\n",
              " 'boredom',\n",
              " 'boring',\n",
              " 'born',\n",
              " 'born-again',\n",
              " 'bosom',\n",
              " 'boss',\n",
              " 'bossy',\n",
              " 'bot',\n",
              " 'both',\n",
              " 'bother',\n",
              " 'bothering',\n",
              " 'bottle',\n",
              " 'bought',\n",
              " 'bounced',\n",
              " 'bouncer',\n",
              " 'bouncers',\n",
              " 'bound',\n",
              " 'bout',\n",
              " 'bouts',\n",
              " 'bow',\n",
              " 'bowl',\n",
              " 'box',\n",
              " 'boy',\n",
              " 'boyfriend',\n",
              " 'boys',\n",
              " 'bra',\n",
              " 'brad',\n",
              " 'brady',\n",
              " 'brain',\n",
              " 'brakes',\n",
              " 'brass',\n",
              " 'brat',\n",
              " 'brb',\n",
              " 'brbbb',\n",
              " 'bread',\n",
              " 'break',\n",
              " 'breaks',\n",
              " 'breath',\n",
              " 'breathe',\n",
              " 'bred',\n",
              " 'breeding',\n",
              " 'bright',\n",
              " 'brightened',\n",
              " 'bring',\n",
              " 'brings',\n",
              " 'bro',\n",
              " 'broke',\n",
              " 'brooklyn',\n",
              " 'brother',\n",
              " 'brothers',\n",
              " 'brought',\n",
              " 'brown',\n",
              " 'brrrrrrr',\n",
              " 'bruises',\n",
              " 'brunswick',\n",
              " 'brwn',\n",
              " 'btw',\n",
              " 'bucks',\n",
              " 'buddyyyyyy',\n",
              " 'buff',\n",
              " 'buffalo',\n",
              " 'bug',\n",
              " 'bugs',\n",
              " 'buh',\n",
              " 'build',\n",
              " 'builds',\n",
              " 'built',\n",
              " 'bull',\n",
              " 'bulls',\n",
              " 'bum',\n",
              " 'bumber',\n",
              " 'bummer',\n",
              " 'bumped',\n",
              " 'bumper',\n",
              " 'bunch',\n",
              " 'bunny',\n",
              " 'burger',\n",
              " 'burito',\n",
              " 'burned',\n",
              " 'burns',\n",
              " 'burp',\n",
              " 'burpin',\n",
              " 'burps',\n",
              " 'burried',\n",
              " 'burryed',\n",
              " 'bus',\n",
              " 'buses',\n",
              " 'bust',\n",
              " 'busted',\n",
              " 'busy',\n",
              " 'but',\n",
              " 'butt',\n",
              " 'butter',\n",
              " 'butterscotch',\n",
              " 'button',\n",
              " 'buttons',\n",
              " 'buy',\n",
              " 'buying',\n",
              " 'bwahahahahahahahahahaha',\n",
              " 'by',\n",
              " 'byb',\n",
              " 'bye',\n",
              " 'byeee',\n",
              " 'byeeee',\n",
              " 'byeeeeeeee',\n",
              " 'byeeeeeeeeeeeee',\n",
              " 'byes']"
            ]
          },
          "metadata": {
            "tags": []
          },
          "execution_count": 83
        }
      ]
    },
    {
      "cell_type": "markdown",
      "metadata": {
        "id": "DjyTytd1_G4i"
      },
      "source": [
        "16. Type the expression **range(10)** at the interpreter prompt. Now try **range(10,20)** , **range(10, 20, 2)** , and **range(20, 10, -2)** . We will see a variety of uses for this built-in function in later chapters."
      ]
    },
    {
      "cell_type": "code",
      "metadata": {
        "id": "KrPBISyBmCJ_",
        "colab": {
          "base_uri": "https://localhost:8080/",
          "height": 34
        },
        "outputId": "1ec34e23-7c78-457c-89d6-892f4fffa7bf"
      },
      "source": [
        "list(range(10))"
      ],
      "execution_count": null,
      "outputs": [
        {
          "output_type": "execute_result",
          "data": {
            "text/plain": [
              "[0, 1, 2, 3, 4, 5, 6, 7, 8, 9]"
            ]
          },
          "metadata": {
            "tags": []
          },
          "execution_count": 98
        }
      ]
    },
    {
      "cell_type": "code",
      "metadata": {
        "id": "cvrYd2vumMkA",
        "colab": {
          "base_uri": "https://localhost:8080/",
          "height": 34
        },
        "outputId": "abc16703-8e43-41c0-8766-ec6665bce97a"
      },
      "source": [
        "list(range(10,20))"
      ],
      "execution_count": null,
      "outputs": [
        {
          "output_type": "execute_result",
          "data": {
            "text/plain": [
              "[10, 11, 12, 13, 14, 15, 16, 17, 18, 19]"
            ]
          },
          "metadata": {
            "tags": []
          },
          "execution_count": 99
        }
      ]
    },
    {
      "cell_type": "code",
      "metadata": {
        "id": "DgZsqHXemajM",
        "colab": {
          "base_uri": "https://localhost:8080/",
          "height": 34
        },
        "outputId": "a9625fa1-3450-4944-b4a5-456b3ed01766"
      },
      "source": [
        "list(range(10, 20, 2))"
      ],
      "execution_count": null,
      "outputs": [
        {
          "output_type": "execute_result",
          "data": {
            "text/plain": [
              "[10, 12, 14, 16, 18]"
            ]
          },
          "metadata": {
            "tags": []
          },
          "execution_count": 102
        }
      ]
    },
    {
      "cell_type": "code",
      "metadata": {
        "id": "eyoPtdddnHty",
        "colab": {
          "base_uri": "https://localhost:8080/",
          "height": 34
        },
        "outputId": "682a2f8b-18d1-4ce8-b4ae-0cf1666f0a5a"
      },
      "source": [
        "list(range(20, 10, -2))"
      ],
      "execution_count": null,
      "outputs": [
        {
          "output_type": "execute_result",
          "data": {
            "text/plain": [
              "[20, 18, 16, 14, 12]"
            ]
          },
          "metadata": {
            "tags": []
          },
          "execution_count": 103
        }
      ]
    },
    {
      "cell_type": "markdown",
      "metadata": {
        "id": "tuRdqN3I_LCK"
      },
      "source": [
        "17. Use text9.index() to find the index of the word sunset. You’ll need to insert this word as an argument between the parentheses. By a process of trial and error, find the slice for the complete sentence that contains this word."
      ]
    },
    {
      "cell_type": "code",
      "metadata": {
        "id": "VP05tKXWnY1A",
        "colab": {
          "base_uri": "https://localhost:8080/",
          "height": 34
        },
        "outputId": "0728f0e2-4077-4fb3-e8c7-234249bfa359"
      },
      "source": [
        "text9.index('sunset')"
      ],
      "execution_count": null,
      "outputs": [
        {
          "output_type": "execute_result",
          "data": {
            "text/plain": [
              "629"
            ]
          },
          "metadata": {
            "tags": []
          },
          "execution_count": 104
        }
      ]
    },
    {
      "cell_type": "code",
      "metadata": {
        "id": "oiG-kQ11nkRV",
        "colab": {
          "base_uri": "https://localhost:8080/",
          "height": 35
        },
        "outputId": "416dc400-e0a2-4b64-ae4d-f1155367279b"
      },
      "source": [
        "a=text9[621:644]\n",
        "' '.join(a)"
      ],
      "execution_count": null,
      "outputs": [
        {
          "output_type": "execute_result",
          "data": {
            "application/vnd.google.colaboratory.intrinsic+json": {
              "type": "string"
            },
            "text/plain": [
              "'THE suburb of Saffron Park lay on the sunset side of London , as red and ragged as a cloud of sunset .'"
            ]
          },
          "metadata": {
            "tags": []
          },
          "execution_count": 120
        }
      ]
    },
    {
      "cell_type": "markdown",
      "metadata": {
        "id": "sXhGiRekA9jG"
      },
      "source": [
        "18. Using list addition, and the set and sorted operations, compute the vocabulary of the sentences sent1 ... sent8 ."
      ]
    },
    {
      "cell_type": "code",
      "metadata": {
        "id": "Bca0C5OItA5c",
        "colab": {
          "base_uri": "https://localhost:8080/",
          "height": 34
        },
        "outputId": "b8fd47f0-86f4-45cb-b5b1-435b2dd8b473"
      },
      "source": [
        "t=sent1+sent2+sent3+sent4+sent5+sent6+sent7+sent8\n",
        "len(set([word.lower() for word in t if word.isalpha()]))"
      ],
      "execution_count": null,
      "outputs": [
        {
          "output_type": "execute_result",
          "data": {
            "text/plain": [
              "60"
            ]
          },
          "metadata": {
            "tags": []
          },
          "execution_count": 146
        }
      ]
    },
    {
      "cell_type": "markdown",
      "metadata": {
        "id": "bQSfdpIPBOYL"
      },
      "source": [
        "19. What is the difference between the following two lines? Which one will give a\n",
        "larger value? Will this be the case for other texts?\n",
        ">>> sorted(set([w.lower() for w in text1]))  \n",
        ">>> sorted([w.lower() for w in set(text1)])"
      ]
    },
    {
      "cell_type": "code",
      "metadata": {
        "id": "y0WDDoNBukAM",
        "colab": {
          "base_uri": "https://localhost:8080/",
          "height": 34
        },
        "outputId": "a589e040-15dc-448a-b20f-a5967c01b8a7"
      },
      "source": [
        "len(set([w.lower() for w in text1]))"
      ],
      "execution_count": null,
      "outputs": [
        {
          "output_type": "execute_result",
          "data": {
            "text/plain": [
              "17231"
            ]
          },
          "metadata": {
            "tags": []
          },
          "execution_count": 148
        }
      ]
    },
    {
      "cell_type": "code",
      "metadata": {
        "id": "6rus0eOPu0IC",
        "colab": {
          "base_uri": "https://localhost:8080/",
          "height": 34
        },
        "outputId": "1b264dfc-719a-4636-e37c-67c8cdc5bc38"
      },
      "source": [
        "len([w.lower() for w in set(text1)])"
      ],
      "execution_count": null,
      "outputs": [
        {
          "output_type": "execute_result",
          "data": {
            "text/plain": [
              "19317"
            ]
          },
          "metadata": {
            "tags": []
          },
          "execution_count": 149
        }
      ]
    },
    {
      "cell_type": "markdown",
      "metadata": {
        "id": "GepoLxt-Fm_M"
      },
      "source": [
        "20. What is the difference between the following two tests: w.isupper() and not\n",
        "w.islower() ?"
      ]
    },
    {
      "cell_type": "code",
      "metadata": {
        "id": "t-GYmIi1u6TK",
        "colab": {
          "base_uri": "https://localhost:8080/",
          "height": 52
        },
        "outputId": "a40d5b58-e104-42f2-f9c7-fee3feac1a1c"
      },
      "source": [
        "w='Good'\n",
        "print(w.isupper())\n",
        "print(not w.islower())"
      ],
      "execution_count": null,
      "outputs": [
        {
          "output_type": "stream",
          "text": [
            "False\n",
            "True\n"
          ],
          "name": "stdout"
        }
      ]
    },
    {
      "cell_type": "markdown",
      "metadata": {
        "id": "NYZ2r_2N0Hoc"
      },
      "source": [
        ">>w.isupper :  True only when all letters are CAPTIAL. atleast 1 non-capitalized makes it false.   \n",
        "w.islower: True only when all letters are not CAPTIAL. atleast 1 capitalized makes it false.   \n",
        "therefore,  **not w.lower** is **not(all CAP)** => **false ** & **not(atleast one cap)** => **true**\n",
        "            "
      ]
    },
    {
      "cell_type": "markdown",
      "metadata": {
        "id": "wEBlj6U1FtV1"
      },
      "source": [
        "21. Write the slice expression that extracts the last two words of text2 ."
      ]
    },
    {
      "cell_type": "code",
      "metadata": {
        "id": "nhK4EizO1OZh",
        "colab": {
          "base_uri": "https://localhost:8080/",
          "height": 34
        },
        "outputId": "6dc91269-3cc9-4a1f-d26c-e57c3b195edf"
      },
      "source": [
        "text2[-2:]"
      ],
      "execution_count": null,
      "outputs": [
        {
          "output_type": "execute_result",
          "data": {
            "text/plain": [
              "['THE', 'END']"
            ]
          },
          "metadata": {
            "tags": []
          },
          "execution_count": 167
        }
      ]
    },
    {
      "cell_type": "markdown",
      "metadata": {
        "id": "LIQkoQGFFy79"
      },
      "source": [
        "22. Find all the four-letter words in the Chat Corpus ( text5 ). With the help of a frequency distribution ( FreqDist ), show these words in decreasing order of frequency."
      ]
    },
    {
      "cell_type": "code",
      "metadata": {
        "id": "IvVtHaBS1NtV",
        "colab": {
          "base_uri": "https://localhost:8080/",
          "height": 296
        },
        "outputId": "30c8eec5-8461-490a-f50c-dafc56b41f4f"
      },
      "source": [
        "dfreq=FreqDist(sorted([w for w in text5 if len(w)==4],reverse=True))\n",
        "dfreq.plot(20, cumulative=True)"
      ],
      "execution_count": null,
      "outputs": [
        {
          "output_type": "display_data",
          "data": {
            "image/png": "[encoded data removed]",
            "text/plain": [
              "<Figure size 432x288 with 1 Axes>"
            ]
          },
          "metadata": {
            "tags": [],
            "needs_background": "light"
          }
        }
      ]
    },
    {
      "cell_type": "markdown",
      "metadata": {
        "id": "fz9cef0XF4o2"
      },
      "source": [
        "23. Review the discussion of looping with conditions in Section 1.4. Use a combination of for and if statements to loop over the words of the movie script for Monty Python and the Holy Grail ( text6 ) and print all the uppercase words, one per line."
      ]
    },
    {
      "cell_type": "code",
      "metadata": {
        "id": "5ePAhC1p4ggI",
        "colab": {
          "base_uri": "https://localhost:8080/",
          "height": 1000
        },
        "outputId": "676d3d76-9c89-4d68-a1ee-e1c74343877e"
      },
      "source": [
        "for word in text6:\n",
        "  if word.isupper():\n",
        "    print(word)"
      ],
      "execution_count": null,
      "outputs": [
        {
          "output_type": "stream",
          "text": [
            "SCENE\n",
            "KING\n",
            "ARTHUR\n",
            "SOLDIER\n",
            "ARTHUR\n",
            "I\n",
            "SOLDIER\n",
            "ARTHUR\n",
            "I\n",
            "I\n",
            "SOLDIER\n",
            "ARTHUR\n",
            "SOLDIER\n",
            "ARTHUR\n",
            "SOLDIER\n",
            "ARTHUR\n",
            "SOLDIER\n",
            "ARTHUR\n",
            "SOLDIER\n",
            "ARTHUR\n",
            "SOLDIER\n",
            "ARTHUR\n",
            "SOLDIER\n",
            "ARTHUR\n",
            "SOLDIER\n",
            "A\n",
            "ARTHUR\n",
            "SOLDIER\n",
            "A\n",
            "ARTHUR\n",
            "SOLDIER\n",
            "ARTHUR\n",
            "SOLDIER\n",
            "I\n",
            "ARTHUR\n",
            "I\n",
            "SOLDIER\n",
            "SOLDIER\n",
            "SOLDIER\n",
            "I\n",
            "ARTHUR\n",
            "SOLDIER\n",
            "SOLDIER\n",
            "SOLDIER\n",
            "SOLDIER\n",
            "SOLDIER\n",
            "SOLDIER\n",
            "SOLDIER\n",
            "SOLDIER\n",
            "SCENE\n",
            "CART\n",
            "MASTER\n",
            "CUSTOMER\n",
            "CART\n",
            "MASTER\n",
            "DEAD\n",
            "PERSON\n",
            "I\n",
            "CART\n",
            "MASTER\n",
            "CUSTOMER\n",
            "DEAD\n",
            "PERSON\n",
            "I\n",
            "CART\n",
            "MASTER\n",
            "CUSTOMER\n",
            "DEAD\n",
            "PERSON\n",
            "I\n",
            "CART\n",
            "MASTER\n",
            "CUSTOMER\n",
            "DEAD\n",
            "PERSON\n",
            "I\n",
            "CUSTOMER\n",
            "CART\n",
            "MASTER\n",
            "I\n",
            "DEAD\n",
            "PERSON\n",
            "I\n",
            "CUSTOMER\n",
            "CART\n",
            "MASTER\n",
            "I\n",
            "DEAD\n",
            "PERSON\n",
            "I\n",
            "CUSTOMER\n",
            "CART\n",
            "MASTER\n",
            "I\n",
            "CUSTOMER\n",
            "CART\n",
            "MASTER\n",
            "I\n",
            "CUSTOMER\n",
            "CART\n",
            "MASTER\n",
            "DEAD\n",
            "PERSON\n",
            "I\n",
            "I\n",
            "CUSTOMER\n",
            "DEAD\n",
            "PERSON\n",
            "I\n",
            "I\n",
            "CUSTOMER\n",
            "CART\n",
            "MASTER\n",
            "CUSTOMER\n",
            "CART\n",
            "MASTER\n",
            "I\n",
            "CUSTOMER\n",
            "CART\n",
            "MASTER\n",
            "SCENE\n",
            "ARTHUR\n",
            "DENNIS\n",
            "ARTHUR\n",
            "DENNIS\n",
            "I\n",
            "ARTHUR\n",
            "I\n",
            "DENNIS\n",
            "I\n",
            "I\n",
            "ARTHUR\n",
            "I\n",
            "DENNIS\n",
            "ARTHUR\n",
            "I\n",
            "DENNIS\n",
            "ARTHUR\n",
            "I\n",
            "DENNIS\n",
            "I\n",
            "ARTHUR\n",
            "I\n",
            "DENNIS\n",
            "WOMAN\n",
            "ARTHUR\n",
            "I\n",
            "WOMAN\n",
            "ARTHUR\n",
            "WOMAN\n",
            "ARTHUR\n",
            "I\n",
            "WOMAN\n",
            "I\n",
            "I\n",
            "DENNIS\n",
            "A\n",
            "WOMAN\n",
            "DENNIS\n",
            "ARTHUR\n",
            "I\n",
            "WOMAN\n",
            "ARTHUR\n",
            "WOMAN\n",
            "ARTHUR\n",
            "DENNIS\n",
            "I\n",
            "ARTHUR\n",
            "DENNIS\n",
            "ARTHUR\n",
            "I\n",
            "DENNIS\n",
            "ARTHUR\n",
            "DENNIS\n",
            "ARTHUR\n",
            "I\n",
            "WOMAN\n",
            "ARTHUR\n",
            "I\n",
            "WOMAN\n",
            "I\n",
            "ARTHUR\n",
            "WOMAN\n",
            "ARTHUR\n",
            "I\n",
            "I\n",
            "DENNIS\n",
            "ARTHUR\n",
            "DENNIS\n",
            "ARTHUR\n",
            "DENNIS\n",
            "I\n",
            "I\n",
            "I\n",
            "ARTHUR\n",
            "DENNIS\n",
            "ARTHUR\n",
            "DENNIS\n",
            "I\n",
            "ARTHUR\n",
            "DENNIS\n",
            "I\n",
            "SCENE\n",
            "BLACK\n",
            "KNIGHT\n",
            "BLACK\n",
            "KNIGHT\n",
            "GREEN\n",
            "KNIGHT\n",
            "BLACK\n",
            "KNIGHT\n",
            "GREEN\n",
            "KNIGHT\n",
            "BLACK\n",
            "KNIGHT\n",
            "BLACK\n",
            "KNIGHT\n",
            "GREEN\n",
            "KNIGHT\n",
            "GREEN\n",
            "KNIGHT\n",
            "BLACK\n",
            "KNIGHT\n",
            "GREEN\n",
            "KNIGHT\n",
            "BLACK\n",
            "KNIGHT\n",
            "ARTHUR\n",
            "I\n",
            "I\n",
            "BLACK\n",
            "KNIGHT\n",
            "ARTHUR\n",
            "BLACK\n",
            "KNIGHT\n",
            "ARTHUR\n",
            "I\n",
            "I\n",
            "BLACK\n",
            "KNIGHT\n",
            "ARTHUR\n",
            "I\n",
            "BLACK\n",
            "KNIGHT\n",
            "I\n",
            "ARTHUR\n",
            "ARTHUR\n",
            "BLACK\n",
            "KNIGHT\n",
            "ARTHUR\n",
            "BLACK\n",
            "KNIGHT\n",
            "ARTHUR\n",
            "BLACK\n",
            "KNIGHT\n",
            "ARTHUR\n",
            "A\n",
            "BLACK\n",
            "KNIGHT\n",
            "ARTHUR\n",
            "BLACK\n",
            "KNIGHT\n",
            "I\n",
            "ARTHUR\n",
            "BLACK\n",
            "KNIGHT\n",
            "ARTHUR\n",
            "BLACK\n",
            "KNIGHT\n",
            "ARTHUR\n",
            "BLACK\n",
            "KNIGHT\n",
            "ARTHUR\n",
            "BLACK\n",
            "KNIGHT\n",
            "ARTHUR\n",
            "BLACK\n",
            "KNIGHT\n",
            "ARTHUR\n",
            "BLACK\n",
            "KNIGHT\n",
            "I\n",
            "ARTHUR\n",
            "BLACK\n",
            "KNIGHT\n",
            "ARTHUR\n",
            "BLACK\n",
            "KNIGHT\n",
            "ARTHUR\n",
            "I\n",
            "ARTHUR\n",
            "BLACK\n",
            "KNIGHT\n",
            "BLACK\n",
            "KNIGHT\n",
            "I\n",
            "ARTHUR\n",
            "BLACK\n",
            "KNIGHT\n",
            "ARTHUR\n",
            "BLACK\n",
            "KNIGHT\n",
            "I\n",
            "ARTHUR\n",
            "BLACK\n",
            "KNIGHT\n",
            "ARTHUR\n",
            "BLACK\n",
            "KNIGHT\n",
            "BLACK\n",
            "KNIGHT\n",
            "ARTHUR\n",
            "BLACK\n",
            "KNIGHT\n",
            "I\n",
            "I\n",
            "SCENE\n",
            "MONKS\n",
            "CROWD\n",
            "A\n",
            "A\n",
            "A\n",
            "A\n",
            "MONKS\n",
            "CROWD\n",
            "A\n",
            "A\n",
            "A\n",
            "A\n",
            "A\n",
            "A\n",
            "A\n",
            "A\n",
            "A\n",
            "A\n",
            "A\n",
            "A\n",
            "A\n",
            "VILLAGER\n",
            "CROWD\n",
            "BEDEVERE\n",
            "VILLAGER\n",
            "CROWD\n",
            "BEDEVERE\n",
            "WITCH\n",
            "I\n",
            "I\n",
            "BEDEVERE\n",
            "WITCH\n",
            "CROWD\n",
            "WITCH\n",
            "BEDEVERE\n",
            "VILLAGER\n",
            "BEDEVERE\n",
            "VILLAGER\n",
            "VILLAGER\n",
            "CROWD\n",
            "BEDEVERE\n",
            "VILLAGER\n",
            "VILLAGER\n",
            "VILLAGER\n",
            "VILLAGER\n",
            "VILLAGERS\n",
            "VILLAGER\n",
            "VILLAGER\n",
            "VILLAGER\n",
            "VILLAGER\n",
            "A\n",
            "VILLAGERS\n",
            "A\n",
            "VILLAGER\n",
            "A\n",
            "VILLAGER\n",
            "RANDOM\n",
            "BEDEVERE\n",
            "VILLAGER\n",
            "BEDEVERE\n",
            "A\n",
            "VILLAGER\n",
            "I\n",
            "VILLAGER\n",
            "VILLAGER\n",
            "CROWD\n",
            "BEDEVERE\n",
            "VILLAGER\n",
            "VILLAGER\n",
            "VILLAGER\n",
            "CROWD\n",
            "BEDEVERE\n",
            "VILLAGER\n",
            "VILLAGER\n",
            "CROWD\n",
            "BEDEVERE\n",
            "VILLAGER\n",
            "VILLAGER\n",
            "VILLAGER\n",
            "BEDEVERE\n",
            "VILLAGER\n",
            "B\n",
            "BEDEVERE\n",
            "CROWD\n",
            "BEDEVERE\n",
            "VILLAGER\n",
            "BEDEVERE\n",
            "VILLAGER\n",
            "RANDOM\n",
            "BEDEVERE\n",
            "VILLAGER\n",
            "VILLAGER\n",
            "VILLAGER\n",
            "CROWD\n",
            "BEDEVERE\n",
            "VILLAGER\n",
            "VILLAGER\n",
            "VILLAGER\n",
            "VILLAGER\n",
            "VILLAGER\n",
            "VILLAGER\n",
            "VILLAGER\n",
            "VILLAGER\n",
            "VILLAGER\n",
            "ARTHUR\n",
            "A\n",
            "CROWD\n",
            "BEDEVERE\n",
            "VILLAGER\n",
            "BEDEVERE\n",
            "VILLAGER\n",
            "A\n",
            "VILLAGER\n",
            "A\n",
            "CROWD\n",
            "A\n",
            "A\n",
            "VILLAGER\n",
            "BEDEVERE\n",
            "CROWD\n",
            "BEDEVERE\n",
            "CROWD\n",
            "A\n",
            "A\n",
            "A\n",
            "WITCH\n",
            "VILLAGER\n",
            "CROWD\n",
            "BEDEVERE\n",
            "ARTHUR\n",
            "I\n",
            "BEDEVERE\n",
            "ARTHUR\n",
            "BEDEVERE\n",
            "I\n",
            "ARTHUR\n",
            "BEDEVERE\n",
            "ARTHUR\n",
            "I\n",
            "NARRATOR\n",
            "SCENE\n",
            "SIR\n",
            "BEDEVERE\n",
            "ARTHUR\n",
            "BEDEVERE\n",
            "SIR\n",
            "LAUNCELOT\n",
            "ARTHUR\n",
            "SIR\n",
            "GALAHAD\n",
            "LAUNCELOT\n",
            "PATSY\n",
            "ARTHUR\n",
            "I\n",
            "KNIGHTS\n",
            "PRISONER\n",
            "KNIGHTS\n",
            "MAN\n",
            "I\n",
            "ARTHUR\n",
            "KNIGHTS\n",
            "SCENE\n",
            "GOD\n",
            "I\n",
            "ARTHUR\n",
            "GOD\n",
            "I\n",
            "I\n",
            "ARTHUR\n",
            "I\n",
            "O\n",
            "GOD\n",
            "ARTHUR\n",
            "GOD\n",
            "ARTHUR\n",
            "O\n",
            "GOD\n",
            "LAUNCELOT\n",
            "A\n",
            "A\n",
            "GALAHAD\n",
            "SCENE\n",
            "ARTHUR\n",
            "FRENCH\n",
            "GUARD\n",
            "ARTHUR\n",
            "FRENCH\n",
            "GUARD\n",
            "ARTHUR\n",
            "FRENCH\n",
            "GUARD\n",
            "I\n",
            "I\n",
            "ARTHUR\n",
            "GALAHAD\n",
            "ARTHUR\n",
            "FRENCH\n",
            "GUARD\n",
            "I\n",
            "ARTHUR\n",
            "FRENCH\n",
            "GUARD\n",
            "ARTHUR\n",
            "FRENCH\n",
            "GUARD\n",
            "I\n",
            "I\n",
            "GALAHAD\n",
            "FRENCH\n",
            "GUARD\n",
            "ARTHUR\n",
            "FRENCH\n",
            "GUARD\n",
            "I\n",
            "GALAHAD\n",
            "ARTHUR\n",
            "FRENCH\n",
            "GUARD\n",
            "I\n",
            "I\n",
            "GALAHAD\n",
            "FRENCH\n",
            "GUARD\n",
            "I\n",
            "ARTHUR\n",
            "I\n",
            "FRENCH\n",
            "GUARD\n",
            "OTHER\n",
            "FRENCH\n",
            "GUARD\n",
            "FRENCH\n",
            "GUARD\n",
            "ARTHUR\n",
            "I\n",
            "KNIGHTS\n",
            "ARTHUR\n",
            "KNIGHTS\n",
            "FRENCH\n",
            "GUARD\n",
            "FRENCH\n",
            "GUARD\n",
            "ARTHUR\n",
            "KNIGHTS\n",
            "FRENCH\n",
            "GUARD\n",
            "FRENCH\n",
            "GUARDS\n",
            "LAUNCELOT\n",
            "I\n",
            "ARTHUR\n",
            "BEDEVERE\n",
            "I\n",
            "FRENCH\n",
            "GUARDS\n",
            "C\n",
            "A\n",
            "ARTHUR\n",
            "BEDEVERE\n",
            "I\n",
            "ARTHUR\n",
            "BEDEVERE\n",
            "U\n",
            "I\n",
            "ARTHUR\n",
            "BEDEVERE\n",
            "ARTHUR\n",
            "KNIGHTS\n",
            "CRASH\n",
            "FRENCH\n",
            "GUARDS\n",
            "SCENE\n",
            "VOICE\n",
            "DIRECTOR\n",
            "HISTORIAN\n",
            "KNIGHT\n",
            "KNIGHT\n",
            "HISTORIAN\n",
            "HISTORIAN\n",
            "S\n",
            "WIFE\n",
            "SCENE\n",
            "NARRATOR\n",
            "MINSTREL\n",
            "O\n",
            "SIR\n",
            "ROBIN\n",
            "DENNIS\n",
            "WOMAN\n",
            "ALL\n",
            "HEADS\n",
            "MINSTREL\n",
            "ROBIN\n",
            "I\n",
            "ALL\n",
            "HEADS\n",
            "MINSTREL\n",
            "ROBIN\n",
            "I\n",
            "ALL\n",
            "HEADS\n",
            "I\n",
            "ROBIN\n",
            "W\n",
            "I\n",
            "I\n",
            "ALL\n",
            "HEADS\n",
            "ROBIN\n",
            "I\n",
            "LEFT\n",
            "HEAD\n",
            "I\n",
            "MIDDLE\n",
            "HEAD\n",
            "I\n",
            "RIGHT\n",
            "HEAD\n",
            "I\n",
            "MIDDLE\n",
            "HEAD\n",
            "I\n",
            "LEFT\n",
            "HEAD\n",
            "I\n",
            "RIGHT\n",
            "HEAD\n",
            "LEFT\n",
            "HEAD\n",
            "ROBIN\n",
            "I\n",
            "LEFT\n",
            "HEAD\n",
            "I\n",
            "RIGHT\n",
            "HEAD\n",
            "MIDDLE\n",
            "HEAD\n",
            "LEFT\n",
            "HEAD\n",
            "RIGHT\n",
            "HEAD\n",
            "MIDDLE\n",
            "HEAD\n",
            "LEFT\n",
            "HEAD\n",
            "MIDDLE\n",
            "HEAD\n",
            "LEFT\n",
            "HEAD\n",
            "I\n",
            "MIDDLE\n",
            "HEAD\n",
            "RIGHT\n",
            "HEAD\n",
            "LEFT\n",
            "HEAD\n",
            "MIDDLE\n",
            "HEAD\n",
            "RIGHT\n",
            "HEAD\n",
            "LEFT\n",
            "HEAD\n",
            "ALL\n",
            "HEADS\n",
            "MIDDLE\n",
            "HEAD\n",
            "RIGHT\n",
            "HEAD\n",
            "MINSTREL\n",
            "ROBIN\n",
            "MINSTREL\n",
            "ROBIN\n",
            "I\n",
            "MINSTREL\n",
            "ROBIN\n",
            "MINSTREL\n",
            "ROBIN\n",
            "I\n",
            "MINSTREL\n",
            "ROBIN\n",
            "I\n",
            "MINSTREL\n",
            "ROBIN\n",
            "MINSTREL\n",
            "ROBIN\n",
            "I\n",
            "CARTOON\n",
            "MONKS\n",
            "CARTOON\n",
            "CHARACTER\n",
            "CARTOON\n",
            "MONKS\n",
            "CARTOON\n",
            "CHARACTERS\n",
            "CARTOON\n",
            "MONKS\n",
            "CARTOON\n",
            "CHARACTER\n",
            "VOICE\n",
            "CARTOON\n",
            "CHARACTER\n",
            "SCENE\n",
            "NARRATOR\n",
            "GALAHAD\n",
            "GIRLS\n",
            "ZOOT\n",
            "GALAHAD\n",
            "ZOOT\n",
            "GALAHAD\n",
            "ZOOT\n",
            "GALAHAD\n",
            "ZOOT\n",
            "MIDGET\n",
            "CRAPPER\n",
            "O\n",
            "ZOOT\n",
            "MIDGET\n",
            "CRAPPER\n",
            "ZOOT\n",
            "GALAHAD\n",
            "I\n",
            "I\n",
            "ZOOT\n",
            "GALAHAD\n",
            "ZOOT\n",
            "GALAHAD\n",
            "ZOOT\n",
            "GALAHAD\n",
            "I\n",
            "ZOOT\n",
            "GALAHAD\n",
            "I\n",
            "I\n",
            "ZOOT\n",
            "I\n",
            "GALAHAD\n",
            "ZOOT\n",
            "PIGLET\n",
            "GALAHAD\n",
            "ZOOT\n",
            "GALAHAD\n",
            "B\n",
            "ZOOT\n",
            "WINSTON\n",
            "GALAHAD\n",
            "PIGLET\n",
            "GALAHAD\n",
            "PIGLET\n",
            "GALAHAD\n",
            "I\n",
            "PIGLET\n",
            "GALAHAD\n",
            "I\n",
            "PIGLET\n",
            "GALAHAD\n",
            "I\n",
            "I\n",
            "I\n",
            "GIRLS\n",
            "GALAHAD\n",
            "GIRLS\n",
            "GALAHAD\n",
            "DINGO\n",
            "I\n",
            "GALAHAD\n",
            "I\n",
            "DINGO\n",
            "GALAHAD\n",
            "I\n",
            "I\n",
            "DINGO\n",
            "GALAHAD\n",
            "DINGO\n",
            "I\n",
            "GALAHAD\n",
            "DINGO\n",
            "I\n",
            "LEFT\n",
            "HEAD\n",
            "DENNIS\n",
            "OLD\n",
            "MAN\n",
            "TIM\n",
            "THE\n",
            "ENCHANTER\n",
            "ARMY\n",
            "OF\n",
            "KNIGHTS\n",
            "DINGO\n",
            "I\n",
            "GOD\n",
            "DINGO\n",
            "GIRLS\n",
            "A\n",
            "A\n",
            "DINGO\n",
            "AMAZING\n",
            "STUNNER\n",
            "LOVELY\n",
            "DINGO\n",
            "GIRLS\n",
            "A\n",
            "A\n",
            "DINGO\n",
            "GIRLS\n",
            "GALAHAD\n",
            "I\n",
            "LAUNCELOT\n",
            "GALAHAD\n",
            "LAUNCELOT\n",
            "GALAHAD\n",
            "LAUNCELOT\n",
            "GALAHAD\n",
            "LAUNCELOT\n",
            "DINGO\n",
            "LAUNCELOT\n",
            "GALAHAD\n",
            "LAUNCELOT\n",
            "GALAHAD\n",
            "I\n",
            "LAUNCELOT\n",
            "GIRLS\n",
            "GALAHAD\n",
            "I\n",
            "DINGO\n",
            "GIRLS\n",
            "LAUNCELOT\n",
            "GALAHAD\n",
            "I\n",
            "I\n",
            "DINGO\n",
            "GIRLS\n",
            "LAUNCELOT\n",
            "GALAHAD\n",
            "I\n",
            "DINGO\n",
            "GIRLS\n",
            "DINGO\n",
            "LAUNCELOT\n",
            "GALAHAD\n",
            "I\n",
            "I\n",
            "LAUNCELOT\n",
            "GALAHAD\n",
            "LAUNCELOT\n",
            "GALAHAD\n",
            "I\n",
            "LAUNCELOT\n",
            "GALAHAD\n",
            "LAUNCELOT\n",
            "GALAHAD\n",
            "I\n",
            "LAUNCELOT\n",
            "I\n",
            "NARRATOR\n",
            "I\n",
            "I\n",
            "CROWD\n",
            "NARRATOR\n",
            "I\n",
            "SCENE\n",
            "OLD\n",
            "MAN\n",
            "ARTHUR\n",
            "OLD\n",
            "MAN\n",
            "ARTHUR\n",
            "OLD\n",
            "MAN\n",
            "ARTHUR\n",
            "OLD\n",
            "MAN\n",
            "ARTHUR\n",
            "OLD\n",
            "MAN\n",
            "ARTHUR\n",
            "OLD\n",
            "MAN\n",
            "ARTHUR\n",
            "OLD\n",
            "MAN\n",
            "SCENE\n",
            "HEAD\n",
            "KNIGHT\n",
            "OF\n",
            "NI\n",
            "KNIGHTS\n",
            "OF\n",
            "NI\n",
            "ARTHUR\n",
            "HEAD\n",
            "KNIGHT\n",
            "RANDOM\n",
            "ARTHUR\n",
            "HEAD\n",
            "KNIGHT\n",
            "BEDEVERE\n",
            "HEAD\n",
            "KNIGHT\n",
            "RANDOM\n",
            "ARTHUR\n",
            "HEAD\n",
            "KNIGHT\n",
            "ARTHUR\n",
            "HEAD\n",
            "KNIGHT\n",
            "KNIGHTS\n",
            "OF\n",
            "NI\n",
            "ARTHUR\n",
            "HEAD\n",
            "KNIGHT\n",
            "ARTHUR\n",
            "HEAD\n",
            "KNIGHT\n",
            "ARTHUR\n",
            "A\n",
            "KNIGHTS\n",
            "OF\n",
            "NI\n",
            "ARTHUR\n",
            "PARTY\n",
            "ARTHUR\n",
            "HEAD\n",
            "KNIGHT\n",
            "ARTHUR\n",
            "O\n",
            "HEAD\n",
            "KNIGHT\n",
            "ARTHUR\n",
            "HEAD\n",
            "KNIGHT\n",
            "ARTHUR\n",
            "HEAD\n",
            "KNIGHT\n",
            "CARTOON\n",
            "CHARACTER\n",
            "SUN\n",
            "CARTOON\n",
            "CHARACTER\n",
            "SUN\n",
            "CARTOON\n",
            "CHARACTER\n",
            "SUN\n",
            "CARTOON\n",
            "CHARACTER\n",
            "SCENE\n",
            "NARRATOR\n",
            "FATHER\n",
            "PRINCE\n",
            "HERBERT\n",
            "FATHER\n",
            "HERBERT\n",
            "FATHER\n",
            "HERBERT\n",
            "B\n",
            "I\n",
            "FATHER\n",
            "I\n",
            "I\n",
            "I\n",
            "I\n",
            "I\n",
            "I\n",
            "HERBERT\n",
            "I\n",
            "I\n",
            "FATHER\n",
            "HERBERT\n",
            "I\n",
            "FATHER\n",
            "I\n",
            "HERBERT\n",
            "B\n",
            "I\n",
            "FATHER\n",
            "HERBERT\n",
            "FATHER\n",
            "HERBERT\n",
            "I\n",
            "FATHER\n",
            "HERBERT\n",
            "I\n",
            "I\n",
            "I\n",
            "FATHER\n",
            "I\n",
            "GUARD\n",
            "GUARD\n",
            "FATHER\n",
            "I\n",
            "GUARD\n",
            "FATHER\n",
            "GUARD\n",
            "GUARD\n",
            "FATHER\n",
            "GUARD\n",
            "FATHER\n",
            "GUARD\n",
            "FATHER\n",
            "GUARD\n",
            "GUARD\n",
            "FATHER\n",
            "GUARD\n",
            "FATHER\n",
            "GUARD\n",
            "FATHER\n",
            "GUARD\n",
            "FATHER\n",
            "GUARD\n",
            "FATHER\n",
            "GUARD\n",
            "I\n",
            "FATHER\n",
            "N\n",
            "GUARD\n",
            "FATHER\n",
            "GUARD\n",
            "FATHER\n",
            "GUARD\n",
            "GUARD\n",
            "FATHER\n",
            "GUARD\n",
            "FATHER\n",
            "GUARD\n",
            "GUARD\n",
            "FATHER\n",
            "GUARD\n",
            "FATHER\n",
            "GUARD\n",
            "FATHER\n",
            "GUARD\n",
            "GUARD\n",
            "GUARD\n",
            "I\n",
            "FATHER\n",
            "GUARD\n",
            "GUARD\n",
            "FATHER\n",
            "GUARD\n",
            "FATHER\n",
            "I\n",
            "GUARD\n",
            "I\n",
            "HERBERT\n",
            "FATHER\n",
            "GUARD\n",
            "FATHER\n",
            "SCENE\n",
            "LAUNCELOT\n",
            "CONCORDE\n",
            "LAUNCELOT\n",
            "CONCORDE\n",
            "LAUNCELOT\n",
            "I\n",
            "I\n",
            "A\n",
            "A\n",
            "CONCORDE\n",
            "I\n",
            "I\n",
            "LAUNCELOT\n",
            "CONCORDE\n",
            "I\n",
            "I\n",
            "I\n",
            "I\n",
            "I\n",
            "LAUNCELOT\n",
            "I\n",
            "CONCORDE\n",
            "I\n",
            "I\n",
            "LAUNCELOT\n",
            "I\n",
            "I\n",
            "CONCORDE\n",
            "LAUNCELOT\n",
            "CONCORDE\n",
            "I\n",
            "LAUNCELOT\n",
            "CONCORDE\n",
            "I\n",
            "I\n",
            "I\n",
            "SCENE\n",
            "PRINCESS\n",
            "LUCKY\n",
            "GIRLS\n",
            "GUEST\n",
            "SENTRY\n",
            "SENTRY\n",
            "SENTRY\n",
            "LAUNCELOT\n",
            "SENTRY\n",
            "LAUNCELOT\n",
            "PRINCESS\n",
            "LUCKY\n",
            "GIRLS\n",
            "LAUNCELOT\n",
            "GUESTS\n",
            "LAUNCELOT\n",
            "GUARD\n",
            "LAUNCELOT\n",
            "O\n",
            "I\n",
            "I\n",
            "HERBERT\n",
            "LAUNCELOT\n",
            "I\n",
            "I\n",
            "HERBERT\n",
            "LAUNCELOT\n",
            "I\n",
            "HERBERT\n",
            "I\n",
            "I\n",
            "LAUNCELOT\n",
            "I\n",
            "HERBERT\n",
            "FATHER\n",
            "HERBERT\n",
            "I\n",
            "FATHER\n",
            "LAUNCELOT\n",
            "I\n",
            "HERBERT\n",
            "LAUNCELOT\n",
            "FATHER\n",
            "LAUNCELOT\n",
            "FATHER\n",
            "LAUNCELOT\n",
            "I\n",
            "I\n",
            "HERBERT\n",
            "I\n",
            "FATHER\n",
            "LAUNCELOT\n",
            "I\n",
            "FATHER\n",
            "I\n",
            "HERBERT\n",
            "FATHER\n",
            "LAUNCELOT\n",
            "I\n",
            "FATHER\n",
            "LAUNCELOT\n",
            "FATHER\n",
            "LAUNCELOT\n",
            "I\n",
            "I\n",
            "I\n",
            "FATHER\n",
            "HERBERT\n",
            "LAUNCELOT\n",
            "I\n",
            "FATHER\n",
            "LAUNCELOT\n",
            "HERBERT\n",
            "I\n",
            "FATHER\n",
            "LAUNCELOT\n",
            "HERBERT\n",
            "I\n",
            "LAUNCELOT\n",
            "I\n",
            "HERBERT\n",
            "LAUNCELOT\n",
            "I\n",
            "I\n",
            "I\n",
            "FATHER\n",
            "HERBERT\n",
            "SCENE\n",
            "GUESTS\n",
            "FATHER\n",
            "GUEST\n",
            "FATHER\n",
            "LAUNCELOT\n",
            "FATHER\n",
            "LAUNCELOT\n",
            "I\n",
            "I\n",
            "I\n",
            "GUEST\n",
            "GUESTS\n",
            "FATHER\n",
            "LAUNCELOT\n",
            "GUEST\n",
            "GUESTS\n",
            "FATHER\n",
            "GUESTS\n",
            "FATHER\n",
            "I\n",
            "I\n",
            "GUEST\n",
            "FATHER\n",
            "GUEST\n",
            "FATHER\n",
            "BRIDE\n",
            "S\n",
            "FATHER\n",
            "GUEST\n",
            "FATHER\n",
            "I\n",
            "I\n",
            "LAUNCELOT\n",
            "GUEST\n",
            "GUESTS\n",
            "CONCORDE\n",
            "HERBERT\n",
            "I\n",
            "FATHER\n",
            "HERBERT\n",
            "I\n",
            "FATHER\n",
            "HERBERT\n",
            "I\n",
            "FATHER\n",
            "GUESTS\n",
            "FATHER\n",
            "GUESTS\n",
            "FATHER\n",
            "GUESTS\n",
            "FATHER\n",
            "GUESTS\n",
            "FATHER\n",
            "GUESTS\n",
            "CONCORDE\n",
            "GUESTS\n",
            "CONCORDE\n",
            "GUESTS\n",
            "LAUNCELOT\n",
            "GUESTS\n",
            "LAUNCELOT\n",
            "I\n",
            "GUESTS\n",
            "CONCORDE\n",
            "LAUNCELOT\n",
            "GUESTS\n",
            "LAUNCELOT\n",
            "GUESTS\n",
            "LAUNCELOT\n",
            "SCENE\n",
            "ARTHUR\n",
            "OLD\n",
            "CRONE\n",
            "ARTHUR\n",
            "CRONE\n",
            "ARTHUR\n",
            "I\n",
            "CRONE\n",
            "ARTHUR\n",
            "CRONE\n",
            "ARTHUR\n",
            "CRONE\n",
            "BEDEVERE\n",
            "ARTHUR\n",
            "BEDEVERE\n",
            "ARTHUR\n",
            "BEDEVERE\n",
            "ARTHUR\n",
            "BEDEVERE\n",
            "ARTHUR\n",
            "BEDEVERE\n",
            "ARTHUR\n",
            "ARTHUR\n",
            "BEDEVERE\n",
            "CRONE\n",
            "BEDEVERE\n",
            "ARTHUR\n",
            "CRONE\n",
            "BEDEVERE\n",
            "ARTHUR\n",
            "BEDEVERE\n",
            "ARTHUR\n",
            "BEDEVERE\n",
            "ROGER\n",
            "THE\n",
            "SHRUBBER\n",
            "ARTHUR\n",
            "ROGER\n",
            "ARTHUR\n",
            "ROGER\n",
            "I\n",
            "I\n",
            "BEDEVERE\n",
            "ARTHUR\n",
            "SCENE\n",
            "ARTHUR\n",
            "O\n",
            "HEAD\n",
            "KNIGHT\n",
            "I\n",
            "ARTHUR\n",
            "HEAD\n",
            "KNIGHT\n",
            "KNIGHTS\n",
            "OF\n",
            "NI\n",
            "HEAD\n",
            "KNIGHT\n",
            "RANDOM\n",
            "HEAD\n",
            "KNIGHT\n",
            "ARTHUR\n",
            "O\n",
            "HEAD\n",
            "KNIGHT\n",
            "ARTHUR\n",
            "RANDOM\n",
            "HEAD\n",
            "KNIGHT\n",
            "KNIGHTS\n",
            "OF\n",
            "NI\n",
            "A\n",
            "A\n",
            "A\n",
            "HEAD\n",
            "KNIGHT\n",
            "ARTHUR\n",
            "HEAD\n",
            "KNIGHT\n",
            "ARTHUR\n",
            "KNIGHTS\n",
            "OF\n",
            "NI\n",
            "HEAD\n",
            "KNIGHT\n",
            "ARTHUR\n",
            "HEAD\n",
            "KNIGHT\n",
            "I\n",
            "ARTHUR\n",
            "KNIGHTS\n",
            "OF\n",
            "NI\n",
            "HEAD\n",
            "KNIGHT\n",
            "ARTHUR\n",
            "KNIGHTS\n",
            "OF\n",
            "NI\n",
            "HEAD\n",
            "KNIGHT\n",
            "KNIGHTS\n",
            "OF\n",
            "NI\n",
            "BEDEVERE\n",
            "MINSTREL\n",
            "ARTHUR\n",
            "ROBIN\n",
            "HEAD\n",
            "KNIGHT\n",
            "ARTHUR\n",
            "MINSTREL\n",
            "ROBIN\n",
            "HEAD\n",
            "KNIGHT\n",
            "KNIGHTS\n",
            "OF\n",
            "NI\n",
            "ROBIN\n",
            "I\n",
            "KNIGHTS\n",
            "OF\n",
            "NI\n",
            "ROBIN\n",
            "ARTHUR\n",
            "KNIGHTS\n",
            "OF\n",
            "NI\n",
            "HEAD\n",
            "KNIGHT\n",
            "ARTHUR\n",
            "KNIGHTS\n",
            "OF\n",
            "NI\n",
            "HEAD\n",
            "KNIGHT\n",
            "ARTHUR\n",
            "HEAD\n",
            "KNIGHT\n",
            "I\n",
            "I\n",
            "I\n",
            "KNIGHTS\n",
            "OF\n",
            "NI\n",
            "NARRATOR\n",
            "KNIGHTS\n",
            "NARRATOR\n",
            "MINSTREL\n",
            "NARRATOR\n",
            "KNIGHTS\n",
            "NARRATOR\n",
            "A\n",
            "CARTOON\n",
            "CHARACTER\n",
            "NARRATOR\n",
            "CARTOON\n",
            "CHARACTER\n",
            "NARRATOR\n",
            "CARTOON\n",
            "CHARACTER\n",
            "NARRATOR\n",
            "CARTOON\n",
            "CHARACTER\n",
            "NARRATOR\n",
            "CARTOON\n",
            "CHARACTER\n",
            "NARRATOR\n",
            "SCENE\n",
            "KNIGHTS\n",
            "ARTHUR\n",
            "TIM\n",
            "THE\n",
            "ENCHANTER\n",
            "I\n",
            "ARTHUR\n",
            "TIM\n",
            "ARTHUR\n",
            "TIM\n",
            "ARTHUR\n",
            "TIM\n",
            "I\n",
            "ARTHUR\n",
            "O\n",
            "TIM\n",
            "ROBIN\n",
            "ARTHUR\n",
            "KNIGHTS\n",
            "ARTHUR\n",
            "BEDEVERE\n",
            "GALAHAD\n",
            "ROBIN\n",
            "BEDEVERE\n",
            "ROBIN\n",
            "BEDEVERE\n",
            "ARTHUR\n",
            "GALAHAD\n",
            "ARTHUR\n",
            "I\n",
            "I\n",
            "TIM\n",
            "A\n",
            "ARTHUR\n",
            "A\n",
            "TIM\n",
            "A\n",
            "ARTHUR\n",
            "I\n",
            "ROBIN\n",
            "Y\n",
            "ARTHUR\n",
            "GALAHAD\n",
            "KNIGHTS\n",
            "TIM\n",
            "ROBIN\n",
            "ARTHUR\n",
            "ROBIN\n",
            "GALAHAD\n",
            "ARTHUR\n",
            "ROBIN\n",
            "KNIGHTS\n",
            "ARTHUR\n",
            "TIM\n",
            "I\n",
            "KNIGHTS\n",
            "TIM\n",
            "ARTHUR\n",
            "O\n",
            "TIM\n",
            "ARTHUR\n",
            "SCENE\n",
            "GALAHAD\n",
            "ARTHUR\n",
            "TIM\n",
            "ARTHUR\n",
            "GALAHAD\n",
            "ARTHUR\n",
            "W\n",
            "TIM\n",
            "ARTHUR\n",
            "TIM\n",
            "ARTHUR\n",
            "TIM\n",
            "ARTHUR\n",
            "TIM\n",
            "ARTHUR\n",
            "TIM\n",
            "ARTHUR\n",
            "TIM\n",
            "ARTHUR\n",
            "TIM\n",
            "ROBIN\n",
            "I\n",
            "I\n",
            "TIM\n",
            "GALAHAD\n",
            "TIM\n",
            "GALAHAD\n",
            "ROBIN\n",
            "TIM\n",
            "I\n",
            "ROBIN\n",
            "TIM\n",
            "ARTHUR\n",
            "BORS\n",
            "TIM\n",
            "BORS\n",
            "ARTHUR\n",
            "TIM\n",
            "I\n",
            "ROBIN\n",
            "I\n",
            "TIM\n",
            "I\n",
            "I\n",
            "ARTHUR\n",
            "TIM\n",
            "ARTHUR\n",
            "TIM\n",
            "KNIGHTS\n",
            "KNIGHTS\n",
            "ARTHUR\n",
            "KNIGHTS\n",
            "TIM\n",
            "ARTHUR\n",
            "LAUNCELOT\n",
            "GALAHAD\n",
            "ARTHUR\n",
            "GALAHAD\n",
            "ARTHUR\n",
            "ROBIN\n",
            "ARTHUR\n",
            "GALAHAD\n",
            "ARTHUR\n",
            "GALAHAD\n",
            "LAUNCELOT\n",
            "ARTHUR\n",
            "LAUNCELOT\n",
            "ARTHUR\n",
            "MONKS\n",
            "ARTHUR\n",
            "LAUNCELOT\n",
            "I\n",
            "ARTHUR\n",
            "BROTHER\n",
            "MAYNARD\n",
            "SECOND\n",
            "BROTHER\n",
            "O\n",
            "MAYNARD\n",
            "SECOND\n",
            "BROTHER\n",
            "MAYNARD\n",
            "KNIGHTS\n",
            "ARTHUR\n",
            "GALAHAD\n",
            "ARTHUR\n",
            "SCENE\n",
            "ARTHUR\n",
            "LAUNCELOT\n",
            "GALAHAD\n",
            "ARTHUR\n",
            "MAYNARD\n",
            "GALAHAD\n",
            "LAUNCELOT\n",
            "ARTHUR\n",
            "MAYNARD\n",
            "ARTHUR\n",
            "MAYNARD\n",
            "BEDEVERE\n",
            "MAYNARD\n",
            "LAUNCELOT\n",
            "MAYNARD\n",
            "ARTHUR\n",
            "MAYNARD\n",
            "GALAHAD\n",
            "ARTHUR\n",
            "MAYNARD\n",
            "LAUNCELOT\n",
            "ARTHUR\n",
            "BEDEVERE\n",
            "GALAHAD\n",
            "BEDEVERE\n",
            "I\n",
            "LAUNCELOT\n",
            "ARTHUR\n",
            "LAUNCELOT\n",
            "KNIGHTS\n",
            "BEDEVERE\n",
            "LAUNCELOT\n",
            "BEDEVERE\n",
            "N\n",
            "LAUNCELOT\n",
            "BEDEVERE\n",
            "I\n",
            "ARTHUR\n",
            "GALAHAD\n",
            "MAYNARD\n",
            "BROTHER\n",
            "MAYNARD\n",
            "BEDEVERE\n",
            "ARTHUR\n",
            "KNIGHTS\n",
            "BEDEVERE\n",
            "KNIGHTS\n",
            "NARRATOR\n",
            "ANIMATOR\n",
            "NARRATOR\n",
            "SCENE\n",
            "GALAHAD\n",
            "ARTHUR\n",
            "ROBIN\n",
            "ARTHUR\n",
            "BEDEVERE\n",
            "ARTHUR\n",
            "GALAHAD\n",
            "ARTHUR\n",
            "GALAHAD\n",
            "ARTHUR\n",
            "ROBIN\n",
            "ARTHUR\n",
            "ROBIN\n",
            "I\n",
            "GALAHAD\n",
            "ARTHUR\n",
            "ROBIN\n",
            "ARTHUR\n",
            "ROBIN\n",
            "I\n",
            "LAUNCELOT\n",
            "I\n",
            "I\n",
            "ARTHUR\n",
            "GALAHAD\n",
            "ARTHUR\n",
            "LAUNCELOT\n",
            "I\n",
            "ARTHUR\n",
            "BRIDGEKEEPER\n",
            "LAUNCELOT\n",
            "I\n",
            "BRIDGEKEEPER\n",
            "LAUNCELOT\n",
            "BRIDGEKEEPER\n",
            "LAUNCELOT\n",
            "BRIDGEKEEPER\n",
            "LAUNCELOT\n",
            "BRIDGEKEEPER\n",
            "LAUNCELOT\n",
            "ROBIN\n",
            "BRIDGEKEEPER\n",
            "ROBIN\n",
            "I\n",
            "BRIDGEKEEPER\n",
            "ROBIN\n",
            "BRIDGEKEEPER\n",
            "ROBIN\n",
            "BRIDGEKEEPER\n",
            "ROBIN\n",
            "I\n",
            "BRIDGEKEEPER\n",
            "GALAHAD\n",
            "BRIDGEKEEPER\n",
            "GALAHAD\n",
            "I\n",
            "BRIDGEKEEPER\n",
            "GALAHAD\n",
            "BRIDGEKEEPER\n",
            "ARTHUR\n",
            "BRIDGEKEEPER\n",
            "ARTHUR\n",
            "BRIDGEKEEPER\n",
            "ARTHUR\n",
            "BRIDGEKEEPER\n",
            "I\n",
            "I\n",
            "BEDEVERE\n",
            "ARTHUR\n",
            "SCENE\n",
            "ARTHUR\n",
            "BEDEVERE\n",
            "ARTHUR\n",
            "BEDEVERE\n",
            "ARTHUR\n",
            "FRENCH\n",
            "GUARD\n",
            "ARTHUR\n",
            "I\n",
            "FRENCH\n",
            "GUARD\n",
            "I\n",
            "I\n",
            "ARTHUR\n",
            "FRENCH\n",
            "GUARD\n",
            "I\n",
            "ARTHUR\n",
            "FRENCH\n",
            "GUARDS\n",
            "ARTHUR\n",
            "FRENCH\n",
            "GUARD\n",
            "ARTHUR\n",
            "FRENCH\n",
            "GUARD\n",
            "FRENCH\n",
            "GUARDS\n",
            "ARTHUR\n",
            "BEDEVERE\n",
            "ARTHUR\n",
            "FRENCH\n",
            "GUARDS\n",
            "ARTHUR\n",
            "FRENCH\n",
            "GUARDS\n",
            "ARTHUR\n",
            "FRENCH\n",
            "GUARDS\n",
            "ARTHUR\n",
            "ARMY\n",
            "OF\n",
            "KNIGHTS\n",
            "HISTORIAN\n",
            "S\n",
            "WIFE\n",
            "I\n",
            "INSPECTOR\n",
            "OFFICER\n",
            "HISTORIAN\n",
            "S\n",
            "WIFE\n",
            "OFFICER\n",
            "INSPECTOR\n",
            "OFFICER\n",
            "BEDEVERE\n",
            "INSPECTOR\n",
            "OFFICER\n",
            "INSPECTOR\n",
            "OFFICER\n",
            "OFFICER\n",
            "RANDOM\n",
            "RANDOM\n",
            "OFFICER\n",
            "OFFICER\n",
            "OFFICER\n",
            "OFFICER\n",
            "INSPECTOR\n",
            "OFFICER\n",
            "CAMERAMAN\n"
          ],
          "name": "stdout"
        }
      ]
    },
    {
      "cell_type": "markdown",
      "metadata": {
        "id": "hKgNYEL5F94m"
      },
      "source": [
        "24. Write expressions for finding all words in text6 that meet the following conditions. The result should be in the form of a list of words: ['word1', 'word2', ...] .\n",
        ">a. Ending in ize   \n",
        ">b. Containing the letter z  \n",
        ">c. Containing the sequence of letters pt  \n",
        ">d. All lowercase letters except for an initial capital (i.e., titlecase )"
      ]
    },
    {
      "cell_type": "code",
      "metadata": {
        "id": "OWS4h_7W5Dwo"
      },
      "source": [
        "l=[]\n",
        "for word in text6:\n",
        "  if word.endswith('ize'):\n",
        "    l.append(word)\n",
        "print(l)"
      ],
      "execution_count": null,
      "outputs": []
    },
    {
      "cell_type": "code",
      "metadata": {
        "id": "YinCgnu38hgL",
        "colab": {
          "base_uri": "https://localhost:8080/",
          "height": 34
        },
        "outputId": "d57bf4d4-992f-4b15-cc51-ccd83d76a532"
      },
      "source": [
        "l=[]\n",
        "for word in text6:\n",
        "  if 'z' in word:\n",
        "    l.append(word)\n",
        "print(l)"
      ],
      "execution_count": null,
      "outputs": [
        {
          "output_type": "stream",
          "text": [
            "['zone', 'amazes', 'Fetchez', 'Fetchez', 'zoop', 'zoo', 'zhiv', 'frozen', 'zoosh']\n"
          ],
          "name": "stdout"
        }
      ]
    },
    {
      "cell_type": "code",
      "metadata": {
        "id": "8iRuEECH888z",
        "colab": {
          "base_uri": "https://localhost:8080/",
          "height": 34
        },
        "outputId": "b895419f-ed80-418a-d5e7-6cd46026f025"
      },
      "source": [
        "l=[]\n",
        "for word in text6:\n",
        "  if 'pt' in word:\n",
        "    l.append(word)\n",
        "print(l)"
      ],
      "execution_count": null,
      "outputs": [
        {
          "output_type": "stream",
          "text": [
            "['empty', 'aptly', 'Thpppppt', 'Thppt', 'Thppt', 'empty', 'Thppppt', 'temptress', 'temptation', 'ptoo', 'Chapter', 'excepting', 'Thpppt']\n"
          ],
          "name": "stdout"
        }
      ]
    },
    {
      "cell_type": "code",
      "metadata": {
        "id": "hywKrC919Lo5",
        "colab": {
          "base_uri": "https://localhost:8080/",
          "height": 54
        },
        "outputId": "a9c2e01c-372d-4722-8dc3-81babc68bbab"
      },
      "source": [
        "l=[]\n",
        "for word in text6:\n",
        "  if word[1:].islower():\n",
        "    l.append(word)\n",
        "print(l)"
      ],
      "execution_count": null,
      "outputs": [
        {
          "output_type": "stream",
          "text": [
            "['wind', 'clop', 'clop', 'clop', 'Whoa', 'there', 'clop', 'clop', 'clop', 'Halt', 'Who', 'goes', 'there', 'It', 'is', 'Arthur', 'son', 'of', 'Uther', 'Pendragon', 'from', 'the', 'castle', 'of', 'Camelot', 'King', 'of', 'the', 'Britons', 'defeator', 'of', 'the', 'Saxons', 'sovereign', 'of', 'all', 'England', 'Pull', 'the', 'other', 'one', 'am', 'and', 'this', 'is', 'my', 'trusty', 'servant', 'Patsy', 'We', 'have', 'ridden', 'the', 'length', 'and', 'breadth', 'of', 'the', 'land', 'in', 'search', 'of', 'knights', 'who', 'will', 'join', 'me', 'in', 'my', 'court', 'at', 'Camelot', 'must', 'speak', 'with', 'your', 'lord', 'and', 'master', 'What', 'Ridden', 'on', 'horse', 'Yes', 'You', 're', 'using', 'coconuts', 'What', 'You', 've', 'got', 'two', 'empty', 'halves', 'of', 'coconut', 'and', 'you', 're', 'bangin', 'em', 'together', 'So', 'We', 'have', 'ridden', 'since', 'the', 'snows', 'of', 'winter', 'covered', 'this', 'land', 'through', 'the', 'kingdom', 'of', 'Mercea', 'through', 'Where', 'you', 'get', 'the', 'coconuts', 'We', 'found', 'them', 'Found', 'them', 'In', 'Mercea', 'The', 'coconut', 'tropical', 'What', 'do', 'you', 'mean', 'Well', 'this', 'is', 'temperate', 'zone', 'The', 'swallow', 'may', 'fly', 'south', 'with', 'the', 'sun', 'or', 'the', 'house', 'martin', 'or', 'the', 'plover', 'may', 'seek', 'warmer', 'climes', 'in', 'winter', 'yet', 'these', 'are', 'not', 'strangers', 'to', 'our', 'land', 'Are', 'you', 'suggesting', 'coconuts', 'migrate', 'Not', 'at', 'all', 'They', 'could', 'be', 'carried', 'What', 'swallow', 'carrying', 'coconut', 'It', 'could', 'grip', 'it', 'by', 'the', 'husk', 'It', 'not', 'question', 'of', 'where', 'he', 'grips', 'it', 'It', 'simple', 'question', 'of', 'weight', 'ratios', 'five', 'ounce', 'bird', 'could', 'not', 'carry', 'one', 'pound', 'coconut', 'Well', 'it', 'doesn', 'matter', 'Will', 'you', 'go', 'and', 'tell', 'your', 'master', 'that', 'Arthur', 'from', 'the', 'Court', 'of', 'Camelot', 'is', 'here', 'Listen', 'In', 'order', 'to', 'maintain', 'air', 'speed', 'velocity', 'swallow', 'needs', 'to', 'beat', 'its', 'wings', 'forty', 'three', 'times', 'every', 'second', 'right', 'Please', 'Am', 'right', 'not', 'interested', 'It', 'could', 'be', 'carried', 'by', 'an', 'African', 'swallow', 'Oh', 'yeah', 'an', 'African', 'swallow', 'maybe', 'but', 'not', 'European', 'swallow', 'That', 'my', 'point', 'Oh', 'yeah', 'agree', 'with', 'that', 'Will', 'you', 'ask', 'your', 'master', 'if', 'he', 'wants', 'to', 'join', 'my', 'court', 'at', 'Camelot', 'But', 'then', 'of', 'course', 'African', 'swallows', 'are', 'non', 'migratory', 'Oh', 'yeah', 'So', 'they', 'couldn', 'bring', 'coconut', 'back', 'anyway', 'clop', 'clop', 'clop', 'Wait', 'minute', 'Supposing', 'two', 'swallows', 'carried', 'it', 'together', 'No', 'they', 'have', 'to', 'have', 'it', 'on', 'line', 'Well', 'simple', 'They', 'just', 'use', 'strand', 'of', 'creeper', 'What', 'held', 'under', 'the', 'dorsal', 'guiding', 'feathers', 'Well', 'why', 'not', 'thud', 'clang', 'Bring', 'out', 'your', 'dead', 'clang', 'Bring', 'out', 'your', 'dead', 'clang', 'Bring', 'out', 'your', 'dead', 'clang', 'Bring', 'out', 'your', 'dead', 'clang', 'Bring', 'out', 'your', 'dead', 'cough', 'cough', 'clang', 'cough', 'cough', 'Bring', 'out', 'your', 'dead', 'clang', 'Bring', 'out', 'your', 'dead', 'clang', 'Bring', 'out', 'your', 'dead', 'Ninepence', 'clang', 'Bring', 'out', 'your', 'dead', 'clang', 'Bring', 'out', 'your', 'dead', 'clang', 'Bring', 'out', 'rewr', 'your', 'dead', 'rewr', 'clang', 'Bring', 'out', 'your', 'dead', 'Here', 'one', 'Ninepence', 'not', 'dead', 'What', 'Nothing', 'Here', 'your', 'ninepence', 'not', 'dead', 'Ere', 'He', 'says', 'he', 'not', 'dead', 'Yes', 'he', 'is', 'not', 'He', 'isn', 'Well', 'he', 'will', 'be', 'soon', 'He', 'very', 'ill', 'getting', 'better', 'No', 'you', 're', 'not', 'You', 'll', 'be', 'stone', 'dead', 'in', 'moment', 'Oh', 'can', 'take', 'him', 'like', 'that', 'It', 'against', 'regulations', 'don', 'want', 'to', 'go', 'on', 'the', 'cart', 'Oh', 'don', 'be', 'such', 'baby', 'can', 'take', 'him', 'feel', 'fine', 'Well', 'do', 'us', 'favor', 'can', 'Well', 'can', 'you', 'hang', 'around', 'couple', 'of', 'minutes', 'He', 'won', 'be', 'long', 'No', 've', 'got', 'to', 'go', 'to', 'the', 'Robinson', 'They', 've', 'lost', 'nine', 'today', 'Well', 'when', 'your', 'next', 'round', 'Thursday', 'think', 'll', 'go', 'for', 'walk', 'You', 're', 'not', 'fooling', 'anyone', 'you', 'know', 'Look', 'isn', 'there', 'something', 'you', 'can', 'do', 'singing', 'feel', 'happy', 'feel', 'happy', 'whop', 'Ah', 'thanks', 'very', 'much', 'Not', 'at', 'all', 'See', 'you', 'on', 'Thursday', 'Right', 'All', 'right', 'howl', 'clop', 'clop', 'clop', 'Who', 'that', 'then', 'dunno', 'Must', 'be', 'king', 'Why', 'He', 'hasn', 'got', 'shit', 'all', 'over', 'him', 'thud', 'King', 'Arthur', 'music', 'thud', 'thud', 'thud', 'King', 'Arthur', 'music', 'stops', 'Old', 'woman', 'Man', 'Man', 'Sorry', 'What', 'knight', 'live', 'in', 'that', 'castle', 'over', 'there', 'thirty', 'seven', 'what', 'thirty', 'seven', 'not', 'old', 'Well', 'can', 'just', 'call', 'you', 'Man', 'Well', 'you', 'could', 'say', 'Dennis', 'Well', 'didn', 'know', 'you', 'were', 'called', 'Dennis', 'Well', 'you', 'didn', 'bother', 'to', 'find', 'out', 'did', 'you', 'did', 'say', 'sorry', 'about', 'the', 'old', 'woman', 'but', 'from', 'the', 'behind', 'you', 'looked', 'What', 'object', 'to', 'is', 'that', 'you', 'automatically', 'treat', 'me', 'like', 'an', 'inferior', 'Well', 'am', 'king', 'Oh', 'king', 'eh', 'very', 'nice', 'And', 'how', 'you', 'get', 'that', 'eh', 'By', 'exploiting', 'the', 'workers', 'By', 'anging', 'on', 'to', 'outdated', 'imperialist', 'dogma', 'which', 'perpetuates', 'the', 'economic', 'and', 'social', 'differences', 'in', 'our', 'society', 'If', 'there', 'ever', 'going', 'to', 'be', 'any', 'progress', 'with', 'the', 'Dennis', 'there', 'some', 'lovely', 'filth', 'down', 'here', 'Oh', 'How', 'you', 'do', 'How', 'do', 'you', 'do', 'good', 'lady', 'am', 'Arthur', 'King', 'of', 'the', 'Britons', 'Who', 'castle', 'is', 'that', 'King', 'of', 'the', 'who', 'The', 'Britons', 'Who', 'are', 'the', 'Britons', 'Well', 'we', 'all', 'are', 'We', 'are', 'all', 'Britons', 'and', 'am', 'your', 'king', 'didn', 'know', 'we', 'had', 'king', 'thought', 'we', 'were', 'an', 'autonomous', 'collective', 'You', 're', 'fooling', 'yourself', 'We', 're', 'living', 'in', 'dictatorship', 'self', 'perpetuating', 'autocracy', 'in', 'which', 'the', 'working', 'classes', 'Oh', 'there', 'you', 'go', 'bringing', 'class', 'into', 'it', 'again', 'That', 'what', 'it', 'all', 'about', 'If', 'only', 'people', 'would', 'hear', 'of', 'Please', 'please', 'good', 'people', 'am', 'in', 'haste', 'Who', 'lives', 'in', 'that', 'castle', 'No', 'one', 'live', 'there', 'Then', 'who', 'is', 'your', 'lord', 'We', 'don', 'have', 'lord', 'What', 'told', 'you', 'We', 're', 'an', 'anarcho', 'syndicalist', 'commune', 'We', 'take', 'it', 'in', 'turns', 'to', 'act', 'as', 'sort', 'of', 'executive', 'officer', 'for', 'the', 'week', 'Yes', 'But', 'all', 'the', 'decision', 'of', 'that', 'officer', 'have', 'to', 'be', 'ratified', 'at', 'special', 'bi', 'weekly', 'meeting', 'Yes', 'see', 'By', 'simple', 'majority', 'in', 'the', 'case', 'of', 'purely', 'internal', 'affairs', 'Be', 'quiet', 'But', 'by', 'two', 'thirds', 'majority', 'in', 'the', 'case', 'of', 'more', 'major', 'Be', 'quiet', 'order', 'you', 'to', 'be', 'quiet', 'Order', 'eh', 'Who', 'does', 'he', 'think', 'he', 'is', 'Heh', 'am', 'your', 'king', 'Well', 'didn', 'vote', 'for', 'you', 'You', 'don', 'vote', 'for', 'kings', 'Well', 'how', 'did', 'you', 'become', 'king', 'then', 'The', 'Lady', 'of', 'the', 'Lake', 'angels', 'sing', 'her', 'arm', 'clad', 'in', 'the', 'purest', 'shimmering', 'samite', 'held', 'aloft', 'Excalibur', 'from', 'the', 'bosom', 'of', 'the', 'water', 'signifying', 'by', 'Divine', 'Providence', 'that', 'Arthur', 'was', 'to', 'carry', 'Excalibur', 'singing', 'stops', 'That', 'is', 'why', 'am', 'your', 'king', 'Listen', 'strange', 'women', 'lying', 'in', 'ponds', 'distributing', 'swords', 'is', 'no', 'basis', 'for', 'system', 'of', 'government', 'Supreme', 'executive', 'power', 'derives', 'from', 'mandate', 'from', 'the', 'masses', 'not', 'from', 'some', 'farcical', 'aquatic', 'ceremony', 'Be', 'quiet', 'Well', 'but', 'you', 'can', 'expect', 'to', 'wield', 'supreme', 'executive', 'power', 'just', 'cause', 'some', 'watery', 'tart', 'threw', 'sword', 'at', 'you', 'Shut', 'up', 'mean', 'if', 'went', 'round', 'saying', 'was', 'an', 'emperor', 'just', 'because', 'some', 'moistened', 'bint', 'had', 'lobbed', 'scimitar', 'at', 'me', 'they', 'put', 'me', 'away', 'Shut', 'up', 'will', 'you', 'Shut', 'up', 'Ah', 'now', 'we', 'see', 'the', 'violence', 'inherent', 'in', 'the', 'system', 'Shut', 'up', 'Oh', 'Come', 'and', 'see', 'the', 'violence', 'inherent', 'in', 'the', 'system', 'Help', 'help', 'being', 'repressed', 'Bloody', 'peasant', 'Oh', 'what', 'give', 'away', 'Did', 'you', 'hear', 'that', 'Did', 'you', 'hear', 'that', 'eh', 'That', 'what', 'on', 'about', 'Did', 'you', 'see', 'him', 'repressing', 'me', 'You', 'saw', 'it', 'didn', 'you', 'King', 'Arthur', 'music', 'music', 'stops', 'Aaagh', 'King', 'Arthur', 'music', 'music', 'stops', 'Aaagh', 'Ooh', 'King', 'Arthur', 'music', 'music', 'stops', 'stab', 'Aagh', 'Oh', 'King', 'Arthur', 'music', 'Ooh', 'music', 'stops', 'Aaagh', 'clang', 'and', 'Agh', 'oh', 'etc', 'Aaaaaah', 'Aaaaaaaaah', 'woosh', 'kills', 'thud', 'scrape', 'Umm', 'clop', 'clop', 'clop', 'You', 'fight', 'with', 'the', 'strength', 'of', 'many', 'men', 'Sir', 'Knight', 'pause', 'am', 'Arthur', 'King', 'of', 'the', 'Britons', 'pause', 'seek', 'the', 'finest', 'and', 'the', 'bravest', 'knights', 'in', 'the', 'land', 'to', 'join', 'me', 'in', 'my', 'court', 'at', 'Camelot', 'pause', 'You', 'have', 'proved', 'yourself', 'worthy', 'Will', 'you', 'join', 'me', 'pause', 'You', 'make', 'me', 'sad', 'So', 'be', 'it', 'Come', 'Patsy', 'None', 'shall', 'pass', 'What', 'None', 'shall', 'pass', 'have', 'no', 'quarrel', 'with', 'you', 'good', 'Sir', 'Knight', 'but', 'must', 'cross', 'this', 'bridge', 'Then', 'you', 'shall', 'die', 'command', 'you', 'as', 'King', 'of', 'the', 'Britons', 'to', 'stand', 'aside', 'move', 'for', 'no', 'man', 'So', 'be', 'it', 'and', 'Aaah', 'hiyaah', 'etc', 'chops', 'the', 'left', 'arm', 'off', 'Now', 'stand', 'aside', 'worthy', 'adversary', 'Tis', 'but', 'scratch', 'scratch', 'Your', 'arm', 'off', 'No', 'it', 'isn', 'Well', 'what', 'that', 'then', 've', 'had', 'worse', 'You', 'liar', 'Come', 'on', 'you', 'pansy', 'clang', 'Huyah', 'clang', 'Hiyaah', 'clang', 'Aaaaaaaah', 'chops', 'the', 'right', 'arm', 'off', 'Victory', 'is', 'mine', 'kneeling', 'We', 'thank', 'Thee', 'Lord', 'that', 'in', 'Thy', 'mer', 'Hah', 'clunk', 'Come', 'on', 'then', 'What', 'Have', 'at', 'you', 'kick', 'Eh', 'You', 'are', 'indeed', 'brave', 'Sir', 'Knight', 'but', 'the', 'fight', 'is', 'mine', 'Oh', 'had', 'enough', 'eh', 'Look', 'you', 'stupid', 'bastard', 'You', 've', 'got', 'no', 'arms', 'left', 'Yes', 'have', 'Look', 'Just', 'flesh', 'wound', 'kick', 'Look', 'stop', 'that', 'Chicken', 'kick', 'Chickennn', 'Look', 'll', 'have', 'your', 'leg', 'kick', 'Right', 'whop', 'chops', 'the', 'right', 'leg', 'off', 'Right', 'll', 'do', 'you', 'for', 'that', 'You', 'll', 'what', 'Come', 'here', 'What', 'are', 'you', 'going', 'to', 'do', 'bleed', 'on', 'me', 'invincible', 'You', 're', 'looney', 'The', 'Black', 'Knight', 'always', 'triumphs', 'Have', 'at', 'you', 'Come', 'on', 'then', 'whop', 'chops', 'the', 'last', 'leg', 'off', 'Ooh', 'All', 'right', 'we', 'll', 'call', 'it', 'draw', 'Come', 'Patsy', 'Oh', 'Oh', 'see', 'Running', 'away', 'eh', 'You', 'yellow', 'bastards', 'Come', 'back', 'here', 'and', 'take', 'what', 'coming', 'to', 'you', 'll', 'bite', 'your', 'legs', 'off', 'chanting', 'Pie', 'Iesu', 'domine', 'dona', 'eis', 'requiem', 'bonk', 'Pie', 'Iesu', 'domine', 'bonk', 'dona', 'eis', 'requiem', 'bonk', 'Pie', 'Iesu', 'domine', 'bonk', 'dona', 'eis', 'requiem', 'witch', 'witch', 'bonk', 'witch', 'witch', 'chanting', 'Pie', 'Iesu', 'domine', 'witch', 'witch', 'witch', 'witch', 'We', 've', 'found', 'witch', 'witch', 'witch', 'witch', 'witch', 'We', 've', 'got', 'witch', 'witch', 'witch', 'Burn', 'her', 'Burn', 'her', 'Burn', 'her', 'We', 've', 'found', 'witch', 'We', 've', 'found', 'witch', 'witch', 'witch', 'witch', 'We', 'have', 'found', 'witch', 'May', 'we', 'burn', 'her', 'Burn', 'her', 'Burn', 'Burn', 'her', 'Burn', 'her', 'How', 'do', 'you', 'know', 'she', 'is', 'witch', 'She', 'looks', 'like', 'one', 'Right', 'Yeah', 'Yeah', 'Bring', 'her', 'forward', 'not', 'witch', 'not', 'witch', 'Uh', 'but', 'you', 'are', 'dressed', 'as', 'one', 'They', 'dressed', 'me', 'up', 'like', 'this', 'Augh', 'we', 'didn', 'We', 'didn', 'And', 'this', 'isn', 'my', 'nose', 'It', 'false', 'one', 'Well', 'Well', 'we', 'did', 'do', 'the', 'nose', 'The', 'nose', 'And', 'the', 'hat', 'but', 'she', 'is', 'witch', 'Yeah', 'We', 'burn', 'her', 'Right', 'Yeaaah', 'Yeaah', 'Did', 'you', 'dress', 'her', 'up', 'like', 'this', 'No', 'and', 'No', 'No', 'No', 'No', 'and', 'No', 'Yes', 'Yes', 'Yes', 'Yeah', 'bit', 'bit', 'and', 'bit', 'bit', 'She', 'has', 'got', 'wart', 'cough', 'What', 'makes', 'you', 'think', 'she', 'is', 'witch', 'Well', 'she', 'turned', 'me', 'into', 'newt', 'newt', 'got', 'better', 'Burn', 'her', 'anyway', 'Burn', 'Burn', 'her', 'Burn', 'Burn', 'her', 'Quiet', 'Quiet', 'Quiet', 'Quiet', 'There', 'are', 'ways', 'of', 'telling', 'whether', 'she', 'is', 'witch', 'Are', 'there', 'Ah', 'What', 'are', 'they', 'Tell', 'us', 'Tell', 'us', 'Tell', 'me', 'what', 'do', 'you', 'do', 'with', 'witches', 'Burn', 'Burn', 'Burn', 'Burn', 'them', 'up', 'Burn', 'And', 'what', 'do', 'you', 'burn', 'apart', 'from', 'witches', 'More', 'witches', 'Shh', 'Wood', 'So', 'why', 'do', 'witches', 'burn', 'pause', 'cause', 'they', 're', 'made', 'of', 'wood', 'Good', 'Heh', 'heh', 'Oh', 'yeah', 'Oh', 'So', 'how', 'do', 'we', 'tell', 'whether', 'she', 'is', 'made', 'of', 'wood', 'Build', 'bridge', 'out', 'of', 'her', 'Ah', 'but', 'can', 'you', 'not', 'also', 'make', 'bridges', 'out', 'of', 'stone', 'Oh', 'yeah', 'Oh', 'yeah', 'True', 'Uhh', 'Does', 'wood', 'sink', 'in', 'water', 'No', 'No', 'No', 'it', 'floats', 'It', 'floats', 'Throw', 'her', 'into', 'the', 'pond', 'The', 'pond', 'Throw', 'her', 'into', 'the', 'pond', 'What', 'also', 'floats', 'in', 'water', 'Bread', 'Apples', 'Uh', 'very', 'small', 'rocks', 'Cider', 'Uh', 'gra', 'gravy', 'Cherries', 'Mud', 'Churches', 'Churches', 'Lead', 'Lead', 'duck', 'Oooh', 'Exactly', 'So', 'logically', 'If', 'she', 'weighs', 'the', 'same', 'as', 'duck', 'she', 'made', 'of', 'wood', 'And', 'therefore', 'witch', 'witch', 'witch', 'witch', 'Here', 'is', 'duck', 'Use', 'this', 'duck', 'quack', 'quack', 'quack', 'We', 'shall', 'use', 'my', 'largest', 'scales', 'Ohh', 'Ohh', 'Burn', 'the', 'witch', 'Burn', 'the', 'witch', 'Burn', 'her', 'Burn', 'her', 'Burn', 'her', 'Burn', 'her', 'Burn', 'her', 'Burn', 'her', 'Burn', 'her', 'Ahh', 'Ahh', 'Right', 'Remove', 'the', 'supports', 'whop', 'clunk', 'creak', 'witch', 'witch', 'witch', 'It', 'fair', 'cop', 'Burn', 'her', 'Burn', 'her', 'Burn', 'her', 'Burn', 'her', 'Burn', 'Burn', 'Who', 'are', 'you', 'who', 'are', 'so', 'wise', 'in', 'the', 'ways', 'of', 'science', 'am', 'Arthur', 'King', 'of', 'the', 'Britons', 'My', 'liege', 'Good', 'Sir', 'Knight', 'will', 'you', 'come', 'with', 'me', 'to', 'Camelot', 'and', 'join', 'us', 'at', 'the', 'Round', 'Table', 'My', 'liege', 'would', 'be', 'honored', 'What', 'is', 'your', 'name', 'Bedevere', 'my', 'liege', 'Then', 'dub', 'you', 'Sir', 'Bedevere', 'Knight', 'of', 'the', 'Round', 'Table', 'The', 'wise', 'Sir', 'Bedevere', 'was', 'the', 'first', 'to', 'join', 'King', 'Arthur', 'knights', 'but', 'other', 'illustrious', 'names', 'were', 'soon', 'to', 'follow', 'Sir', 'Lancelot', 'the', 'Brave', 'Sir', 'Gallahad', 'the', 'Pure', 'and', 'Sir', 'Robin', 'the', 'not', 'quite', 'so', 'brave', 'as', 'Sir', 'Lancelot', 'who', 'had', 'nearly', 'fought', 'the', 'Dragon', 'of', 'Angnor', 'who', 'had', 'nearly', 'stood', 'up', 'to', 'the', 'vicious', 'Chicken', 'of', 'Bristol', 'and', 'who', 'had', 'personally', 'wet', 'himself', 'at', 'the', 'Battle', 'of', 'Badon', 'Hill', 'and', 'the', 'aptly', 'named', 'Sir', 'Not', 'appearing', 'in', 'this', 'film', 'Together', 'they', 'formed', 'band', 'whose', 'names', 'and', 'deeds', 'were', 'to', 'be', 'retold', 'throughout', 'the', 'centuries', 'the', 'Knights', 'of', 'the', 'Round', 'Table', 'clop', 'clop', 'clop', 'And', 'that', 'my', 'liege', 'is', 'how', 'we', 'know', 'the', 'earth', 'to', 'be', 'banana', 'shaped', 'This', 'new', 'learning', 'amazes', 'me', 'Sir', 'Bedevere', 'Explain', 'again', 'how', 'sheep', 'bladders', 'may', 'be', 'employed', 'to', 'prevent', 'earthquakes', 'Oh', 'certainly', 'sir', 'Look', 'my', 'liege', 'trumpets', 'Camelot', 'Camelot', 'Camelot', 'It', 'only', 'model', 'Shh', 'Knights', 'bid', 'you', 'welcome', 'to', 'your', 'new', 'home', 'Let', 'us', 'ride', 'to', 'Camelot', 'in', 'medieval', 'hall', 'singing', 'We', 're', 'knights', 'of', 'the', 'round', 'table', 'We', 'dance', 'when', 'er', 'we', 're', 'able', 'We', 'do', 'routines', 'and', 'chorus', 'scenes', 'With', 'footwork', 'impeccable', 'We', 'dine', 'well', 'here', 'in', 'Camelot', 'We', 'eat', 'ham', 'and', 'jam', 'and', 'spam', 'lot', 'dancing', 'We', 're', 'knights', 'of', 'the', 'Round', 'Table', 'Our', 'shows', 'are', 'formidable', 'But', 'many', 'times', 'we', 're', 'given', 'rhymes', 'That', 'are', 'quite', 'unsingable', 'We', 're', 'opera', 'mad', 'in', 'Camelot', 'We', 'sing', 'from', 'the', 'diaphragm', 'lot', 'in', 'dungeon', 'clap', 'clap', 'clap', 'clap', 'in', 'medieval', 'hall', 'tap', 'dancing', 'In', 'war', 'we', 're', 'tough', 'and', 'able', 'Quite', 'indefatigable', 'Between', 'our', 'quests', 'we', 'sequin', 'vests', 'and', 'impersonate', 'Clark', 'Gable', 'It', 'busy', 'life', 'in', 'Camelot', 'have', 'to', 'push', 'the', 'pram', 'lot', 'outdoors', 'Well', 'on', 'second', 'thought', 'let', 'not', 'go', 'to', 'Camelot', 'It', 'is', 'silly', 'place', 'Right', 'Right', 'clop', 'clop', 'clop', 'boom', 'boom', 'angels', 'sing', 'Arthur', 'Arthur', 'King', 'of', 'the', 'Britons', 'Oh', 'don', 'grovel', 'singing', 'stops', 'One', 'thing', 'can', 'stand', 'it', 'people', 'groveling', 'Sorry', 'boom', 'And', 'don', 'apologise', 'Every', 'time', 'try', 'to', 'talk', 'to', 'someone', 'it', 'sorry', 'this', 'and', 'forgive', 'me', 'that', 'and', 'not', 'worthy', 'boom', 'What', 'are', 'you', 'doing', 'now', 'averting', 'my', 'eyes', 'Lord', 'Well', 'don', 'It', 'like', 'those', 'miserable', 'Psalms', 'they', 're', 'so', 'depressing', 'Now', 'knock', 'it', 'off', 'Yes', 'Lord', 'Right', 'Arthur', 'King', 'of', 'the', 'Britons', 'your', 'Knights', 'of', 'the', 'Round', 'Table', 'shall', 'have', 'task', 'to', 'make', 'them', 'an', 'example', 'in', 'these', 'dark', 'times', 'Good', 'idea', 'Lord', 'Course', 'it', 'good', 'idea', 'Behold', 'angels', 'sing', 'Arthur', 'this', 'is', 'the', 'Holy', 'Grail', 'Look', 'well', 'Arthur', 'for', 'it', 'is', 'your', 'sacred', 'task', 'to', 'seek', 'this', 'grail', 'That', 'is', 'your', 'purpose', 'Arthur', 'the', 'quest', 'for', 'the', 'Holy', 'Grail', 'boom', 'singing', 'stops', 'blessing', 'blessing', 'from', 'the', 'Lord', 'God', 'be', 'praised', 'King', 'Arthur', 'music', 'clop', 'clop', 'clop', 'Halt', 'horn', 'Hallo', 'pause', 'Hallo', 'Allo', 'Who', 'is', 'eet', 'It', 'is', 'King', 'Arthur', 'and', 'these', 'are', 'my', 'Knights', 'of', 'the', 'Round', 'Table', 'Who', 'castle', 'is', 'this', 'This', 'is', 'the', 'castle', 'of', 'my', 'master', 'Guy', 'de', 'Loimbard', 'Go', 'and', 'tell', 'your', 'master', 'that', 'we', 'have', 'been', 'charged', 'by', 'God', 'with', 'sacred', 'quest', 'If', 'he', 'will', 'give', 'us', 'food', 'and', 'shelter', 'for', 'the', 'night', 'he', 'can', 'join', 'us', 'in', 'our', 'quest', 'for', 'the', 'Holy', 'Grail', 'Well', 'll', 'ask', 'him', 'but', 'don', 'think', 'he', 'll', 'be', 'very', 'keen', 'Uh', 'he', 'already', 'got', 'one', 'you', 'see', 'What', 'He', 'says', 'they', 've', 'already', 'got', 'one', 'Are', 'you', 'sure', 'he', 'got', 'one', 'Oh', 'yes', 'it', 'very', 'nice', 'told', 'him', 'we', 'already', 'got', 'one', 'Well', 'um', 'can', 'we', 'come', 'up', 'and', 'have', 'look', 'Of', 'course', 'not', 'You', 'are', 'English', 'types', 'Well', 'what', 'are', 'you', 'then', 'French', 'Why', 'do', 'think', 'have', 'this', 'outrageous', 'accent', 'you', 'silly', 'king', 'What', 'are', 'you', 'doing', 'in', 'England', 'Mind', 'your', 'own', 'business', 'If', 'you', 'will', 'not', 'show', 'us', 'the', 'Grail', 'we', 'shall', 'take', 'your', 'castle', 'by', 'force', 'You', 'don', 'frighten', 'us', 'English', 'pig', 'dogs', 'Go', 'and', 'boil', 'your', 'bottom', 'sons', 'of', 'silly', 'person', 'blow', 'my', 'nose', 'at', 'you', 'so', 'called', 'Arthur', 'King', 'you', 'and', 'all', 'your', 'silly', 'English', 'nnnnniggets', 'Thpppppt', 'Thppt', 'Thppt', 'What', 'strange', 'person', 'Now', 'look', 'here', 'my', 'good', 'man', 'don', 'wanna', 'talk', 'to', 'you', 'no', 'more', 'you', 'empty', 'headed', 'animal', 'food', 'trough', 'wiper', 'fart', 'in', 'your', 'general', 'direction', 'You', 'mother', 'was', 'hamster', 'and', 'your', 'father', 'smelt', 'of', 'elderberries', 'Is', 'there', 'someone', 'else', 'up', 'there', 'we', 'could', 'talk', 'to', 'No', 'now', 'go', 'away', 'or', 'shall', 'taunt', 'you', 'second', 'time', 'sniff', 'Now', 'this', 'is', 'your', 'last', 'chance', 've', 'been', 'more', 'than', 'reasonable', 'Fetchez', 'la', 'vache', 'Quoi', 'Fetchez', 'la', 'vache', 'mooo', 'If', 'you', 'do', 'not', 'agree', 'to', 'my', 'commands', 'then', 'shall', 'twong', 'mooooooo', 'Jesus', 'Christ', 'Christ', 'thud', 'Ah', 'Ohh', 'Right', 'Charge', 'Charge', 'mayhem', 'Hey', 'this', 'one', 'is', 'for', 'your', 'mother', 'There', 'you', 'go', 'mayhem', 'And', 'this', 'one', 'for', 'your', 'dad', 'Run', 'away', 'Run', 'away', 'Thppppt', 'taunting', 'Fiends', 'll', 'tear', 'them', 'apart', 'No', 'no', 'No', 'no', 'Sir', 'have', 'plan', 'sir', 'later', 'wind', 'saw', 'saw', 'saw', 'saw', 'saw', 'saw', 'saw', 'saw', 'saw', 'saw', 'saw', 'saw', 'saw', 'saw', 'saw', 'saw', 'clunk', 'bang', 'rewr', 'squeak', 'squeak', 'squeak', 'squeak', 'squeak', 'squeak', 'squeak', 'squeak', 'squeak', 'squeak', 'rrrr', 'rrrr', 'rrrr', 'drilllll', 'sawwwww', 'clunk', 'crash', 'clang', 'squeak', 'squeak', 'squeak', 'squeak', 'squeak', 'creak', 'whispering', 'est', 'un', 'lapin', 'lapin', 'de', 'bois', 'Quoi', 'Un', 'cadeau', 'What', 'present', 'Oh', 'un', 'cadeau', 'Oui', 'oui', 'Hurry', 'What', 'Let', 'go', 'Oh', 'On', 'va', 'Bon', 'magne', 'Over', 'here', 'squeak', 'squeak', 'squeak', 'squeak', 'squeak', 'clllank', 'What', 'happens', 'now', 'Well', 'now', 'uh', 'Launcelot', 'Galahad', 'and', 'uh', 'wait', 'until', 'nightfall', 'and', 'then', 'leap', 'out', 'of', 'the', 'rabbit', 'taking', 'the', 'French', 'uh', 'by', 'surprise', 'Not', 'only', 'by', 'surprise', 'but', 'totally', 'unarmed', 'Who', 'leaps', 'out', 'uh', 'Launcelot', 'Galahad', 'and', 'Uh', 'leap', 'out', 'of', 'the', 'rabbit', 'uh', 'and', 'uh', 'Ohh', 'Oh', 'Um', 'look', 'if', 'we', 'built', 'this', 'large', 'wooden', 'badger', 'clank', 'twong', 'Run', 'away', 'Run', 'away', 'Run', 'away', 'Run', 'away', 'Run', 'away', 'Run', 'away', 'Run', 'away', 'Run', 'away', 'Oh', 'haw', 'haw', 'haw', 'haw', 'Haw', 'Haw', 'haw', 'heh', 'clack', 'Picture', 'for', 'Schools', 'take', 'eight', 'Action', 'Defeat', 'at', 'the', 'castle', 'seems', 'to', 'have', 'utterly', 'disheartened', 'King', 'Arthur', 'The', 'ferocity', 'of', 'the', 'French', 'taunting', 'took', 'him', 'completely', 'by', 'surprise', 'and', 'Arthur', 'became', 'convinced', 'that', 'new', 'strategy', 'was', 'required', 'if', 'the', 'quest', 'for', 'the', 'Holy', 'Grail', 'were', 'to', 'be', 'brought', 'to', 'successful', 'conclusion', 'Arthur', 'having', 'consulted', 'his', 'closest', 'knights', 'decided', 'that', 'they', 'should', 'separate', 'and', 'search', 'for', 'the', 'Grail', 'individually', 'clop', 'clop', 'clop', 'Now', 'this', 'is', 'what', 'they', 'did', 'Launcelot', 'Aaaah', 'slash', 'kills', 'Frank', 'trumpets', 'The', 'Tale', 'of', 'Sir', 'Robin', 'So', 'each', 'of', 'the', 'knights', 'went', 'their', 'separate', 'ways', 'Sir', 'Robin', 'rode', 'north', 'through', 'the', 'dark', 'forest', 'of', 'Ewing', 'accompanied', 'by', 'his', 'favorite', 'minstrels', 'singing', 'Bravely', 'bold', 'Sir', 'Robin', 'rode', 'forth', 'from', 'Camelot', 'He', 'was', 'not', 'afraid', 'to', 'die', 'brave', 'Sir', 'Robin', 'He', 'was', 'not', 'at', 'all', 'afraid', 'to', 'be', 'killed', 'in', 'nasty', 'ways', 'Brave', 'brave', 'brave', 'brave', 'Sir', 'Robin', 'He', 'was', 'not', 'in', 'the', 'least', 'bit', 'scared', 'to', 'be', 'mashed', 'into', 'pulp', 'Or', 'to', 'have', 'his', 'eyes', 'gouged', 'out', 'and', 'his', 'elbows', 'broken', 'To', 'have', 'his', 'kneecaps', 'split', 'and', 'his', 'body', 'burned', 'away', 'And', 'his', 'limbs', 'all', 'hacked', 'and', 'mangled', 'brave', 'Sir', 'Robin', 'His', 'head', 'smashed', 'in', 'and', 'his', 'heart', 'cut', 'out', 'And', 'his', 'liver', 'removed', 'and', 'his', 'bowels', 'unplugged', 'And', 'his', 'nostrils', 'raped', 'and', 'his', 'bottom', 'burned', 'off', 'And', 'his', 'pen', 'That', 'that', 'uh', 'that', 'enough', 'music', 'for', 'now', 'lads', 'Heh', 'Looks', 'like', 'there', 'dirty', 'work', 'afoot', 'Anarcho', 'syndicalism', 'is', 'way', 'of', 'preserving', 'freedom', 'Oh', 'Dennis', 'forget', 'about', 'freedom', 'We', 'haven', 'got', 'enough', 'mud', 'Halt', 'Who', 'art', 'thou', 'singing', 'He', 'is', 'brave', 'Sir', 'Robin', 'brave', 'Sir', 'Robin', 'who', 'Shut', 'up', 'Um', 'nobody', 'really', 'ju', 'just', 'um', 'just', 'passing', 'through', 'What', 'do', 'you', 'want', 'singing', 'To', 'fight', 'and', 'Shut', 'up', 'Um', 'oo', 'nothing', 'nothing', 'really', 'uh', 'just', 'just', 'to', 'um', 'just', 'to', 'pass', 'through', 'good', 'Sir', 'Knight', 'afraid', 'not', 'Ah', 'well', 'actually', 'am', 'Knight', 'of', 'the', 'Round', 'Table', 'You', 're', 'Knight', 'of', 'the', 'Round', 'Table', 'am', 'In', 'that', 'case', 'shall', 'have', 'to', 'kill', 'you', 'Shall', 'Oh', 'don', 'think', 'so', 'Well', 'what', 'do', 'think', 'think', 'kill', 'him', 'Oh', 'let', 'be', 'nice', 'to', 'him', 'Oh', 'shut', 'up', 'Perhaps', 'could', 'And', 'you', 'Oh', 'quick', 'Get', 'the', 'sword', 'out', 'want', 'to', 'cut', 'his', 'headoff', 'Oh', 'cut', 'your', 'own', 'head', 'off', 'Yes', 'do', 'us', 'all', 'favor', 'What', 'Yapping', 'on', 'all', 'the', 'time', 'You', 're', 'lucky', 'You', 're', 'not', 'next', 'to', 'him', 'What', 'do', 'you', 'mean', 'You', 'snore', 'Oh', 'don', 'Anyway', 'you', 've', 'got', 'bad', 'breath', 'Well', 'it', 'only', 'because', 'you', 'don', 'brush', 'my', 'teeth', 'Oh', 'stop', 'bitching', 'and', 'let', 'go', 'have', 'tea', 'Oh', 'all', 'right', 'All', 'right', 'All', 'right', 'We', 'll', 'kill', 'him', 'first', 'and', 'then', 'have', 'tea', 'and', 'biscuits', 'Yes', 'Oh', 'not', 'biscuits', 'All', 'right', 'All', 'right', 'not', 'biscuits', 'but', 'let', 'kill', 'him', 'anyway', 'Right', 'He', 'buggered', 'off', 'So', 'he', 'has', 'He', 'scarper', 'singing', 'Brave', 'Sir', 'Robin', 'ran', 'away', 'No', 'singing', 'Bravely', 'ran', 'away', 'away', 'didn', 'singing', 'When', 'danger', 'reared', 'its', 'ugly', 'head', 'he', 'bravely', 'turned', 'his', 'tail', 'and', 'fled', 'No', 'singing', 'Yes', 'brave', 'Sir', 'Robin', 'turned', 'about', 'didn', 'singing', 'And', 'gallantly', 'he', 'chickened', 'out', 'bravely', 'taking', 'to', 'his', 'feet', 'never', 'did', 'singing', 'He', 'beat', 'very', 'brave', 'retreat', 'All', 'lies', 'singing', 'Bravest', 'of', 'the', 'brave', 'Sir', 'Robin', 'never', 'chanting', 'Pie', 'Iesu', 'domine', 'dona', 'eis', 'requiem', 'Heh', 'heh', 'heeh', 'ooh', 'twang', 'chanting', 'Pie', 'Iesu', 'domine', 'Wayy', 'splash', 'Ho', 'ho', 'Woa', 'wayy', 'twang', 'splash', 'Heh', 'heh', 'heh', 'heh', 'ho', 'Heh', 'heh', 'heh', 'chanting', 'dona', 'eis', 'requiem', 'Wayy', 'twang', 'Wayy', 'twang', 'whispering', 'Forgive', 'me', 'for', 'asking', 'Oh', 'Oooo', 'trumpets', 'The', 'Tale', 'of', 'Sir', 'Galahad', 'boom', 'wind', 'howl', 'howl', 'boom', 'angels', 'singing', 'howl', 'boom', 'howl', 'boom', 'pound', 'pound', 'pound', 'Open', 'the', 'door', 'Open', 'the', 'door', 'pound', 'pound', 'pound', 'In', 'the', 'name', 'of', 'King', 'Arthur', 'open', 'the', 'door', 'squeak', 'thump', 'squeak', 'boom', 'Hello', 'Welcome', 'gentle', 'Sir', 'Knight', 'Welcome', 'to', 'the', 'Castle', 'Anthrax', 'The', 'Castle', 'Anthrax', 'Yes', 'Oh', 'it', 'not', 'very', 'good', 'name', 'is', 'it', 'Oh', 'but', 'we', 'are', 'nice', 'and', 'we', 'will', 'attend', 'to', 'your', 'every', 'every', 'need', 'You', 'are', 'the', 'keepers', 'of', 'the', 'Holy', 'Grail', 'The', 'what', 'The', 'Grail', 'It', 'is', 'here', 'Oh', 'but', 'you', 'are', 'tired', 'and', 'you', 'must', 'rest', 'awhile', 'Midget', 'Crapper', 'and', 'Yes', 'Zoot', 'Prepare', 'bed', 'for', 'our', 'guest', 'and', 'Oh', 'thank', 'you', 'Thank', 'you', 'Thank', 'you', 'Thank', 'you', 'Thank', 'you', 'Thank', 'you', 'Away', 'away', 'varletesses', 'The', 'beds', 'here', 'are', 'warm', 'and', 'soft', 'and', 'very', 'very', 'big', 'Well', 'look', 'uh', 'What', 'is', 'your', 'name', 'handsome', 'knight', 'Sir', 'Galahad', 'the', 'Chaste', 'Mine', 'is', 'Zoot', 'Just', 'Zoot', 'Oh', 'but', 'come', 'Look', 'please', 'In', 'God', 'name', 'show', 'me', 'the', 'Grail', 'Oh', 'you', 'have', 'suffered', 'much', 'You', 'are', 'delirious', 'No', 'look', 'have', 'seen', 'it', 'It', 'is', 'here', 'in', 'this', 'Sir', 'Galahad', 'You', 'would', 'not', 'be', 'so', 'ungallant', 'as', 'to', 'refuse', 'our', 'hospitality', 'Well', 'uh', 'Oh', 'am', 'afraid', 'our', 'life', 'must', 'seem', 'very', 'dull', 'and', 'quiet', 'compared', 'to', 'yours', 'We', 'are', 'but', 'eight', 'score', 'young', 'blondes', 'and', 'brunettes', 'all', 'between', 'sixteen', 'and', 'nineteen', 'and', 'half', 'cut', 'off', 'in', 'this', 'castle', 'with', 'no', 'one', 'to', 'protect', 'us', 'Oooh', 'It', 'is', 'lonely', 'life', 'bathing', 'dressing', 'undressing', 'making', 'exciting', 'underwear', 'We', 'are', 'just', 'not', 'used', 'to', 'handsome', 'knights', 'Nay', 'Nay', 'Come', 'Come', 'You', 'may', 'lie', 'here', 'Oh', 'but', 'you', 'are', 'wounded', 'No', 'no', 'it', 'it', 'nothing', 'Oh', 'you', 'must', 'see', 'the', 'doctors', 'immediately', 'No', 'no', 'please', 'Lie', 'down', 'clap', 'clap', 'Well', 'what', 'seems', 'to', 'be', 'the', 'trouble', 'They', 're', 'doctors', 'Uh', 'they', 'have', 'basic', 'medical', 'training', 'yes', 'but', 'Oh', 'come', 'come', 'You', 'must', 'try', 'to', 'rest', 'Doctor', 'Piglet', 'Doctor', 'Winston', 'Practice', 'your', 'art', 'Try', 'to', 'relax', 'Are', 'you', 'sure', 'that', 'absolutely', 'necessary', 'We', 'must', 'examine', 'you', 'There', 'nothing', 'wrong', 'with', 'that', 'Please', 'We', 'are', 'doctors', 'Look', 'This', 'cannot', 'be', 'am', 'sworn', 'to', 'chastity', 'Back', 'to', 'your', 'bed', 'At', 'once', 'Torment', 'me', 'no', 'longer', 'have', 'seen', 'the', 'Grail', 'There', 'no', 'grail', 'here', 'have', 'seen', 'it', 'have', 'seen', 'it', 'clank', 'have', 'seen', 'Hello', 'Oh', 'Hello', 'Hello', 'Hello', 'Hello', 'Hello', 'Hello', 'Hello', 'Hello', 'Hello', 'Hello', 'Hello', 'Hello', 'Hello', 'Hello', 'Hello', 'Hello', 'Hello', 'Hello', 'Hello', 'Hello', 'Hello', 'Hello', 'Hello', 'Zoot', 'No', 'am', 'Zoot', 'identical', 'twin', 'sister', 'Dingo', 'Oh', 'well', 'excuse', 'me', 'Where', 'are', 'you', 'going', 'seek', 'the', 'Grail', 'have', 'seen', 'it', 'here', 'in', 'this', 'castle', 'Oh', 'no', 'Oh', 'no', 'Bad', 'bad', 'Zoot', 'Well', 'what', 'is', 'it', 'Oh', 'wicked', 'bad', 'naughty', 'Zoot', 'She', 'has', 'been', 'setting', 'alight', 'to', 'our', 'beacon', 'which', 'have', 'just', 'remembered', 'is', 'grail', 'shaped', 'It', 'not', 'the', 'first', 'time', 'we', 've', 'had', 'this', 'problem', 'It', 'not', 'the', 'real', 'Grail', 'Oh', 'wicked', 'bad', 'naughty', 'evil', 'Zoot', 'She', 'is', 'bad', 'person', 'and', 'must', 'pay', 'the', 'penalty', 'Do', 'you', 'think', 'this', 'scene', 'should', 'have', 'been', 'cut', 'We', 'were', 'so', 'worried', 'when', 'the', 'boys', 'were', 'writing', 'it', 'but', 'now', 'we', 're', 'glad', 'It', 'better', 'than', 'some', 'of', 'the', 'previous', 'scenes', 'think', 'At', 'least', 'ours', 'was', 'better', 'visually', 'Well', 'at', 'least', 'ours', 'was', 'committed', 'It', 'wasn', 'just', 'string', 'of', 'pussy', 'jokes', 'Get', 'on', 'with', 'it', 'Yes', 'get', 'on', 'with', 'it', 'Yes', 'get', 'on', 'with', 'it', 'Oh', 'am', 'enjoying', 'this', 'scene', 'Get', 'on', 'with', 'it', 'sigh', 'Oh', 'wicked', 'wicked', 'Zoot', 'Oh', 'she', 'is', 'naughty', 'person', 'and', 'she', 'must', 'pay', 'the', 'penalty', 'And', 'here', 'in', 'Castle', 'Anthrax', 'we', 'have', 'but', 'one', 'punishment', 'for', 'setting', 'alight', 'the', 'grail', 'shaped', 'beacon', 'You', 'must', 'tie', 'her', 'down', 'on', 'bed', 'and', 'spank', 'her', 'spanking', 'spanking', 'You', 'must', 'spank', 'her', 'well', 'And', 'after', 'you', 'have', 'spanked', 'her', 'you', 'may', 'deal', 'with', 'her', 'as', 'you', 'like', 'And', 'then', 'spank', 'me', 'And', 'spank', 'me', 'And', 'me', 'And', 'me', 'Yes', 'yes', 'you', 'must', 'give', 'us', 'all', 'good', 'spanking', 'spanking', 'spanking', 'There', 'is', 'going', 'to', 'be', 'spanking', 'tonight', 'And', 'after', 'the', 'spanking', 'the', 'oral', 'sex', 'The', 'oral', 'sex', 'The', 'oral', 'sex', 'Well', 'could', 'stay', 'bit', 'longer', 'Sir', 'Galahad', 'Oh', 'hello', 'Quick', 'What', 'Quick', 'Why', 'You', 'are', 'in', 'great', 'peril', 'No', 'he', 'isn', 'Silence', 'foul', 'temptress', 'You', 'know', 'she', 'got', 'point', 'Come', 'on', 'We', 'will', 'cover', 'your', 'escape', 'Look', 'fine', 'Come', 'on', 'Sir', 'Galahad', 'No', 'Look', 'can', 'tackle', 'this', 'lot', 'single', 'handed', 'Yes', 'Let', 'him', 'tackle', 'us', 'single', 'handed', 'Yes', 'Let', 'him', 'tackle', 'us', 'single', 'handed', 'No', 'Sir', 'Galahad', 'Come', 'on', 'No', 'Really', 'Honestly', 'can', 'cope', 'can', 'handle', 'this', 'lot', 'easily', 'Oh', 'yes', 'Let', 'him', 'handle', 'us', 'easily', 'Yes', 'Let', 'him', 'handle', 'us', 'easily', 'No', 'Quick', 'Quick', 'Please', 'can', 'defeat', 'them', 'There', 'only', 'hundred', 'and', 'fifty', 'of', 'them', 'Yes', 'yes', 'He', 'will', 'beat', 'us', 'easily', 'We', 'haven', 'chance', 'We', 'haven', 'chance', 'He', 'will', 'beat', 'us', 'easily', 'boom', 'Oh', 'shit', 'We', 'were', 'in', 'the', 'nick', 'of', 'time', 'You', 'were', 'in', 'great', 'peril', 'don', 'think', 'was', 'Yes', 'you', 'were', 'You', 'were', 'in', 'terrible', 'peril', 'Look', 'let', 'me', 'go', 'back', 'in', 'there', 'and', 'face', 'the', 'peril', 'No', 'it', 'too', 'perilous', 'Look', 'it', 'my', 'duty', 'as', 'knight', 'to', 'sample', 'as', 'much', 'peril', 'as', 'can', 'No', 'we', 've', 'got', 'to', 'find', 'the', 'Holy', 'Grail', 'Come', 'on', 'Oh', 'let', 'me', 'have', 'just', 'little', 'bit', 'of', 'peril', 'No', 'It', 'unhealthy', 'bet', 'you', 're', 'gay', 'No', 'not', 'Sir', 'Launcelot', 'had', 'saved', 'Sir', 'Galahad', 'from', 'almost', 'certain', 'temptation', 'but', 'they', 'were', 'still', 'no', 'nearer', 'the', 'Grail', 'Meanwhile', 'King', 'Arthur', 'and', 'Sir', 'Bedevere', 'not', 'more', 'than', 'swallow', 'flight', 'away', 'had', 'discovered', 'something', 'Oh', 'that', 'an', 'unladen', 'swallow', 'flight', 'obviously', 'mean', 'they', 'were', 'more', 'than', 'two', 'laden', 'swallows', 'flights', 'away', 'four', 'really', 'if', 'they', 'had', 'coconut', 'on', 'line', 'between', 'them', 'mean', 'if', 'the', 'birds', 'were', 'walking', 'and', 'dragging', 'Get', 'on', 'with', 'it', 'Oh', 'anyway', 'On', 'to', 'scene', 'twenty', 'four', 'which', 'is', 'smashing', 'scene', 'with', 'some', 'lovely', 'acting', 'in', 'which', 'Arthur', 'discovers', 'vital', 'clue', 'and', 'in', 'which', 'there', 'aren', 'any', 'swallows', 'although', 'think', 'you', 'can', 'hear', 'starling', 'oooh', 'Heh', 'hee', 'ha', 'ha', 'hee', 'hee', 'Hee', 'hee', 'hee', 'ha', 'ha', 'ha', 'And', 'this', 'enchanter', 'of', 'whom', 'you', 'speak', 'he', 'has', 'seen', 'the', 'Grail', 'Ha', 'ha', 'ha', 'ha', 'Heh', 'hee', 'ha', 'ha', 'hee', 'Ha', 'hee', 'ha', 'Ha', 'ha', 'ha', 'ha', 'Where', 'does', 'he', 'live', 'Heh', 'heh', 'heh', 'heh', 'Old', 'man', 'where', 'does', 'he', 'live', 'Hee', 'ha', 'ha', 'ha', 'He', 'knows', 'of', 'cave', 'cave', 'which', 'no', 'man', 'has', 'entered', 'And', 'the', 'Grail', 'The', 'Grail', 'is', 'there', 'There', 'is', 'much', 'danger', 'for', 'beyond', 'the', 'cave', 'lies', 'the', 'Gorge', 'of', 'Eternal', 'Peril', 'which', 'no', 'man', 'has', 'ever', 'crossed', 'But', 'the', 'Grail', 'Where', 'is', 'the', 'Grail', 'Seek', 'you', 'the', 'Bridge', 'of', 'Death', 'The', 'Bridge', 'of', 'Death', 'which', 'leads', 'to', 'the', 'Grail', 'Heh', 'hee', 'hee', 'hee', 'hee', 'Ha', 'ha', 'ha', 'ha', 'ha', 'Hee', 'ha', 'ha', 'spooky', 'music', 'music', 'stops', 'Ni', 'Ni', 'Ni', 'Ni', 'Ni', 'Ni', 'Who', 'are', 'you', 'We', 'are', 'the', 'Knights', 'Who', 'Say', 'Ni', 'Ni', 'No', 'Not', 'the', 'Knights', 'Who', 'Say', 'Ni', 'The', 'same', 'Who', 'are', 'they', 'We', 'are', 'the', 'keepers', 'of', 'the', 'sacred', 'words', 'Ni', 'Peng', 'and', 'Neee', 'wom', 'Neee', 'wom', 'Those', 'who', 'hear', 'them', 'seldom', 'live', 'to', 'tell', 'the', 'tale', 'The', 'Knights', 'Who', 'Say', 'Ni', 'demand', 'sacrifice', 'Knights', 'of', 'Ni', 'we', 'are', 'but', 'simple', 'travellers', 'who', 'seek', 'the', 'enchanter', 'who', 'lives', 'beyond', 'these', 'woods', 'Ni', 'Ni', 'Ni', 'Ni', 'Ni', 'Ni', 'Ow', 'Ow', 'Ow', 'Agh', 'We', 'shall', 'say', 'ni', 'again', 'to', 'you', 'if', 'you', 'do', 'not', 'appease', 'us', 'Well', 'what', 'is', 'it', 'you', 'want', 'We', 'want', 'shrubbery', 'dramatic', 'chord', 'what', 'Ni', 'Ni', 'Ni', 'Ni', 'and', 'Ow', 'Oh', 'Please', 'please', 'No', 'more', 'We', 'will', 'find', 'you', 'shrubbery', 'You', 'must', 'return', 'here', 'with', 'shrubbery', 'or', 'else', 'you', 'will', 'never', 'pass', 'through', 'this', 'wood', 'alive', 'Knights', 'of', 'Ni', 'you', 'are', 'just', 'and', 'fair', 'and', 'we', 'will', 'return', 'with', 'shrubbery', 'One', 'that', 'looks', 'nice', 'Of', 'course', 'And', 'not', 'too', 'expensive', 'Yes', 'Now', 'go', 'trumpets', 'Hmm', 'hmm', 'boom', 'Oh', 'Great', 'scott', 'Hm', 'Hmm', 'boom', 'Hm', 'Hmm', 'mumble', 'mumble', 'mumble', 'boom', 'mumble', 'mumble', 'mumble', 'boom', 'mumble', 'mumble', 'mumble', 'boom', 'mumble', 'mumble', 'mumble', 'boom', 'mumble', 'mumble', 'mumble', 'boom', 'mumble', 'mumble', 'mumble', 'boom', 'mumble', 'mumble', 'mumble', 'boom', 'mumble', 'mumble', 'mumble', 'boom', 'Ohh', 'crash', 'mumble', 'mumble', 'mumble', 'boom', 'Ay', 'up', 'Thsss', 'boom', 'Ayy', 'up', 'boom', 'Thsss', 'boom', 'Ayy', 'up', 'Stop', 'that', 'Stop', 'that', 'boom', 'Ay', 'up', 'Stop', 'that', 'boom', 'Look', 'on', 'Clear', 'off', 'Go', 'on', 'Go', 'away', 'Go', 'away', 'Go', 'away', 'And', 'you', 'Clear', 'off', 'sniff', 'mumble', 'mumble', 'mumble', 'bells', 'Hah', 'Bloody', 'weather', 'The', 'Tale', 'of', 'Sir', 'Launcelot', 'One', 'day', 'lad', 'all', 'this', 'will', 'be', 'yours', 'What', 'the', 'curtains', 'No', 'Not', 'the', 'curtains', 'lad', 'All', 'that', 'you', 'can', 'see', 'stretched', 'out', 'over', 'the', 'hills', 'and', 'valleys', 'of', 'this', 'land', 'This', 'll', 'be', 'your', 'kingdom', 'lad', 'But', 'Mother', 'Father', 'lad', 'Father', 'but', 'Father', 'don', 'want', 'any', 'of', 'that', 'Listen', 'lad', 'built', 'this', 'kingdom', 'up', 'from', 'nothing', 'When', 'started', 'here', 'all', 'there', 'was', 'was', 'swamp', 'Other', 'kings', 'said', 'was', 'daft', 'to', 'build', 'castle', 'on', 'swamp', 'but', 'built', 'it', 'all', 'the', 'same', 'just', 'to', 'show', 'em', 'It', 'sank', 'into', 'the', 'swamp', 'So', 'built', 'second', 'one', 'That', 'sank', 'into', 'the', 'swamp', 'So', 'built', 'third', 'one', 'That', 'burned', 'down', 'fell', 'over', 'then', 'sank', 'into', 'the', 'swamp', 'But', 'the', 'fourth', 'one', 'stayed', 'up', 'And', 'that', 'what', 'you', 're', 'gonna', 'get', 'lad', 'the', 'strongest', 'castle', 'in', 'these', 'islands', 'But', 'don', 'want', 'any', 'of', 'that', 'rather', 'Rather', 'what', 'rather', 'music', 'just', 'sing', 'Stop', 'that', 'Stop', 'that', 'You', 're', 'not', 'going', 'into', 'song', 'while', 'here', 'Now', 'listen', 'lad', 'In', 'twenty', 'minutes', 'you', 're', 'getting', 'married', 'to', 'girl', 'whose', 'father', 'owns', 'the', 'biggest', 'tracts', 'of', 'open', 'land', 'in', 'Britain', 'but', 'don', 'want', 'land', 'Listen', 'Alice', 'Herbert', 'Erbert', 'We', 'live', 'in', 'bloody', 'swamp', 'We', 'need', 'all', 'the', 'land', 'we', 'can', 'get', 'But', 'but', 'don', 'like', 'her', 'Don', 'like', 'her', 'What', 'wrong', 'with', 'her', 'She', 'beautiful', 'She', 'rich', 'She', 'got', 'huge', 'tracts', 'land', 'know', 'but', 'want', 'the', 'the', 'girl', 'that', 'marry', 'to', 'have', 'music', 'certain', 'special', 'something', 'Cut', 'that', 'out', 'Cut', 'that', 'out', 'Look', 'you', 're', 'marrying', 'Princess', 'Lucky', 'so', 'you', 'better', 'get', 'used', 'to', 'the', 'idea', 'smack', 'Guards', 'Make', 'sure', 'the', 'Prince', 'doesn', 'leave', 'this', 'room', 'until', 'come', 'and', 'get', 'him', 'Not', 'to', 'leave', 'the', 'room', 'even', 'if', 'you', 'come', 'and', 'get', 'him', 'Hic', 'No', 'no', 'Until', 'come', 'and', 'get', 'him', 'Until', 'you', 'come', 'and', 'get', 'him', 'we', 're', 'not', 'to', 'enter', 'the', 'room', 'No', 'no', 'No', 'You', 'stay', 'in', 'the', 'room', 'and', 'make', 'sure', 'he', 'doesn', 'leave', 'And', 'you', 'll', 'come', 'and', 'get', 'him', 'Hic', 'Right', 'We', 'don', 'need', 'to', 'do', 'anything', 'apart', 'from', 'just', 'stop', 'him', 'entering', 'the', 'room', 'No', 'no', 'Leaving', 'the', 'room', 'Leaving', 'the', 'room', 'Yes', 'sniff', 'All', 'right', 'Right', 'Hic', 'Right', 'Oh', 'if', 'if', 'if', 'uhh', 'if', 'if', 'ehh', 'if', 'if', 'we', 'Yes', 'What', 'is', 'it', 'Oh', 'if', 'oh', 'Look', 'it', 'quite', 'simple', 'Uh', 'You', 'just', 'stay', 'here', 'and', 'make', 'sure', 'doesn', 'leave', 'the', 'room', 'Alright', 'Hic', 'Right', 'Oh', 'remember', 'Uhh', 'can', 'he', 'leave', 'the', 'room', 'with', 'us', 'no', 'no', 'No', 'You', 'just', 'keep', 'him', 'in', 'here', 'and', 'make', 'sure', 'he', 'Oh', 'yes', 'We', 'll', 'keep', 'him', 'in', 'here', 'obviously', 'But', 'if', 'he', 'had', 'to', 'leave', 'and', 'we', 'were', 'with', 'him', 'No', 'no', 'no', 'no', 'Just', 'keep', 'him', 'in', 'here', 'Until', 'you', 'or', 'anyone', 'else', 'No', 'not', 'anyone', 'else', 'Just', 'me', 'Just', 'you', 'Hic', 'Get', 'back', 'Get', 'back', 'All', 'right', 'Right', 'We', 'll', 'stay', 'here', 'until', 'you', 'get', 'back', 'Hic', 'And', 'uh', 'make', 'sure', 'he', 'doesn', 'leave', 'What', 'Make', 'sure', 'doesn', 'leave', 'The', 'Prince', 'Yes', 'Make', 'sure', 'doesn', 'leave', 'Oh', 'yes', 'of', 'course', 'Hic', 'Ah', 'thought', 'you', 'meant', 'him', 'You', 'know', 'it', 'seemed', 'bit', 'daft', 'me', 'havin', 'to', 'guard', 'him', 'when', 'he', 'guard', 'Is', 'that', 'clear', 'Hic', 'Oh', 'quite', 'clear', 'No', 'problems', 'Right', 'Where', 'are', 'you', 'going', 'We', 're', 'coming', 'with', 'you', 'No', 'no', 'want', 'you', 'to', 'stay', 'here', 'and', 'make', 'sure', 'doesn', 'leave', 'Oh', 'see', 'Right', 'But', 'Father', 'Shut', 'your', 'noise', 'you', 'And', 'get', 'that', 'suit', 'on', 'music', 'And', 'no', 'singing', 'Hic', 'Oh', 'go', 'and', 'get', 'glass', 'of', 'water', 'clank', 'scribble', 'scribble', 'scribble', 'fold', 'fold', 'twong', 'Well', 'taken', 'Concorde', 'Thank', 'you', 'sir', 'Most', 'kind', 'And', 'again', 'Over', 'we', 'go', 'Good', 'Steady', 'And', 'now', 'the', 'big', 'one', 'Uuh', 'Come', 'on', 'Concorde', 'thwonk', 'Message', 'for', 'you', 'sir', 'fwump', 'Concorde', 'Concorde', 'Speak', 'to', 'me', 'To', 'whoever', 'finds', 'this', 'note', 'have', 'been', 'imprisoned', 'by', 'my', 'father', 'who', 'wishes', 'me', 'to', 'marry', 'against', 'my', 'will', 'Please', 'please', 'please', 'come', 'and', 'rescue', 'me', 'am', 'in', 'the', 'Tall', 'Tower', 'of', 'Swamp', 'Castle', 'At', 'last', 'call', 'cry', 'of', 'distress', 'This', 'could', 'be', 'the', 'sign', 'that', 'leads', 'us', 'to', 'the', 'Holy', 'Grail', 'Brave', 'brave', 'Concorde', 'you', 'shall', 'not', 'have', 'died', 'in', 'vain', 'Uh', 'not', 'quite', 'dead', 'sir', 'Well', 'you', 'shall', 'not', 'have', 'been', 'mortally', 'wounded', 'in', 'vain', 'think', 'could', 'pull', 'through', 'sir', 'Oh', 'see', 'Actually', 'think', 'all', 'right', 'to', 'come', 'with', 'you', 'sir', 'No', 'no', 'sweet', 'Concorde', 'Stay', 'here', 'will', 'send', 'help', 'as', 'soon', 'as', 'have', 'accomplished', 'daring', 'and', 'heroic', 'rescue', 'in', 'my', 'own', 'particular', 'sigh', 'Idiom', 'sir', 'Idiom', 'No', 'feel', 'fine', 'actually', 'sir', 'Farewell', 'sweet', 'Concorde', 'll', 'um', 'll', 'just', 'stay', 'here', 'then', 'Shall', 'sir', 'Yeah', 'inside', 'castle', 'and', 'giggle', 'giggle', 'giggle', 'outside', 'castle', 'Morning', 'Morning', 'Oooh', 'ptoo', 'Ha', 'ha', 'Hiyya', 'Hey', 'Hiyya', 'Ha', 'etc', 'and', 'giggle', 'giggle', 'giggle', 'Ha', 'ha', 'Huy', 'Uuh', 'Aaah', 'Ha', 'ha', 'And', 'take', 'this', 'Aah', 'Hiyah', 'Aah', 'Aaah', 'Hyy', 'Hya', 'Hiyya', 'Ha', 'Now', 'you', 're', 'not', 'allowed', 'to', 'enter', 'the', 'room', 'aaugh', 'fair', 'one', 'behold', 'your', 'humble', 'servant', 'Sir', 'Launcelot', 'of', 'Camelot', 'have', 'come', 'to', 'take', 'Oh', 'terribly', 'sorry', 'You', 'got', 'my', 'note', 'Uh', 'well', 'got', 'note', 'You', 've', 'come', 'to', 'rescue', 'me', 'Uh', 'well', 'no', 'You', 'see', 'hadn', 'knew', 'someone', 'would', 'knew', 'that', 'somewhere', 'out', 'there', 'music', 'Well', 'there', 'must', 'be', 'someone', 'Stop', 'that', 'Stop', 'that', 'Stop', 'it', 'Stop', 'it', 'Who', 'are', 'you', 'your', 'son', 'No', 'not', 'you', 'Uh', 'am', 'Sir', 'Launcelot', 'sir', 'He', 'come', 'to', 'rescue', 'me', 'Father', 'Well', 'let', 'not', 'jump', 'to', 'conclusions', 'Did', 'you', 'kill', 'all', 'those', 'guards', 'Uh', 'Oh', 'yes', 'Sorry', 'They', 'cost', 'fifty', 'pounds', 'each', 'Well', 'awfully', 'sorry', 'Um', 'really', 'can', 'explain', 'everything', 'Don', 'be', 'afraid', 'of', 'him', 'Sir', 'Launcelot', 've', 'got', 'rope', 'all', 'ready', 'You', 'killed', 'eight', 'wedding', 'guests', 'in', 'all', 'Well', 'uh', 'you', 'see', 'the', 'thing', 'is', 'thought', 'your', 'son', 'was', 'lady', 'can', 'understand', 'that', 'Hurry', 'Sir', 'Launcelot', 'Hurry', 'Shut', 'up', 'You', 'only', 'killed', 'the', 'bride', 'father', 'that', 'all', 'Well', 'really', 'didn', 'mean', 'to', 'Didn', 'mean', 'to', 'You', 'put', 'your', 'sword', 'right', 'through', 'his', 'head', 'Oh', 'dear', 'Is', 'he', 'all', 'right', 'You', 'even', 'kicked', 'the', 'bride', 'in', 'the', 'chest', 'This', 'is', 'going', 'to', 'cost', 'me', 'fortune', 'Well', 'can', 'explain', 'was', 'in', 'the', 'forest', 'um', 'riding', 'north', 'from', 'Camelot', 'when', 'got', 'this', 'note', 'you', 'see', 'Camelot', 'Are', 'you', 'from', 'uh', 'Camelot', 'Hurry', 'Sir', 'Launcelot', 'Uh', 'am', 'Knight', 'of', 'King', 'Arthur', 'sir', 'Very', 'nice', 'castle', 'Camelot', 'Uh', 'very', 'good', 'pig', 'country', 'Is', 'it', 'Hurry', 'ready', 'Would', 'you', 'uh', 'like', 'to', 'come', 'and', 'have', 'drink', 'Well', 'that', 'that', 'uh', 'awfully', 'nice', 'of', 'you', 'am', 'ready', 'um', 'mean', 'to', 'be', 'so', 'understanding', 'thonk', 'Um', 'woosh', 'Oooh', 'afraid', 'when', 'in', 'this', 'idiom', 'sometimes', 'get', 'bit', 'uh', 'sort', 'of', 'carried', 'away', 'Oh', 'don', 'worry', 'about', 'that', 'Oooh', 'splat', 'crying', 'Well', 'this', 'is', 'the', 'main', 'hall', 'We', 're', 'going', 'to', 'have', 'all', 'this', 'knocked', 'through', 'and', 'made', 'into', 'one', 'big', 'uh', 'living', 'room', 'There', 'he', 'is', 'Oh', 'bloody', 'hell', 'Ha', 'ha', 'ha', 'Hey', 'Ha', 'ha', 'Hold', 'it', 'Stop', 'it', 'Hold', 'it', 'Hold', 'it', 'Hold', 'it', 'Hold', 'it', 'Hold', 'it', 'Please', 'Sorry', 'Sorry', 'You', 'see', 'what', 'mean', 'just', 'get', 'carried', 'away', 'really', 'most', 'awfully', 'sorry', 'Sorry', 'Sorry', 'everyone', 'He', 'killed', 'the', 'best', 'man', 'yelling', 'Hold', 'it', 'Hold', 'it', 'Please', 'Hold', 'it', 'This', 'is', 'Sir', 'Launcelot', 'from', 'the', 'Court', 'of', 'Camelot', 'very', 'brave', 'and', 'influential', 'knight', 'and', 'my', 'special', 'guest', 'here', 'today', 'Hello', 'He', 'killed', 'my', 'auntie', 'yelling', 'Please', 'Please', 'This', 'is', 'supposed', 'to', 'be', 'happy', 'occasion', 'Let', 'not', 'bicker', 'and', 'argue', 'about', 'who', 'killed', 'who', 'We', 'are', 'here', 'today', 'to', 'witness', 'the', 'union', 'of', 'two', 'young', 'people', 'in', 'the', 'joyful', 'bond', 'of', 'the', 'holy', 'wedlock', 'Unfortunately', 'one', 'of', 'them', 'my', 'son', 'Herbert', 'has', 'just', 'fallen', 'to', 'his', 'death', 'Oh', 'Oh', 'no', 'But', 'don', 'want', 'to', 'think', 've', 'not', 'lost', 'son', 'so', 'much', 'as', 'gained', 'daughter', 'clap', 'clap', 'clap', 'For', 'since', 'the', 'tragic', 'death', 'of', 'her', 'father', 'He', 'not', 'quite', 'dead', 'Since', 'the', 'near', 'fatal', 'wounding', 'of', 'her', 'father', 'He', 'getting', 'better', 'For', 'since', 'her', 'own', 'father', 'who', 'when', 'he', 'seemed', 'about', 'to', 'recover', 'suddenly', 'felt', 'the', 'icy', 'hand', 'of', 'death', 'upon', 'him', 'Uugh', 'Oh', 'he', 'died', 'And', 'want', 'his', 'only', 'daughter', 'to', 'look', 'upon', 'me', 'as', 'her', 'old', 'dad', 'in', 'very', 'real', 'and', 'legally', 'binding', 'sense', 'clap', 'clap', 'clap', 'And', 'feel', 'sure', 'that', 'the', 'merger', 'er', 'the', 'union', 'between', 'the', 'Princess', 'and', 'the', 'brave', 'but', 'dangerous', 'Sir', 'Launcelot', 'of', 'Camelot', 'What', 'Look', 'The', 'dead', 'Prince', 'Oooh', 'The', 'dead', 'Prince', 'He', 'not', 'quite', 'dead', 'No', 'feel', 'much', 'better', 'You', 'fell', 'out', 'of', 'the', 'Tall', 'Tower', 'you', 'creep', 'No', 'was', 'saved', 'at', 'the', 'last', 'minute', 'How', 'Well', 'll', 'tell', 'you', 'music', 'Not', 'like', 'that', 'Not', 'like', 'that', 'No', 'Stop', 'it', 'singing', 'He', 'going', 'to', 'tell', 'He', 'going', 'to', 'tell', 'Shut', 'uuup', 'singing', 'He', 'going', 'to', 'tell', 'Shut', 'up', 'singing', 'He', 'going', 'to', 'tell', 'Shut', 'up', 'singing', 'He', 'going', 'to', 'tell', 'Not', 'like', 'that', 'singing', 'He', 'going', 'to', 'tell', 'He', 'going', 'to', 'tell', 'He', 'going', 'to', 'tell', 'He', 'going', 'to', 'tell', 'Quickly', 'sir', 'singing', 'He', 'going', 'to', 'tell', 'Come', 'this', 'way', 'singing', 'He', 'going', 'to', 'tell', 'He', 'going', 'to', 'tell', 'No', 'It', 'not', 'right', 'for', 'my', 'idiom', 'singing', 'He', 'going', 'to', 'tell', 'about', 'his', 'great', 'escape', 'must', 'escape', 'more', 'sigh', 'singing', 'Oh', 'he', 'fell', 'long', 'long', 'way', 'Dramatically', 'sir', 'Dramatically', 'singing', 'But', 'he', 'here', 'with', 'us', 'today', 'Heee', 'Hoa', 'crash', 'Hoo', 'singing', 'What', 'wonderful', 'escape', 'Excuse', 'me', 'Could', 'uh', 'could', 'somebody', 'give', 'me', 'push', 'please', 'King', 'Arthur', 'music', 'clop', 'clop', 'clop', 'rewr', 'rewr', 'rewr', 'rewr', 'rewr', 'rewr', 'Old', 'crone', 'rewr', 'music', 'stops', 'Is', 'there', 'anywhere', 'in', 'this', 'town', 'where', 'we', 'could', 'buy', 'shrubbery', 'dramatic', 'chord', 'Who', 'sent', 'you', 'The', 'Knights', 'Who', 'Say', 'Ni', 'Aggh', 'No', 'Never', 'We', 'have', 'no', 'shrubberies', 'here', 'If', 'you', 'do', 'not', 'tell', 'us', 'where', 'we', 'can', 'buy', 'shrubbery', 'my', 'friend', 'and', 'will', 'say', 'we', 'will', 'say', 'ni', 'Agh', 'Do', 'your', 'worst', 'Very', 'well', 'If', 'you', 'will', 'not', 'assist', 'us', 'voluntarily', 'ni', 'No', 'Never', 'No', 'shrubberies', 'Ni', 'cough', 'Nu', 'No', 'no', 'no', 'no', 'Nu', 'No', 'it', 'not', 'that', 'it', 'ni', 'Nu', 'No', 'no', 'ni', 'You', 're', 'not', 'doing', 'it', 'properly', 'No', 'Ni', 'and', 'Ni', 'That', 'it', 'That', 'it', 'You', 've', 'got', 'it', 'and', 'Ni', 'Ohh', 'Ni', 'Ni', 'Agh', 'Ni', 'Ni', 'Ni', 'Ni', 'Ni', 'Are', 'you', 'saying', 'ni', 'to', 'that', 'old', 'woman', 'Erm', 'yes', 'Oh', 'what', 'sad', 'times', 'are', 'these', 'when', 'passing', 'ruffians', 'can', 'ni', 'at', 'will', 'to', 'old', 'ladies', 'There', 'is', 'pestilence', 'upon', 'this', 'land', 'Nothing', 'is', 'sacred', 'Even', 'those', 'who', 'arrange', 'and', 'design', 'shrubberies', 'are', 'under', 'considerable', 'economic', 'stress', 'at', 'this', 'period', 'in', 'history', 'Did', 'you', 'say', 'shrubberies', 'Yes', 'Shrubberies', 'are', 'my', 'trade', 'am', 'shrubber', 'My', 'name', 'is', 'Roger', 'the', 'Shrubber', 'arrange', 'design', 'and', 'sell', 'shrubberies', 'Ni', 'No', 'No', 'no', 'no', 'No', 'Knights', 'of', 'Ni', 'we', 'have', 'brought', 'you', 'your', 'shrubbery', 'May', 'we', 'go', 'now', 'It', 'is', 'good', 'shrubbery', 'like', 'the', 'laurels', 'particularly', 'But', 'there', 'is', 'one', 'small', 'problem', 'What', 'is', 'that', 'We', 'are', 'now', 'no', 'longer', 'the', 'Knights', 'Who', 'Say', 'Ni', 'Ni', 'Shh', 'Shh', 'We', 'are', 'now', 'the', 'Knights', 'Who', 'Say', 'Ecky', 'ecky', 'ecky', 'ecky', 'pikang', 'zoop', 'boing', 'goodem', 'zoo', 'owli', 'zhiv', 'Ni', 'Therefore', 'we', 'must', 'give', 'you', 'test', 'What', 'is', 'this', 'test', 'Knights', 'of', 'Knights', 'Who', 'Til', 'Recently', 'Said', 'Ni', 'Firstly', 'you', 'must', 'find', 'another', 'shrubbery', 'dramatic', 'chord', 'Not', 'another', 'shrubbery', 'Ni', 'Then', 'when', 'you', 'have', 'found', 'the', 'shrubbery', 'you', 'must', 'place', 'it', 'here', 'beside', 'this', 'shrubbery', 'only', 'slightly', 'higher', 'so', 'you', 'get', 'the', 'two', 'level', 'effect', 'with', 'little', 'path', 'running', 'down', 'the', 'middle', 'path', 'path', 'path', 'Ni', 'Shh', 'Ni', 'Ni', 'Ni', 'Shh', 'Shh', 'Then', 'when', 'you', 'have', 'found', 'the', 'shrubbery', 'you', 'must', 'cut', 'down', 'the', 'mightiest', 'tree', 'in', 'the', 'forest', 'with', 'herring', 'dramatic', 'chord', 'We', 'shall', 'do', 'no', 'such', 'thing', 'Oh', 'please', 'Cut', 'down', 'tree', 'with', 'herring', 'It', 'can', 'be', 'done', 'Aaaugh', 'Aaaugh', 'Augh', 'Ohh', 'Don', 'say', 'that', 'word', 'What', 'word', 'cannot', 'tell', 'suffice', 'to', 'say', 'is', 'one', 'of', 'the', 'words', 'the', 'Knights', 'of', 'Ni', 'cannot', 'hear', 'How', 'can', 'we', 'not', 'say', 'the', 'word', 'if', 'you', 'don', 'tell', 'us', 'what', 'it', 'is', 'Aaaaugh', 'You', 'said', 'it', 'again', 'What', 'is', 'Agh', 'No', 'not', 'is', 'No', 'not', 'is', 'You', 'wouldn', 'get', 'vary', 'far', 'in', 'life', 'not', 'saying', 'is', 'No', 'not', 'is', 'Not', 'is', 'My', 'liege', 'it', 'Sir', 'Robin', 'singing', 'Packing', 'it', 'in', 'and', 'packing', 'it', 'up', 'And', 'sneaking', 'away', 'and', 'buggering', 'up', 'And', 'chickening', 'out', 'and', 'pissing', 'off', 'home', 'Yes', 'bravely', 'he', 'is', 'throwing', 'in', 'the', 'sponge', 'Sir', 'Robin', 'My', 'liege', 'It', 'good', 'to', 'see', 'you', 'Now', 'he', 'said', 'the', 'word', 'Surely', 'you', 've', 'not', 'given', 'up', 'your', 'quest', 'for', 'the', 'Holy', 'Grail', 'singing', 'He', 'is', 'sneaking', 'away', 'and', 'buggering', 'up', 'Shut', 'up', 'No', 'no', 'No', 'Far', 'from', 'it', 'He', 'said', 'the', 'word', 'again', 'Aaaaugh', 'was', 'looking', 'for', 'it', 'Aaaaugh', 'Uh', 'here', 'here', 'in', 'this', 'forest', 'No', 'it', 'is', 'far', 'from', 'this', 'place', 'Aaaaugh', 'Aaaaugh', 'Stop', 'saying', 'the', 'word', 'The', 'word', 'Oh', 'stop', 'it', 'we', 'cannot', 'hear', 'Ow', 'He', 'said', 'it', 'again', 'Patsy', 'Wait', 'said', 'it', 'said', 'it', 'clop', 'clop', 'clop', 'Ooh', 'said', 'it', 'again', 'And', 'there', 'again', 'That', 'three', 'it', 'Ohh', 'Aaaaugh', 'And', 'so', 'Arthur', 'and', 'Bedevere', 'and', 'Sir', 'Robin', 'set', 'out', 'on', 'their', 'search', 'to', 'find', 'the', 'enchanter', 'of', 'whom', 'the', 'old', 'man', 'had', 'spoken', 'in', 'scene', 'twenty', 'four', 'Beyond', 'the', 'forest', 'they', 'met', 'Launcelot', 'and', 'Galahad', 'and', 'there', 'was', 'much', 'rejoicing', 'Yay', 'Yay', 'woosh', 'In', 'the', 'frozen', 'land', 'of', 'Nador', 'they', 'were', 'forced', 'to', 'eat', 'Robin', 'minstrels', 'high', 'pitched', 'Get', 'back', 'Eee', 'And', 'there', 'was', 'much', 'rejoicing', 'Yay', 'year', 'passed', 'shivering', 'Winter', 'changed', 'into', 'Spring', 'Mmm', 'nice', 'Spring', 'changed', 'into', 'Summer', 'Oh', 'Ahh', 'Summer', 'changed', 'back', 'into', 'Winter', 'Oh', 'And', 'Winter', 'gave', 'Spring', 'and', 'Summer', 'miss', 'and', 'went', 'straight', 'on', 'into', 'Autumn', 'Aah', 'snap', 'Oh', 'Waa', 'Until', 'one', 'day', 'King', 'Arthur', 'music', 'clop', 'clop', 'clop', 'music', 'stops', 'boom', 'Eh', 'Oh', 'See', 'it', 'Oh', 'Oh', 'Knights', 'Forward', 'boom', 'boom', 'boom', 'boom', 'boom', 'squeak', 'boom', 'boom', 'boom', 'boom', 'What', 'manner', 'of', 'man', 'are', 'you', 'that', 'can', 'summon', 'up', 'fire', 'without', 'flint', 'or', 'tinder', 'am', 'an', 'enchanter', 'By', 'what', 'name', 'are', 'you', 'known', 'There', 'are', 'some', 'who', 'call', 'me', 'Tim', 'Greetings', 'Tim', 'the', 'Enchanter', 'Greetings', 'King', 'Arthur', 'You', 'know', 'my', 'name', 'do', 'zoosh', 'You', 'seek', 'the', 'Holy', 'Grail', 'That', 'is', 'our', 'quest', 'You', 'know', 'much', 'that', 'is', 'hidden', 'Tim', 'Quite', 'pweeng', 'boom', 'clap', 'clap', 'clap', 'Oh', 'Yes', 'we', 're', 'we', 're', 'looking', 'for', 'the', 'Holy', 'Grail', 'Our', 'quest', 'is', 'to', 'find', 'the', 'Holy', 'Grail', 'Yeah', 'Yes', 'It', 'is', 'It', 'is', 'Yeah', 'Yup', 'Yup', 'Hm', 'And', 'so', 'we', 're', 'we', 're', 'we', 're', 'we', 're', 'looking', 'for', 'it', 'Yes', 'we', 'are', 'Yeah', 'We', 'are', 'We', 'are', 'We', 'have', 'been', 'for', 'some', 'time', 'Ages', 'Umhm', 'Uh', 'uh', 'so', 'uh', 'anything', 'that', 'you', 'could', 'do', 'to', 'uh', 'to', 'help', 'would', 'be', 'very', 'helpful', 'Look', 'can', 'you', 'tell', 'us', 'where', 'boom', 'Fine', 'Um', 'don', 'want', 'to', 'waste', 'any', 'more', 'of', 'your', 'time', 'but', 'uh', 'don', 'suppose', 'you', 'could', 'uh', 'tell', 'us', 'where', 'we', 'might', 'find', 'um', 'find', 'uh', 'um', 'uh', 'what', 'grail', 'Yes', 'think', 'so', 'yes', 'Yes', 'Yup', 'That', 'it', 'Yes', 'Oh', 'Oh', 'Thank', 'you', 'Ahh', 'Oh', 'Fine', 'Thank', 'you', 'Splendid', 'Aah', 'boom', 'pweeng', 'boom', 'boom', 'Look', 'um', 'you', 're', 'busy', 'man', 'uh', 'Yes', 'can', 'help', 'you', 'find', 'the', 'Holy', 'Grail', 'Oh', 'thank', 'you', 'Oh', 'To', 'the', 'north', 'there', 'lies', 'cave', 'the', 'cave', 'of', 'Caerbannog', 'wherein', 'carved', 'in', 'mystic', 'runes', 'upon', 'the', 'very', 'living', 'rock', 'the', 'last', 'words', 'of', 'Olfin', 'Bedwere', 'of', 'Rheged', 'boom', 'make', 'plain', 'the', 'last', 'resting', 'place', 'of', 'the', 'most', 'Holy', 'Grail', 'Where', 'could', 'we', 'find', 'this', 'cave', 'Tim', 'Follow', 'But', 'Follow', 'only', 'if', 'ye', 'be', 'men', 'of', 'valor', 'for', 'the', 'entrance', 'to', 'this', 'cave', 'is', 'guarded', 'by', 'creature', 'so', 'foul', 'so', 'cruel', 'that', 'no', 'man', 'yet', 'has', 'fought', 'with', 'it', 'and', 'lived', 'Bones', 'of', 'full', 'fifty', 'men', 'lie', 'strewn', 'about', 'its', 'lair', 'So', 'brave', 'knights', 'if', 'you', 'do', 'doubt', 'your', 'courage', 'or', 'your', 'strength', 'come', 'no', 'further', 'for', 'death', 'awaits', 'you', 'all', 'with', 'nasty', 'big', 'pointy', 'teeth', 'What', 'an', 'eccentric', 'performance', 'clop', 'clop', 'clop', 'whinny', 'whinny', 'They', 're', 'nervous', 'sire', 'Then', 'we', 'best', 'leave', 'them', 'here', 'and', 'carry', 'on', 'on', 'foot', 'Dis', 'mount', 'Behold', 'the', 'cave', 'of', 'Caerbannog', 'Right', 'Keep', 'me', 'covered', 'What', 'with', 'just', 'keep', 'me', 'covered', 'Too', 'late', 'dramatic', 'chord', 'What', 'There', 'he', 'is', 'Where', 'There', 'What', 'behind', 'the', 'rabbit', 'It', 'is', 'the', 'rabbit', 'You', 'silly', 'sod', 'What', 'You', 'got', 'us', 'all', 'worked', 'up', 'Well', 'that', 'no', 'ordinary', 'rabbit', 'Ohh', 'That', 'the', 'most', 'foul', 'cruel', 'and', 'bad', 'tempered', 'rodent', 'you', 'ever', 'set', 'eyes', 'on', 'You', 'tit', 'soiled', 'my', 'armor', 'was', 'so', 'scared', 'Look', 'that', 'rabbit', 'got', 'vicious', 'streak', 'mile', 'wide', 'it', 'killer', 'Get', 'stuffed', 'He', 'll', 'do', 'you', 'up', 'treat', 'mate', 'Oh', 'yeah', 'You', 'mangy', 'scots', 'git', 'warning', 'you', 'What', 'he', 'do', 'nibble', 'your', 'bum', 'He', 'got', 'huge', 'sharp', 'eh', 'he', 'can', 'leap', 'about', 'look', 'at', 'the', 'bones', 'Go', 'on', 'Bors', 'Chop', 'his', 'head', 'off', 'Right', 'Silly', 'little', 'bleeder', 'One', 'rabbit', 'stew', 'comin', 'right', 'up', 'Look', 'squeak', 'Aaaugh', 'dramatic', 'chord', 'clunk', 'Jesus', 'Christ', 'warned', 'you', 'done', 'it', 'again', 'warned', 'you', 'but', 'did', 'you', 'listen', 'to', 'me', 'Oh', 'no', 'you', 'knew', 'it', 'all', 'didn', 'you', 'Oh', 'it', 'just', 'harmless', 'little', 'bunny', 'isn', 'it', 'Well', 'it', 'always', 'the', 'same', 'always', 'tell', 'them', 'Oh', 'shut', 'up', 'Do', 'they', 'listen', 'to', 'me', 'Right', 'Oh', 'no', 'Charge', 'squeak', 'squeak', 'squeak', 'Aaaaugh', 'Aaaugh', 'etc', 'Run', 'away', 'Run', 'away', 'Run', 'away', 'Run', 'away', 'Ha', 'ha', 'ha', 'ha', 'Ha', 'haw', 'haw', 'Ha', 'Ha', 'ha', 'Right', 'How', 'many', 'did', 'we', 'lose', 'Gawain', 'Ector', 'And', 'Bors', 'That', 'five', 'Three', 'sir', 'Three', 'Three', 'And', 'we', 'better', 'not', 'risk', 'another', 'frontal', 'assault', 'That', 'rabbit', 'dynamite', 'Would', 'it', 'help', 'to', 'confuse', 'it', 'if', 'we', 'run', 'away', 'more', 'Oh', 'shut', 'up', 'and', 'go', 'and', 'change', 'your', 'armor', 'Let', 'us', 'taunt', 'it', 'It', 'may', 'become', 'so', 'cross', 'that', 'it', 'will', 'make', 'mistake', 'Like', 'what', 'Well', 'ooh', 'Have', 'we', 'got', 'bows', 'No', 'We', 'have', 'the', 'Holy', 'Hand', 'Grenade', 'Yes', 'of', 'course', 'The', 'Holy', 'Hand', 'Grenade', 'of', 'Antioch', 'Tis', 'one', 'of', 'the', 'sacred', 'relics', 'Brother', 'Maynard', 'carries', 'with', 'him', 'Brother', 'Maynard', 'Bring', 'up', 'the', 'Holy', 'Hand', 'Grenade', 'chanting', 'Pie', 'Iesu', 'domine', 'dona', 'eis', 'requiem', 'Pie', 'Iesu', 'domine', 'donaeis', 'requiem', 'Pie', 'Iesu', 'domine', 'dona', 'eis', 'requiem', 'Pie', 'Iesu', 'domine', 'dona', 'eisrequiem', 'How', 'does', 'it', 'um', 'how', 'does', 'it', 'work', 'know', 'not', 'my', 'liege', 'Consult', 'the', 'Book', 'of', 'Armaments', 'Armaments', 'Chapter', 'Two', 'verses', 'Nine', 'to', 'Twenty', 'one', 'And', 'Saint', 'Attila', 'raised', 'the', 'hand', 'grenade', 'up', 'on', 'high', 'saying', 'Lord', 'bless', 'this', 'thy', 'hand', 'grenade', 'that', 'with', 'it', 'thou', 'mayest', 'blow', 'thine', 'enemies', 'to', 'tiny', 'bits', 'in', 'thy', 'mercy', 'And', 'the', 'Lord', 'did', 'grin', 'and', 'the', 'people', 'did', 'feast', 'upon', 'the', 'lambs', 'and', 'sloths', 'and', 'carp', 'and', 'anchovies', 'and', 'orangutans', 'and', 'breakfast', 'cereals', 'and', 'fruit', 'bats', 'and', 'large', 'chu', 'Skip', 'bit', 'Brother', 'And', 'the', 'Lord', 'spake', 'saying', 'First', 'shalt', 'thou', 'take', 'out', 'the', 'Holy', 'Pin', 'Then', 'shalt', 'thou', 'count', 'to', 'three', 'no', 'more', 'no', 'less', 'Three', 'shalt', 'be', 'the', 'number', 'thou', 'shalt', 'count', 'and', 'the', 'number', 'of', 'the', 'counting', 'shall', 'be', 'three', 'Four', 'shalt', 'thou', 'not', 'count', 'nor', 'either', 'count', 'thou', 'two', 'excepting', 'that', 'thou', 'then', 'proceed', 'to', 'three', 'Five', 'is', 'right', 'out', 'Once', 'the', 'number', 'three', 'being', 'the', 'third', 'number', 'be', 'reached', 'then', 'lobbest', 'thou', 'thy', 'Holy', 'Hand', 'Grenade', 'of', 'Antioch', 'towards', 'thy', 'foe', 'who', 'being', 'naughty', 'in', 'my', 'sight', 'shall', 'snuff', 'it', 'Amen', 'Amen', 'Right', 'One', 'two', 'five', 'Three', 'sir', 'Three', 'angels', 'sing', 'boom', 'There', 'Look', 'What', 'does', 'it', 'say', 'What', 'language', 'is', 'that', 'Brother', 'Maynard', 'You', 'are', 'scholar', 'It', 'Aramaic', 'Of', 'course', 'Joseph', 'of', 'Arimathea', 'Course', 'What', 'does', 'it', 'say', 'It', 'reads', 'Here', 'may', 'be', 'found', 'the', 'last', 'words', 'of', 'Joseph', 'of', 'Arimathea', 'He', 'who', 'is', 'valiant', 'and', 'pure', 'of', 'spirit', 'may', 'find', 'the', 'Holy', 'Grail', 'in', 'the', 'Castle', 'of', 'uuggggggh', 'What', 'the', 'Castle', 'of', 'uuggggggh', 'What', 'is', 'that', 'He', 'must', 'have', 'died', 'while', 'carving', 'it', 'Oh', 'come', 'on', 'Well', 'that', 'what', 'it', 'says', 'Look', 'if', 'he', 'was', 'dying', 'he', 'wouldn', 'bother', 'to', 'carve', 'aaggggh', 'He', 'just', 'say', 'it', 'Well', 'that', 'what', 'carved', 'in', 'the', 'rock', 'Perhaps', 'he', 'was', 'dictating', 'Oh', 'shut', 'up', 'Well', 'does', 'it', 'say', 'anything', 'else', 'No', 'Just', 'uuggggggh', 'Aauuggghhh', 'Aaauggh', 'Do', 'you', 'suppose', 'he', 'meant', 'the', 'Camaaaaaargue', 'Where', 'that', 'France', 'think', 'Isn', 'there', 'Saint', 'Aauuuves', 'in', 'Cornwall', 'No', 'that', 'Saint', 'Ives', 'Oh', 'yes', 'Saint', 'Iiiives', 'Iiiiives', 'Oooohoohohooo', 'No', 'no', 'Aauuuuugh', 'at', 'the', 'back', 'of', 'the', 'throat', 'Aauuugh', 'no', 'No', 'no', 'no', 'no', 'Oooooooh', 'in', 'surprise', 'and', 'alarm', 'Oh', 'you', 'mean', 'sort', 'of', 'aaaah', 'Yes', 'but', 'aaaaaah', 'Oooh', 'My', 'God', 'dramatic', 'chord', 'roar', 'It', 'the', 'legendary', 'Black', 'Beast', 'of', 'Aaauugh', 'Black', 'Beast', 'of', 'Aaauugh', 'eats', 'That', 'it', 'That', 'it', 'Run', 'away', 'Run', 'away', 'roar', 'Run', 'away', 'Run', 'awaaay', 'Run', 'awaaaaay', 'roar', 'Keep', 'running', 'boom', 'roar', 'Shh', 'Shh', 'Shh', 'Shh', 'Shh', 'Shh', 'Shh', 'Shh', 'We', 've', 'lost', 'him', 'roar', 'Aagh', 'As', 'the', 'horrendous', 'Black', 'Beast', 'lunged', 'forward', 'escape', 'for', 'Arthur', 'and', 'his', 'knights', 'seemed', 'hopeless', 'when', 'suddenly', 'the', 'animator', 'suffered', 'fatal', 'heart', 'attack', 'Ulk', 'thump', 'The', 'cartoon', 'peril', 'was', 'no', 'more', 'The', 'quest', 'for', 'Holy', 'Grail', 'could', 'continue', 'gurgle', 'There', 'it', 'is', 'The', 'Bridge', 'of', 'Death', 'Oh', 'great', 'Look', 'There', 'the', 'old', 'man', 'from', 'scene', 'twenty', 'four', 'What', 'is', 'he', 'doing', 'here', 'He', 'is', 'the', 'keeper', 'of', 'the', 'Bridge', 'of', 'Death', 'He', 'asks', 'each', 'traveller', 'five', 'questions', 'Three', 'questions', 'Three', 'questions', 'He', 'who', 'answers', 'the', 'five', 'questions', 'Three', 'questions', 'Three', 'questions', 'may', 'cross', 'in', 'safety', 'What', 'if', 'you', 'get', 'question', 'wrong', 'Then', 'you', 'are', 'cast', 'into', 'the', 'Gorge', 'of', 'Eternal', 'Peril', 'Oh', 'won', 'go', 'Who', 'going', 'to', 'answer', 'the', 'questions', 'Sir', 'Robin', 'Yes', 'Brave', 'Sir', 'Robin', 'you', 'go', 'Hey', 've', 'got', 'great', 'idea', 'Why', 'doesn', 'Launcelot', 'go', 'Yes', 'Let', 'me', 'go', 'my', 'liege', 'will', 'take', 'him', 'single', 'handed', 'shall', 'make', 'feint', 'to', 'the', 'north', 'east', 'that', 'No', 'no', 'No', 'Hang', 'on', 'Hang', 'on', 'Hang', 'on', 'Just', 'answer', 'the', 'five', 'questions', 'Three', 'questions', 'Three', 'questions', 'as', 'best', 'you', 'can', 'And', 'we', 'shall', 'watch', 'and', 'pray', 'understand', 'my', 'liege', 'Good', 'luck', 'brave', 'Sir', 'Launcelot', 'God', 'be', 'with', 'you', 'Stop', 'Who', 'would', 'cross', 'the', 'Bridge', 'of', 'Death', 'must', 'answer', 'me', 'these', 'questions', 'three', 'ere', 'the', 'other', 'side', 'he', 'see', 'Ask', 'me', 'the', 'questions', 'bridgekeeper', 'am', 'not', 'afraid', 'What', 'is', 'your', 'name', 'My', 'name', 'is', 'Sir', 'Launcelot', 'of', 'Camelot', 'What', 'is', 'your', 'quest', 'To', 'seek', 'the', 'Holy', 'Grail', 'What', 'is', 'your', 'favorite', 'color', 'Blue', 'Right', 'Off', 'you', 'go', 'Oh', 'thank', 'you', 'Thank', 'you', 'very', 'much', 'That', 'easy', 'Stop', 'Who', 'approacheth', 'the', 'Bridge', 'of', 'Death', 'must', 'answer', 'me', 'these', 'questions', 'three', 'ere', 'the', 'other', 'side', 'he', 'see', 'Ask', 'me', 'the', 'questions', 'bridgekeeper', 'not', 'afraid', 'What', 'is', 'your', 'name', 'Sir', 'Robin', 'of', 'Camelot', 'What', 'is', 'your', 'quest', 'To', 'seek', 'the', 'Holy', 'Grail', 'What', 'is', 'the', 'capital', 'of', 'Assyria', 'don', 'know', 'that', 'Auuuuuuuugh', 'Stop', 'What', 'is', 'your', 'name', 'Sir', 'Galahad', 'of', 'Camelot', 'What', 'is', 'your', 'quest', 'seek', 'the', 'Grail', 'What', 'is', 'your', 'favorite', 'color', 'Blue', 'No', 'yel', 'auuuuuuuugh', 'Hee', 'hee', 'heh', 'Stop', 'What', 'is', 'your', 'name', 'It', 'is', 'Arthur', 'King', 'of', 'the', 'Britons', 'What', 'is', 'your', 'quest', 'To', 'seek', 'the', 'Holy', 'Grail', 'What', 'is', 'the', 'air', 'speed', 'velocity', 'of', 'an', 'unladen', 'swallow', 'What', 'do', 'you', 'mean', 'An', 'African', 'or', 'European', 'swallow', 'Huh', 'don', 'know', 'that', 'Auuuuuuuugh', 'How', 'do', 'know', 'so', 'much', 'about', 'swallows', 'Well', 'you', 'have', 'to', 'know', 'these', 'things', 'when', 'you', 're', 'king', 'you', 'know', 'suspenseful', 'music', 'music', 'suddenly', 'stops', 'intermission', 'suspenseful', 'music', 'resumes', 'Launcelot', 'Launcelot', 'Launcelot', 'Launcelot', 'Launcelot', 'Launcelot', 'police', 'radio', 'Launcelot', 'Launcelot', 'Launcelot', 'angels', 'sing', 'singing', 'stops', 'ethereal', 'music', 'The', 'Castle', 'Aaagh', 'Our', 'quest', 'is', 'at', 'an', 'end', 'God', 'be', 'praised', 'Almighty', 'God', 'we', 'thank', 'Thee', 'that', 'Thou', 'hast', 'vouchsafed', 'to', 'us', 'the', 'most', 'holy', 'twong', 'baaaa', 'Jesus', 'Christ', 'thud', 'Allo', 'dappy', 'English', 'niggets', 'and', 'Monsieur', 'Arthur', 'King', 'who', 'has', 'the', 'brain', 'of', 'duck', 'you', 'know', 'So', 'we', 'French', 'fellows', 'outwit', 'you', 'second', 'time', 'How', 'dare', 'you', 'profane', 'this', 'place', 'with', 'your', 'presence', 'command', 'you', 'in', 'the', 'name', 'of', 'the', 'Knights', 'of', 'Camelot', 'to', 'open', 'the', 'doors', 'of', 'this', 'sacred', 'castle', 'to', 'which', 'God', 'Himself', 'has', 'guided', 'us', 'How', 'you', 'English', 'say', 'one', 'more', 'time', 'mac', 'unclog', 'my', 'nose', 'in', 'your', 'direction', 'sons', 'of', 'window', 'dresser', 'So', 'you', 'think', 'you', 'could', 'out', 'clever', 'us', 'French', 'folk', 'with', 'your', 'silly', 'knees', 'bent', 'running', 'about', 'advancing', 'behaviour', 'wave', 'my', 'private', 'parts', 'at', 'your', 'aunties', 'you', 'cheesy', 'lot', 'of', 'second', 'hand', 'electric', 'donkey', 'bottom', 'biters', 'In', 'the', 'name', 'of', 'the', 'Lord', 'we', 'demand', 'entrance', 'to', 'this', 'sacred', 'castle', 'No', 'chance', 'English', 'bed', 'wetting', 'types', 'burst', 'my', 'pimples', 'at', 'you', 'and', 'call', 'your', 'door', 'opening', 'request', 'silly', 'thing', 'you', 'tiny', 'brained', 'wipers', 'of', 'other', 'people', 'bottoms', 'If', 'you', 'do', 'not', 'open', 'this', 'door', 'we', 'shall', 'take', 'this', 'castle', 'by', 'force', 'splat', 'In', 'the', 'name', 'of', 'God', 'and', 'the', 'glory', 'of', 'our', 'splat', 'laughing', 'Agh', 'Right', 'That', 'settles', 'it', 'Yes', 'depart', 'lot', 'at', 'this', 'time', 'and', 'cut', 'the', 'approaching', 'any', 'more', 'or', 'we', 'fire', 'arrows', 'at', 'the', 'tops', 'of', 'your', 'heads', 'and', 'make', 'castanets', 'out', 'of', 'your', 'testicles', 'already', 'Ha', 'ha', 'haaa', 'ha', 'Walk', 'away', 'Just', 'ignore', 'them', 'And', 'now', 'remain', 'gone', 'illegitimate', 'faced', 'bugger', 'folk', 'And', 'if', 'you', 'think', 'you', 'got', 'nasty', 'taunting', 'this', 'time', 'you', 'ain', 'heard', 'nothing', 'yet', 'dappy', 'English', 'nnniggets', 'Thpppt', 'taunting', 'We', 'shall', 'attack', 'at', 'once', 'Yes', 'my', 'liege', 'Stand', 'by', 'for', 'attack', 'exciting', 'music', 'music', 'stops', 'silence', 'French', 'persons', 'taunting', 'Dappy', 'Today', 'the', 'blood', 'of', 'many', 'valiant', 'knight', 'shall', 'be', 'avenged', 'In', 'the', 'name', 'of', 'God', 'Hoo', 'hoo', 'Ohh', 'ha', 'ha', 'ha', 'ha', 'ha', 'we', 'shall', 'not', 'stop', 'our', 'fight', 'til', 'each', 'one', 'of', 'you', 'lies', 'dead', 'and', 'the', 'Holy', 'Grail', 'returns', 'to', 'those', 'whom', 'God', 'has', 'chosen', 'Ha', 'ha', 'ha', 'Charge', 'Hooray', 'police', 'siren', 'Yes', 'They', 're', 'the', 'ones', 'sure', 'Come', 'on', 'Anybody', 'armed', 'must', 'go', 'too', 'All', 'right', 'Come', 'on', 'Back', 'Get', 'that', 'one', 'Back', 'Right', 'away', 'Just', 'pull', 'it', 'off', 'Come', 'on', 'Come', 'along', 'Put', 'this', 'man', 'in', 'the', 'van', 'Clear', 'off', 'Come', 'on', 'With', 'whom', 'Which', 'one', 'Oh', 'this', 'one', 'Come', 'on', 'Put', 'him', 'in', 'the', 'van', 'Get', 'blanket', 'We', 'have', 'no', 'hospital', 'Ahh', 'squeak', 'Ooh', 'Come', 'on', 'Back', 'Riiight', 'back', 'Come', 'on', 'Run', 'along', 'Run', 'along', 'Pull', 'that', 'off', 'My', 'that', 'an', 'offensive', 'weapon', 'that', 'is', 'Come', 'on', 'Back', 'with', 'em', 'Back', 'Right', 'Come', 'along', 'Everything', 'squeak', 'All', 'right', 'sonny', 'That', 'enough', 'Just', 'pack', 'that', 'in', 'crash', 'Christ']\n"
          ],
          "name": "stdout"
        }
      ]
    },
    {
      "cell_type": "markdown",
      "metadata": {
        "id": "0WvveW2CGO-f"
      },
      "source": [
        "25. Define **sent** to be the list of words ['she', 'sells', 'sea', 'shells', 'by','the', 'sea', 'shore'] . Now write code to perform the following tasks:\n",
        ">a. Print all words beginning with sh.  \n",
        ">b. Print all words longer than four characters"
      ]
    },
    {
      "cell_type": "code",
      "metadata": {
        "id": "YIpYfrF59pns",
        "colab": {
          "base_uri": "https://localhost:8080/",
          "height": 34
        },
        "outputId": "62a456d6-8742-4ef7-eb3c-9dd779a7c578"
      },
      "source": [
        "sent=['she', 'sells', 'sea', 'shells', 'by','the', 'sea', 'shore'] \n",
        "sorted(set([w for w in sent if w.startswith('sh')]))"
      ],
      "execution_count": null,
      "outputs": [
        {
          "output_type": "execute_result",
          "data": {
            "text/plain": [
              "['she', 'shells', 'shore']"
            ]
          },
          "metadata": {
            "tags": []
          },
          "execution_count": 211
        }
      ]
    },
    {
      "cell_type": "code",
      "metadata": {
        "id": "lKc5IMf0-JC7",
        "colab": {
          "base_uri": "https://localhost:8080/",
          "height": 34
        },
        "outputId": "b72c23c8-5385-4d72-967d-98d885b36b73"
      },
      "source": [
        "sorted(set([w for w in sent if len(w)>4]))"
      ],
      "execution_count": null,
      "outputs": [
        {
          "output_type": "execute_result",
          "data": {
            "text/plain": [
              "['sells', 'shells', 'shore']"
            ]
          },
          "metadata": {
            "tags": []
          },
          "execution_count": 212
        }
      ]
    },
    {
      "cell_type": "markdown",
      "metadata": {
        "id": "reoY74cJGVph"
      },
      "source": [
        "26. What does the following Python code do? sum([len(w) for w in text1]) Can\n",
        "you use it to work out the average word length of a text?"
      ]
    },
    {
      "cell_type": "code",
      "metadata": {
        "id": "ZZiR0G2R-THt",
        "colab": {
          "base_uri": "https://localhost:8080/",
          "height": 34
        },
        "outputId": "c31b737c-40a5-4fa5-af61-4a166222fb37"
      },
      "source": [
        "sum([len(w) for w in text1])"
      ],
      "execution_count": null,
      "outputs": [
        {
          "output_type": "execute_result",
          "data": {
            "text/plain": [
              "999044"
            ]
          },
          "metadata": {
            "tags": []
          },
          "execution_count": 213
        }
      ]
    },
    {
      "cell_type": "code",
      "metadata": {
        "id": "74id5Wg4-cUn",
        "colab": {
          "base_uri": "https://localhost:8080/",
          "height": 34
        },
        "outputId": "0899e2c9-dcf2-41d4-fb21-19a531dd3a8d"
      },
      "source": [
        "sum([len(w) for w in text1])/len(text1)   ##average word legth = sum of word lengths / no of word"
      ],
      "execution_count": null,
      "outputs": [
        {
          "output_type": "execute_result",
          "data": {
            "text/plain": [
              "3.830411128023649"
            ]
          },
          "metadata": {
            "tags": []
          },
          "execution_count": 214
        }
      ]
    },
    {
      "cell_type": "markdown",
      "metadata": {
        "id": "g_ry5fPAGaI3"
      },
      "source": [
        "27. Define a function called vocab_size(text) that has a single parameter for the text, and which returns the vocabulary size of the text."
      ]
    },
    {
      "cell_type": "code",
      "metadata": {
        "id": "Nst0wrfb-rnW"
      },
      "source": [
        "def vocab_size(text):\n",
        "  return len(set([word.lower() for word in text if word.isalpha()]))"
      ],
      "execution_count": null,
      "outputs": []
    },
    {
      "cell_type": "code",
      "metadata": {
        "id": "DM3sP9m0AGaU",
        "colab": {
          "base_uri": "https://localhost:8080/",
          "height": 34
        },
        "outputId": "bc5d9af1-92a8-4d8c-aa57-5b56fbd8c26b"
      },
      "source": [
        "vocab_size(text1)"
      ],
      "execution_count": null,
      "outputs": [
        {
          "output_type": "execute_result",
          "data": {
            "text/plain": [
              "16948"
            ]
          },
          "metadata": {
            "tags": []
          },
          "execution_count": 216
        }
      ]
    },
    {
      "cell_type": "markdown",
      "metadata": {
        "id": "-Xr20M_IGfFE"
      },
      "source": [
        "28. Define a function percent(word, text) that calculates how often a given word\n",
        "occurs in a text and expresses the result as a percentage."
      ]
    },
    {
      "cell_type": "code",
      "metadata": {
        "id": "wvMWdACKB0_I",
        "colab": {
          "base_uri": "https://localhost:8080/",
          "height": 34
        },
        "outputId": "ef96fc28-a1a5-4fb0-cf24-cddc9201a2db"
      },
      "source": [
        "percent('captain',text1)"
      ],
      "execution_count": null,
      "outputs": [
        {
          "output_type": "execute_result",
          "data": {
            "text/plain": [
              "1.6464159765132503e-07"
            ]
          },
          "metadata": {
            "tags": []
          },
          "execution_count": 225
        }
      ]
    },
    {
      "cell_type": "markdown",
      "metadata": {
        "id": "qjU3hCnGGiEn"
      },
      "source": [
        "29. We have been using sets to store vocabularies. Try the following Python expression: set(sent3) < set(text1) . Experiment with this using different arguments to set() . What does it do? Can you think of a practical application for this?"
      ]
    },
    {
      "cell_type": "code",
      "metadata": {
        "id": "4Z97GG1eD0nJ",
        "colab": {
          "base_uri": "https://localhost:8080/",
          "height": 69
        },
        "outputId": "b8b1cb09-f192-46de-a4d4-aeb760856268"
      },
      "source": [
        "print(set(sent3) < set(text1))\n",
        "print(set(sent1) < set(text4))\n",
        "print(set(sent4) < set(text8))"
      ],
      "execution_count": null,
      "outputs": [
        {
          "output_type": "stream",
          "text": [
            "True\n",
            "False\n",
            "False\n"
          ],
          "name": "stdout"
        }
      ]
    },
    {
      "cell_type": "code",
      "metadata": {
        "id": "T3wJTjnuXfGj"
      },
      "source": [
        "ly3=\"Cause I, I, I\\'m in the stars tonight So watch me bring the fire and set the night alight Shoes on, get up in the morn\\' Cup of milk, let\\'s rock and roll King Kong, kick the drum Rolling on like a Rolling Stone Sing song when I\\'m walking home Jump up to the top, LeBron Ding-dong, call me on my phone Ice tea and a game of ping pong This is getting heavy, can you hear the bass boom? I\\'m ready (Woo-hoo) Life is sweet as honey, yeah, this beat cha-ching like money, huh Disco overload, I\\'m into that, I'm good to go I\\'m diamond, you know I glow up Hey, so let\\'s go Cause I, I, I\\'m in the stars tonight So watch me bring the fire and set the night alight (Hey) Shining through the city with a little funk and soul So I\\'ma light it up like dynamite, woah-oh-oh Bring a friend, join the crowd, whoever wanna come along Word up, talk the talk, just move like we off the wall Day or night, the sky\\'s alight, so we dance to the break of dawn (Hey) Ladies and gentlemen, I got the medicine so you should keep ya eyes on the ball, huh This is getting heavy, can you hear the bass boom? I\\'m ready (Woo-hoo) Life is sweet as honey, yeah, this beat cha-ching like money, huh Disco overload, I\\'m into that, I'm good to go I\\'m diamond, you know I glow up Let's go Cause I, I, I\\'m in the stars tonight So watch me bring the fire and set the night alight (Hey) Shining through the city with a little funk and soul So I\\'ma light it up like dynamite, woah-oh-oh Dyn-na-na-na, na-na-na-na-na, na-na-na, life is dynamite Dyn-na-na-na, na-na-na-na-na, na-na-na, life is dynamite Shining through the city with a little funk and soul So I\\'ma light it up like dynamite, woah-oh-oh Dyn-na-na-na, na-na, na-na, ayy Dyn-na-na-na, na-na, na-na, ayy Dyn-na-na-na, na-na, na-na, ayy Light it up like dynamite Dyn-na-na-na, na-na, na-na, ayy Dyn-na-na-na, na-na, na-na, ayy Dyn-na-na-na, na-na, na-na, ayy Light it up like dynamite\""
      ],
      "execution_count": null,
      "outputs": []
    },
    {
      "cell_type": "code",
      "metadata": {
        "id": "EPMDKJWIcAr5",
        "colab": {
          "base_uri": "https://localhost:8080/",
          "height": 338
        },
        "outputId": "c0758908-c5a7-4dff-f6ba-7d29f23a7b30"
      },
      "source": [
        "word=nltk.tokenize.word_tokenize(ly3)\n",
        "fdist1=FreqDist(word)\n",
        "fdist1.plot(20, cumulative=True)  ##frequency distribution curve"
      ],
      "execution_count": null,
      "outputs": [
        {
          "output_type": "display_data",
          "data": {
            "image/png": "[encoded data removed]",
            "text/plain": [
              "<Figure size 432x288 with 1 Axes>"
            ]
          },
          "metadata": {
            "tags": [],
            "needs_background": "light"
          }
        }
      ]
    },
    {
      "cell_type": "code",
      "metadata": {
        "id": "BPGOlSAYFzcr",
        "colab": {
          "base_uri": "https://localhost:8080/",
          "height": 72
        },
        "outputId": "512c429f-35b9-4b0b-cfe8-014658ade6ce"
      },
      "source": [
        "l=[]\n",
        "for w in word:\n",
        "  if len(w)==4:\n",
        "    l.append(w)\n",
        "print(l)\n",
        "len(l)"
      ],
      "execution_count": null,
      "outputs": [
        {
          "output_type": "stream",
          "text": [
            "['fire', 'morn', 'milk', 'rock', 'roll', 'King', 'Kong', 'kick', 'drum', 'like', 'Sing', 'song', 'when', 'home', 'Jump', 'call', 'game', 'ping', 'pong', 'This', 'hear', 'bass', 'boom', 'Life', 'yeah', 'this', 'beat', 'like', 'into', 'that', 'good', 'know', 'glow', 'fire', 'city', 'with', 'funk', 'soul', \"I'ma\", 'like', 'join', 'come', 'Word', 'talk', 'talk', 'just', 'move', 'like', 'wall', 'dawn', 'keep', 'eyes', 'ball', 'This', 'hear', 'bass', 'boom', 'Life', 'yeah', 'this', 'beat', 'like', 'into', 'that', 'good', 'know', 'glow', 'fire', 'city', 'with', 'funk', 'soul', \"I'ma\", 'like', 'life', 'life', 'city', 'with', 'funk', 'soul', \"I'ma\", 'like', 'like', 'like']\n"
          ],
          "name": "stdout"
        },
        {
          "output_type": "execute_result",
          "data": {
            "text/plain": [
              "84"
            ]
          },
          "metadata": {
            "tags": []
          },
          "execution_count": 241
        }
      ]
    },
    {
      "cell_type": "code",
      "metadata": {
        "id": "1vzz0_ZvlLX-",
        "colab": {
          "base_uri": "https://localhost:8080/",
          "height": 34
        },
        "outputId": "e2391503-0aa0-451a-9094-44bb8fb7d187"
      },
      "source": [
        "sorted(set([w for w in word if w.startswith('d') ]))"
      ],
      "execution_count": null,
      "outputs": [
        {
          "output_type": "execute_result",
          "data": {
            "text/plain": [
              "['dance', 'dawn', 'diamond', 'drum', 'dynamite']"
            ]
          },
          "metadata": {
            "tags": []
          },
          "execution_count": 127
        }
      ]
    },
    {
      "cell_type": "code",
      "metadata": {
        "id": "C5gjvrilAYZ4"
      },
      "source": [
        "def percent(word,text):\n",
        "  return 100*(FreqDist(text).freq(word)/len(text))"
      ],
      "execution_count": null,
      "outputs": []
    },
    {
      "cell_type": "code",
      "metadata": {
        "id": "Zugk-1a2DpRh",
        "colab": {
          "base_uri": "https://localhost:8080/",
          "height": 34
        },
        "outputId": "bdbbac23-1379-4eb4-dee3-5deb12e2967e"
      },
      "source": [
        "percent('dynamite',word)"
      ],
      "execution_count": null,
      "outputs": [
        {
          "output_type": "execute_result",
          "data": {
            "text/plain": [
              "0.0035668971561638534"
            ]
          },
          "metadata": {
            "tags": []
          },
          "execution_count": 230
        }
      ]
    },
    {
      "cell_type": "code",
      "metadata": {
        "id": "UvZ-pZL_DaJY",
        "colab": {
          "base_uri": "https://localhost:8080/",
          "height": 34
        },
        "outputId": "cfb5bdeb-89a4-4f2f-98e1-cbc0de7860f2"
      },
      "source": [
        "vocab_size(word)"
      ],
      "execution_count": null,
      "outputs": [
        {
          "output_type": "execute_result",
          "data": {
            "text/plain": [
              "120"
            ]
          },
          "metadata": {
            "tags": []
          },
          "execution_count": 228
        }
      ]
    },
    {
      "cell_type": "code",
      "metadata": {
        "id": "ElLq_u3qrr3g"
      },
      "source": [
        "ly1='보고 싶다 이렇게 말하니까 더 보고 싶다 너희 사진을 보고 있어도 보고 싶다 너무 야속한 시간 나는 우리가 밉다 이젠 얼굴 한 번 보는 것도 힘들어진 우리가 여긴 온통 겨울 뿐이야 8월에도 겨울이 와 마음은 시간을 달려가네 홀로 남은 설국열차 니 손 잡고'\n",
        "ly2='Bogo sipda ireohge Malhanikka deo bogo sipda Neohui sajineul Bogo isseodo bogo sipda Neomu yasokhan sigan Naneun uriga mipda Ijen eolgul han beon boneun geosdo Himdeureojin uriga'"
      ],
      "execution_count": null,
      "outputs": []
    },
    {
      "cell_type": "code",
      "metadata": {
        "id": "kumShT7yrX38",
        "colab": {
          "base_uri": "https://localhost:8080/",
          "height": 326
        },
        "outputId": "b9efe428-2102-4a8b-d9bb-d21553733627"
      },
      "source": [
        "word=nltk.tokenize.word_tokenize(ly2)\n",
        "fdist1=FreqDist(word)\n",
        "fdist1.plot(20, cumulative=True)"
      ],
      "execution_count": null,
      "outputs": [
        {
          "output_type": "display_data",
          "data": {
            "image/png": "[encoded data removed]",
            "text/plain": [
              "<Figure size 432x288 with 1 Axes>"
            ]
          },
          "metadata": {
            "tags": [],
            "needs_background": "light"
          }
        }
      ]
    }
  ]
}