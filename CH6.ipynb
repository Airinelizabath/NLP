{
  "nbformat": 4,
  "nbformat_minor": 0,
  "metadata": {
    "colab": {
      "name": "CH6.ipynb",
      "provenance": [],
      "authorship_tag": "ABX9TyML9CyYI78Mesw2dYVO3IyN",
      "include_colab_link": true
    },
    "kernelspec": {
      "name": "python3",
      "display_name": "Python 3"
    }
  },
  "cells": [
    {
      "cell_type": "markdown",
      "metadata": {
        "id": "view-in-github",
        "colab_type": "text"
      },
      "source": [
        "<a href=\"https://colab.research.google.com/github/Airinelizabath/NLP/blob/main/CH6.ipynb\" target=\"_parent\"><img src=\"https://colab.research.google.com/assets/colab-badge.svg\" alt=\"Open In Colab\"/></a>"
      ]
    },
    {
      "cell_type": "code",
      "metadata": {
        "id": "8u7aHC4YJ7lS",
        "colab": {
          "base_uri": "https://localhost:8080/",
          "height": 1000
        },
        "outputId": "a005d3cc-f65b-47dd-8d50-76c5865883c4"
      },
      "source": [
        "import python_utils\n",
        "import re\n",
        "import nltk\n",
        "nltk.download()"
      ],
      "execution_count": null,
      "outputs": [
        {
          "output_type": "stream",
          "text": [
            "NLTK Downloader\n",
            "---------------------------------------------------------------------------\n",
            "    d) Download   l) List    u) Update   c) Config   h) Help   q) Quit\n",
            "---------------------------------------------------------------------------\n",
            "Downloader> d\n",
            "\n",
            "Download which package (l=list; x=cancel)?\n",
            "  Identifier> all\n",
            "    Downloading collection 'all'\n",
            "       | \n",
            "       | Downloading package abc to /root/nltk_data...\n",
            "       |   Unzipping corpora/abc.zip.\n",
            "       | Downloading package alpino to /root/nltk_data...\n",
            "       |   Unzipping corpora/alpino.zip.\n",
            "       | Downloading package biocreative_ppi to /root/nltk_data...\n",
            "       |   Unzipping corpora/biocreative_ppi.zip.\n",
            "       | Downloading package brown to /root/nltk_data...\n",
            "       |   Unzipping corpora/brown.zip.\n",
            "       | Downloading package brown_tei to /root/nltk_data...\n",
            "       |   Unzipping corpora/brown_tei.zip.\n",
            "       | Downloading package cess_cat to /root/nltk_data...\n",
            "       |   Unzipping corpora/cess_cat.zip.\n",
            "       | Downloading package cess_esp to /root/nltk_data...\n",
            "       |   Unzipping corpora/cess_esp.zip.\n",
            "       | Downloading package chat80 to /root/nltk_data...\n",
            "       |   Unzipping corpora/chat80.zip.\n",
            "       | Downloading package city_database to /root/nltk_data...\n",
            "       |   Unzipping corpora/city_database.zip.\n",
            "       | Downloading package cmudict to /root/nltk_data...\n",
            "       |   Unzipping corpora/cmudict.zip.\n",
            "       | Downloading package comparative_sentences to\n",
            "       |     /root/nltk_data...\n",
            "       |   Unzipping corpora/comparative_sentences.zip.\n",
            "       | Downloading package comtrans to /root/nltk_data...\n",
            "       | Downloading package conll2000 to /root/nltk_data...\n",
            "       |   Unzipping corpora/conll2000.zip.\n",
            "       | Downloading package conll2002 to /root/nltk_data...\n",
            "       |   Unzipping corpora/conll2002.zip.\n",
            "       | Downloading package conll2007 to /root/nltk_data...\n",
            "       | Downloading package crubadan to /root/nltk_data...\n",
            "       |   Unzipping corpora/crubadan.zip.\n",
            "       | Downloading package dependency_treebank to /root/nltk_data...\n",
            "       |   Unzipping corpora/dependency_treebank.zip.\n",
            "       | Downloading package dolch to /root/nltk_data...\n",
            "       |   Unzipping corpora/dolch.zip.\n",
            "       | Downloading package europarl_raw to /root/nltk_data...\n",
            "       |   Unzipping corpora/europarl_raw.zip.\n",
            "       | Downloading package floresta to /root/nltk_data...\n",
            "       |   Unzipping corpora/floresta.zip.\n",
            "       | Downloading package framenet_v15 to /root/nltk_data...\n",
            "       |   Unzipping corpora/framenet_v15.zip.\n",
            "       | Downloading package framenet_v17 to /root/nltk_data...\n",
            "       |   Unzipping corpora/framenet_v17.zip.\n",
            "       | Downloading package gazetteers to /root/nltk_data...\n",
            "       |   Unzipping corpora/gazetteers.zip.\n",
            "       | Downloading package genesis to /root/nltk_data...\n",
            "       |   Unzipping corpora/genesis.zip.\n",
            "       | Downloading package gutenberg to /root/nltk_data...\n",
            "       |   Unzipping corpora/gutenberg.zip.\n",
            "       | Downloading package ieer to /root/nltk_data...\n",
            "       |   Unzipping corpora/ieer.zip.\n",
            "       | Downloading package inaugural to /root/nltk_data...\n",
            "       |   Unzipping corpora/inaugural.zip.\n",
            "       | Downloading package indian to /root/nltk_data...\n",
            "       |   Unzipping corpora/indian.zip.\n",
            "       | Downloading package jeita to /root/nltk_data...\n",
            "       | Downloading package kimmo to /root/nltk_data...\n",
            "       |   Unzipping corpora/kimmo.zip.\n",
            "       | Downloading package knbc to /root/nltk_data...\n",
            "       | Downloading package lin_thesaurus to /root/nltk_data...\n",
            "       |   Unzipping corpora/lin_thesaurus.zip.\n",
            "       | Downloading package mac_morpho to /root/nltk_data...\n",
            "       |   Unzipping corpora/mac_morpho.zip.\n",
            "       | Downloading package machado to /root/nltk_data...\n",
            "       | Downloading package masc_tagged to /root/nltk_data...\n",
            "       | Downloading package moses_sample to /root/nltk_data...\n",
            "       |   Unzipping models/moses_sample.zip.\n",
            "       | Downloading package movie_reviews to /root/nltk_data...\n",
            "       |   Unzipping corpora/movie_reviews.zip.\n",
            "       | Downloading package names to /root/nltk_data...\n",
            "       |   Unzipping corpora/names.zip.\n",
            "       | Downloading package nombank.1.0 to /root/nltk_data...\n",
            "       | Downloading package nps_chat to /root/nltk_data...\n",
            "       |   Unzipping corpora/nps_chat.zip.\n",
            "       | Downloading package omw to /root/nltk_data...\n",
            "       |   Unzipping corpora/omw.zip.\n",
            "       | Downloading package opinion_lexicon to /root/nltk_data...\n",
            "       |   Unzipping corpora/opinion_lexicon.zip.\n",
            "       | Downloading package paradigms to /root/nltk_data...\n",
            "       |   Unzipping corpora/paradigms.zip.\n",
            "       | Downloading package pil to /root/nltk_data...\n",
            "       |   Unzipping corpora/pil.zip.\n",
            "       | Downloading package pl196x to /root/nltk_data...\n",
            "       |   Unzipping corpora/pl196x.zip.\n",
            "       | Downloading package ppattach to /root/nltk_data...\n",
            "       |   Unzipping corpora/ppattach.zip.\n",
            "       | Downloading package problem_reports to /root/nltk_data...\n",
            "       |   Unzipping corpora/problem_reports.zip.\n",
            "       | Downloading package propbank to /root/nltk_data...\n",
            "       | Downloading package ptb to /root/nltk_data...\n",
            "       |   Unzipping corpora/ptb.zip.\n",
            "       | Downloading package product_reviews_1 to /root/nltk_data...\n",
            "       |   Unzipping corpora/product_reviews_1.zip.\n",
            "       | Downloading package product_reviews_2 to /root/nltk_data...\n",
            "       |   Unzipping corpora/product_reviews_2.zip.\n",
            "       | Downloading package pros_cons to /root/nltk_data...\n",
            "       |   Unzipping corpora/pros_cons.zip.\n",
            "       | Downloading package qc to /root/nltk_data...\n",
            "       |   Unzipping corpora/qc.zip.\n",
            "       | Downloading package reuters to /root/nltk_data...\n",
            "       | Downloading package rte to /root/nltk_data...\n",
            "       |   Unzipping corpora/rte.zip.\n",
            "       | Downloading package semcor to /root/nltk_data...\n",
            "       | Downloading package senseval to /root/nltk_data...\n",
            "       |   Unzipping corpora/senseval.zip.\n",
            "       | Downloading package sentiwordnet to /root/nltk_data...\n",
            "       |   Unzipping corpora/sentiwordnet.zip.\n",
            "       | Downloading package sentence_polarity to /root/nltk_data...\n",
            "       |   Unzipping corpora/sentence_polarity.zip.\n",
            "       | Downloading package shakespeare to /root/nltk_data...\n",
            "       |   Unzipping corpora/shakespeare.zip.\n",
            "       | Downloading package sinica_treebank to /root/nltk_data...\n",
            "       |   Unzipping corpora/sinica_treebank.zip.\n",
            "       | Downloading package smultron to /root/nltk_data...\n",
            "       |   Unzipping corpora/smultron.zip.\n",
            "       | Downloading package state_union to /root/nltk_data...\n",
            "       |   Unzipping corpora/state_union.zip.\n",
            "       | Downloading package stopwords to /root/nltk_data...\n",
            "       |   Unzipping corpora/stopwords.zip.\n",
            "       | Downloading package subjectivity to /root/nltk_data...\n",
            "       |   Unzipping corpora/subjectivity.zip.\n",
            "       | Downloading package swadesh to /root/nltk_data...\n",
            "       |   Unzipping corpora/swadesh.zip.\n",
            "       | Downloading package switchboard to /root/nltk_data...\n",
            "       |   Unzipping corpora/switchboard.zip.\n",
            "       | Downloading package timit to /root/nltk_data...\n",
            "       |   Unzipping corpora/timit.zip.\n",
            "       | Downloading package toolbox to /root/nltk_data...\n",
            "       |   Unzipping corpora/toolbox.zip.\n",
            "       | Downloading package treebank to /root/nltk_data...\n",
            "       |   Unzipping corpora/treebank.zip.\n",
            "       | Downloading package twitter_samples to /root/nltk_data...\n",
            "       |   Unzipping corpora/twitter_samples.zip.\n",
            "       | Downloading package udhr to /root/nltk_data...\n",
            "       |   Unzipping corpora/udhr.zip.\n",
            "       | Downloading package udhr2 to /root/nltk_data...\n",
            "       |   Unzipping corpora/udhr2.zip.\n",
            "       | Downloading package unicode_samples to /root/nltk_data...\n",
            "       |   Unzipping corpora/unicode_samples.zip.\n",
            "       | Downloading package universal_treebanks_v20 to\n",
            "       |     /root/nltk_data...\n",
            "       | Downloading package verbnet to /root/nltk_data...\n",
            "       |   Unzipping corpora/verbnet.zip.\n",
            "       | Downloading package verbnet3 to /root/nltk_data...\n",
            "       |   Unzipping corpora/verbnet3.zip.\n",
            "       | Downloading package webtext to /root/nltk_data...\n",
            "       |   Unzipping corpora/webtext.zip.\n",
            "       | Downloading package wordnet to /root/nltk_data...\n",
            "       |   Unzipping corpora/wordnet.zip.\n",
            "       | Downloading package wordnet_ic to /root/nltk_data...\n",
            "       |   Unzipping corpora/wordnet_ic.zip.\n",
            "       | Downloading package words to /root/nltk_data...\n",
            "       |   Unzipping corpora/words.zip.\n",
            "       | Downloading package ycoe to /root/nltk_data...\n",
            "       |   Unzipping corpora/ycoe.zip.\n",
            "       | Downloading package rslp to /root/nltk_data...\n",
            "       |   Unzipping stemmers/rslp.zip.\n",
            "       | Downloading package maxent_treebank_pos_tagger to\n",
            "       |     /root/nltk_data...\n",
            "       |   Unzipping taggers/maxent_treebank_pos_tagger.zip.\n",
            "       | Downloading package universal_tagset to /root/nltk_data...\n",
            "       |   Unzipping taggers/universal_tagset.zip.\n",
            "       | Downloading package maxent_ne_chunker to /root/nltk_data...\n",
            "       |   Unzipping chunkers/maxent_ne_chunker.zip.\n",
            "       | Downloading package punkt to /root/nltk_data...\n",
            "       |   Unzipping tokenizers/punkt.zip.\n",
            "       | Downloading package book_grammars to /root/nltk_data...\n",
            "       |   Unzipping grammars/book_grammars.zip.\n",
            "       | Downloading package sample_grammars to /root/nltk_data...\n",
            "       |   Unzipping grammars/sample_grammars.zip.\n",
            "       | Downloading package spanish_grammars to /root/nltk_data...\n",
            "       |   Unzipping grammars/spanish_grammars.zip.\n",
            "       | Downloading package basque_grammars to /root/nltk_data...\n",
            "       |   Unzipping grammars/basque_grammars.zip.\n",
            "       | Downloading package large_grammars to /root/nltk_data...\n",
            "       |   Unzipping grammars/large_grammars.zip.\n",
            "       | Downloading package tagsets to /root/nltk_data...\n",
            "       |   Unzipping help/tagsets.zip.\n",
            "       | Downloading package snowball_data to /root/nltk_data...\n",
            "       | Downloading package bllip_wsj_no_aux to /root/nltk_data...\n",
            "       |   Unzipping models/bllip_wsj_no_aux.zip.\n",
            "       | Downloading package word2vec_sample to /root/nltk_data...\n",
            "       |   Unzipping models/word2vec_sample.zip.\n",
            "       | Downloading package panlex_swadesh to /root/nltk_data...\n",
            "       | Downloading package mte_teip5 to /root/nltk_data...\n",
            "       |   Unzipping corpora/mte_teip5.zip.\n",
            "       | Downloading package averaged_perceptron_tagger to\n",
            "       |     /root/nltk_data...\n",
            "       |   Unzipping taggers/averaged_perceptron_tagger.zip.\n",
            "       | Downloading package averaged_perceptron_tagger_ru to\n",
            "       |     /root/nltk_data...\n",
            "       |   Unzipping taggers/averaged_perceptron_tagger_ru.zip.\n",
            "       | Downloading package perluniprops to /root/nltk_data...\n",
            "       |   Unzipping misc/perluniprops.zip.\n",
            "       | Downloading package nonbreaking_prefixes to\n",
            "       |     /root/nltk_data...\n",
            "       |   Unzipping corpora/nonbreaking_prefixes.zip.\n",
            "       | Downloading package vader_lexicon to /root/nltk_data...\n",
            "       | Downloading package porter_test to /root/nltk_data...\n",
            "       |   Unzipping stemmers/porter_test.zip.\n",
            "       | Downloading package wmt15_eval to /root/nltk_data...\n",
            "       |   Unzipping models/wmt15_eval.zip.\n",
            "       | Downloading package mwa_ppdb to /root/nltk_data...\n",
            "       |   Unzipping misc/mwa_ppdb.zip.\n",
            "       | \n",
            "     Done downloading collection all\n",
            "\n",
            "---------------------------------------------------------------------------\n",
            "    d) Download   l) List    u) Update   c) Config   h) Help   q) Quit\n",
            "---------------------------------------------------------------------------\n",
            "Downloader> q\n"
          ],
          "name": "stdout"
        },
        {
          "output_type": "execute_result",
          "data": {
            "text/plain": [
              "True"
            ]
          },
          "metadata": {
            "tags": []
          },
          "execution_count": 1
        }
      ]
    },
    {
      "cell_type": "code",
      "metadata": {
        "id": "BgFObNu8YZwG"
      },
      "source": [
        "import random"
      ],
      "execution_count": null,
      "outputs": []
    },
    {
      "cell_type": "markdown",
      "metadata": {
        "id": "YSHYSuAsJ9_w"
      },
      "source": [
        "2.  Using any of the three classifiers described in this chapter, and any features you\n",
        "can think of, build the best name gender classifier you can. Begin by splitting the\n",
        "Names Corpus into three subsets: 500 words for the test set, 500 words for the\n",
        "dev-test set, and the remaining 6,900 words for the training set. Then, starting with\n",
        "the example name gender classifier, make incremental improvements. Use the devtest set to check your progress. Once you are satisfied with your classifier, check\n",
        "its final performance on the test set. How does the performance on the test set\n",
        "compare to the performance on the dev-test set? Is this what you’d expect?\n"
      ]
    },
    {
      "cell_type": "code",
      "metadata": {
        "id": "TCkG_G81J5IA"
      },
      "source": [
        "from nltk.corpus import names\n",
        "import random\n",
        "names = ([(name, 'male') for name in names.words('male.txt')] +\n",
        "        [(name, 'female') for name in names.words('female.txt')])\n",
        "random.shuffle(names)"
      ],
      "execution_count": null,
      "outputs": []
    },
    {
      "cell_type": "code",
      "metadata": {
        "id": "FDa6Hq4OR8GM",
        "colab": {
          "base_uri": "https://localhost:8080/",
          "height": 34
        },
        "outputId": "3f730ff9-794b-4613-a00f-cc1cecaf63d4"
      },
      "source": [
        "def gender_features(word):\n",
        "    return {'last_letter'  : word[-1]}\n",
        "featuresets = [(gender_features(n), gender) for (n, gender) in names]\n",
        "train_set, test_set, devtest_set = featuresets[1000:], featuresets[:500], featuresets[500:1000]\n",
        "classifier = nltk.NaiveBayesClassifier.train(train_set)\n",
        "print(nltk.classify.accuracy(classifier, devtest_set))"
      ],
      "execution_count": null,
      "outputs": [
        {
          "output_type": "stream",
          "text": [
            "0.722\n"
          ],
          "name": "stdout"
        }
      ]
    },
    {
      "cell_type": "code",
      "metadata": {
        "id": "y_cKkApqSUER",
        "colab": {
          "base_uri": "https://localhost:8080/",
          "height": 34
        },
        "outputId": "bb51a546-244e-4625-c190-a4eaf0e4b8e8"
      },
      "source": [
        "def gender_features(word):\n",
        "    return {'last_letter'  : word[-1],\n",
        "            'length'       : len(word),\n",
        "            'first_letter' : word[0],}\n",
        "featuresets = [(gender_features(n), gender) for (n, gender) in names]\n",
        "train_set, test_set, devtest_set = featuresets[1000:], featuresets[:500], featuresets[500:1000]\n",
        "classifier = nltk.NaiveBayesClassifier.train(train_set)\n",
        "print(nltk.classify.accuracy(classifier, devtest_set))"
      ],
      "execution_count": null,
      "outputs": [
        {
          "output_type": "stream",
          "text": [
            "0.748\n"
          ],
          "name": "stdout"
        }
      ]
    },
    {
      "cell_type": "code",
      "metadata": {
        "id": "virmijX7Sh62",
        "colab": {
          "base_uri": "https://localhost:8080/",
          "height": 34
        },
        "outputId": "74db7285-732a-4d09-b21b-b6ed5051b38e"
      },
      "source": [
        "def gender_features(word):\n",
        "    return {'last_letter'  : word[-1],\n",
        "            'length'       : len(word),\n",
        "            'first_letter' : word[0],\n",
        "            'last_2letters': word[-2:],\n",
        "            'first_2letters': word[:2]}\n",
        "featuresets = [(gender_features(n), gender) for (n, gender) in names]\n",
        "train_set, test_set, devtest_set = featuresets[1000:], featuresets[:500], featuresets[500:1000]\n",
        "classifier = nltk.NaiveBayesClassifier.train(train_set)\n",
        "print(nltk.classify.accuracy(classifier, devtest_set))"
      ],
      "execution_count": null,
      "outputs": [
        {
          "output_type": "stream",
          "text": [
            "0.784\n"
          ],
          "name": "stdout"
        }
      ]
    },
    {
      "cell_type": "code",
      "metadata": {
        "id": "QeE8gYRDMVo5",
        "colab": {
          "base_uri": "https://localhost:8080/",
          "height": 33
        },
        "outputId": "68669462-9668-4b34-f655-17b90400d49b"
      },
      "source": [
        "def gender_features(word):\n",
        "    return {'last_letter'  : word[-1],\n",
        "            'length'       : len(word),\n",
        "            'first_letter' : word[0],\n",
        "            'last_2letters': word[-2:],\n",
        "            'first_2letters': word[:2],\n",
        "            'first_vowel'  : [i for i in range(len(word)) \n",
        "                              if word[i] in 'AEIOUaeiouy'][0],\n",
        "            'double_letters': sum([1 for ch in range(len(word) - 1)\n",
        "                                  if word[ch] == word[ch + 1]])}\n",
        "            \n",
        "\n",
        "featuresets = [(gender_features(n), gender) for (n, gender) in names]\n",
        "train_set, test_set, devtest_set = featuresets[1000:], featuresets[:500], featuresets[500:1000]\n",
        "classifier = nltk.NaiveBayesClassifier.train(train_set)\n",
        "print(nltk.classify.accuracy(classifier, devtest_set))"
      ],
      "execution_count": null,
      "outputs": [
        {
          "output_type": "stream",
          "text": [
            "0.788\n"
          ],
          "name": "stdout"
        }
      ]
    },
    {
      "cell_type": "code",
      "metadata": {
        "id": "oWCkcWzESrSR",
        "colab": {
          "base_uri": "https://localhost:8080/",
          "height": 33
        },
        "outputId": "a629ea53-d7db-46c9-a806-d466f320501d"
      },
      "source": [
        "print(nltk.classify.accuracy(classifier, test_set))"
      ],
      "execution_count": null,
      "outputs": [
        {
          "output_type": "stream",
          "text": [
            "0.796\n"
          ],
          "name": "stdout"
        }
      ]
    },
    {
      "cell_type": "markdown",
      "metadata": {
        "id": "xXTV6sapS8rW"
      },
      "source": [
        "3. The Senseval 2 Corpus contains data intended to train word-sense disambiguation classifiers. It contains data for four words: *hard, interest, line,* and *serve*.\n",
        "Choose one of these four words, and load the corresponding data:\n",
        "```\n",
        ">>> from nltk.corpus import senseval\n",
        ">>> instances = senseval.instances('hard.pos')\n",
        ">>> size = int(len(instances) * 0.1)\n",
        ">>> train_set, test_set = instances[size:], instances[:size]\n",
        "```\n",
        "Using this dataset, build a classifier that predicts the correct sense tag for a given\n",
        "instance. See the corpus HOWTO at http://www.nltk.org/howto for information\n",
        "on using the instance objects returned by the Senseval 2 Corpus.\n"
      ]
    },
    {
      "cell_type": "code",
      "metadata": {
        "id": "PJq0T1HdTeVf"
      },
      "source": [
        "from nltk.corpus import senseval\n",
        "import random\n",
        "instances = senseval.instances('hard.pos')"
      ],
      "execution_count": null,
      "outputs": []
    },
    {
      "cell_type": "code",
      "metadata": {
        "id": "F8TCKKsRbr8q"
      },
      "source": [
        "size = int(len(instances) * 0.1)\n",
        "#train_set, test_set = instances[size:], instances[:size]\n",
        "classifier = nltk.NaiveBayesClassifier.train(instances[size:])\n"
      ],
      "execution_count": null,
      "outputs": []
    },
    {
      "cell_type": "code",
      "metadata": {
        "id": "3VguNPENZqfq"
      },
      "source": [
        "senses = [int(instances[i].senses[0][4]) for i in range(len(instances))]\n",
        "def hard_features(inst):\n",
        "    p = inst.position\n",
        "    return {'left2':  inst.context[p - 2],\n",
        "            'left1':  inst.context[p - 1],\n",
        "            'right':  inst.context[p + 1]}\n"
      ],
      "execution_count": null,
      "outputs": []
    },
    {
      "cell_type": "code",
      "metadata": {
        "id": "DNsn0HDsaZ8u",
        "colab": {
          "base_uri": "https://localhost:8080/",
          "height": 33
        },
        "outputId": "e9b45578-c6c1-4800-a842-664efd8bde78"
      },
      "source": [
        "hard_features(instances[0])"
      ],
      "execution_count": null,
      "outputs": [
        {
          "output_type": "execute_result",
          "data": {
            "text/plain": [
              "{'left1': (\"'s\", 'VBZ'), 'left2': ('that', 'DT'), 'right': ('to', 'TO')}"
            ]
          },
          "metadata": {
            "tags": []
          },
          "execution_count": 33
        }
      ]
    },
    {
      "cell_type": "code",
      "metadata": {
        "id": "x9aAU84aasy1"
      },
      "source": [
        "featuresets = [(hard_features(n), n.senses) for n in instances]\n",
        "size = int(len(featuresets) * 0.1)\n",
        "train_set, test_set = instances[size:], instances[:size]\n",
        "classifier = nltk.NaiveBayesClassifier.train(train_set)"
      ],
      "execution_count": null,
      "outputs": []
    },
    {
      "cell_type": "markdown",
      "metadata": {
        "id": "IOsyEJMVedI1"
      },
      "source": [
        " 4. Using the movie review document classifier discussed in this chapter, generate\n",
        "a list of the 30 features that the classifier finds to be most informative. Can you\n",
        "explain why these particular features are informative? Do you find any of them\n",
        "surprising?"
      ]
    },
    {
      "cell_type": "code",
      "metadata": {
        "id": "X_9m_kY1eoUi"
      },
      "source": [
        "from nltk.corpus import movie_reviews\n",
        "documents = [(list(movie_reviews.words(fileid)), category)\n",
        "             for category in movie_reviews.categories()\n",
        "             for fileid in movie_reviews.fileids(category)]\n",
        "random.shuffle(documents)"
      ],
      "execution_count": null,
      "outputs": []
    },
    {
      "cell_type": "code",
      "metadata": {
        "id": "S8XjoqknewWY"
      },
      "source": [
        "all_words = nltk.FreqDist(w.lower() for w in movie_reviews.words())\n",
        "word_features = list(all_words)[:2000]\n",
        "\n",
        "def document_features(document):\n",
        "    document_words = set(document)\n",
        "    features = {}\n",
        "    for word in word_features:\n",
        "        features['contains({})'.format(word)] = (word in document_words)\n",
        "    return features"
      ],
      "execution_count": null,
      "outputs": []
    },
    {
      "cell_type": "code",
      "metadata": {
        "id": "5NckkOkKezgK"
      },
      "source": [
        "featuresets = [(document_features(d), c) for (d, c) in documents]\n",
        "train_set, test_set = featuresets[100:], featuresets[:100]\n",
        "classifier = nltk.NaiveBayesClassifier.train(train_set)"
      ],
      "execution_count": null,
      "outputs": []
    },
    {
      "cell_type": "code",
      "metadata": {
        "id": "jcdb7t-xe2IZ",
        "colab": {
          "base_uri": "https://localhost:8080/",
          "height": 535
        },
        "outputId": "bce47ee5-e7a4-4db1-e4f9-522d77e55b8a"
      },
      "source": [
        "\n",
        "classifier.show_most_informative_features(30)"
      ],
      "execution_count": null,
      "outputs": [
        {
          "output_type": "stream",
          "text": [
            "Most Informative Features\n",
            " contains(unimaginative) = True              neg : pos    =      7.7 : 1.0\n",
            "        contains(turkey) = True              neg : pos    =      7.6 : 1.0\n",
            "    contains(schumacher) = True              neg : pos    =      7.1 : 1.0\n",
            "     contains(atrocious) = True              neg : pos    =      7.1 : 1.0\n",
            "        contains(suvari) = True              neg : pos    =      7.1 : 1.0\n",
            "          contains(mena) = True              neg : pos    =      7.1 : 1.0\n",
            "         contains(kudos) = True              pos : neg    =      6.5 : 1.0\n",
            "        contains(shoddy) = True              neg : pos    =      6.4 : 1.0\n",
            "        contains(justin) = True              neg : pos    =      5.8 : 1.0\n",
            "     contains(underwood) = True              neg : pos    =      5.7 : 1.0\n",
            "        contains(canyon) = True              neg : pos    =      5.7 : 1.0\n",
            "  contains(surveillance) = True              neg : pos    =      5.7 : 1.0\n",
            "       contains(unravel) = True              pos : neg    =      5.6 : 1.0\n",
            "           contains(ugh) = True              neg : pos    =      5.4 : 1.0\n",
            "         contains(waste) = True              neg : pos    =      5.4 : 1.0\n",
            "        contains(wasted) = True              neg : pos    =      5.2 : 1.0\n",
            "         contains(awful) = True              neg : pos    =      5.1 : 1.0\n",
            "        contains(inject) = True              neg : pos    =      5.0 : 1.0\n",
            "        contains(welles) = True              neg : pos    =      5.0 : 1.0\n",
            "       contains(bronson) = True              neg : pos    =      5.0 : 1.0\n",
            "          contains(toll) = True              pos : neg    =      5.0 : 1.0\n",
            "       contains(miscast) = True              neg : pos    =      4.8 : 1.0\n",
            "    contains(ridiculous) = True              neg : pos    =      4.8 : 1.0\n",
            "       contains(martian) = True              neg : pos    =      4.6 : 1.0\n",
            "          contains(olds) = True              neg : pos    =      4.6 : 1.0\n",
            "         contains(groan) = True              neg : pos    =      4.6 : 1.0\n",
            "        contains(poorly) = True              neg : pos    =      4.6 : 1.0\n",
            "     contains(stretched) = True              neg : pos    =      4.5 : 1.0\n",
            "       contains(runtime) = True              neg : pos    =      4.4 : 1.0\n",
            "          contains(oops) = True              neg : pos    =      4.4 : 1.0\n"
          ],
          "name": "stdout"
        }
      ]
    },
    {
      "cell_type": "markdown",
      "metadata": {
        "id": "P5m3Air1fF9R"
      },
      "source": [
        "5. Select one of the classification tasks described in this chapter, such as name\n",
        "gender detection, document classification, part-of-speech tagging, or dialogue act\n",
        "classification. Using the same training and test data, and the same feature extractor,\n",
        "build three classifiers for the task: a decision tree, a naive Bayes classifier, and a\n",
        "Maximum Entropy classifier. Compare the performance of the three classifiers on\n",
        "your selected task. How do you think that your results might be different if you\n",
        "used a different feature extractor?"
      ]
    },
    {
      "cell_type": "code",
      "metadata": {
        "id": "isQjBy96fZCk"
      },
      "source": [
        "def gender_features(word):\n",
        "    return {'last_letter'  : word[-1],\n",
        "            'length'       : len(word),\n",
        "            'first_letter' : word[0],\n",
        "            'last_2letters': word[-2:],\n",
        "            'first_2letters': word[:2],\n",
        "            'number_vowels': sum([1 for ch in word if ch in 'AEIOUaeiouy']),\n",
        "            'first_vowel'  : [i for i in range(len(word)) \n",
        "                              if word[i] in 'AEIOUaeiouy'][0],\n",
        "            'double_letters': sum([1 for ch in range(len(word) - 1)\n",
        "                                  if word[ch] == word[ch + 1]])}"
      ],
      "execution_count": null,
      "outputs": []
    },
    {
      "cell_type": "code",
      "metadata": {
        "id": "ZAtUNUm1fdVW"
      },
      "source": [
        "from nltk.corpus import names\n",
        "import random\n",
        "\n",
        "labeled_names = ([(name, 'male') for name in names.words('male.txt')] + \n",
        "                 [(name, 'female') for name in names.words('female.txt')])\n",
        "random.shuffle(labeled_names)"
      ],
      "execution_count": null,
      "outputs": []
    },
    {
      "cell_type": "code",
      "metadata": {
        "id": "Y-ML13oUfgwc",
        "colab": {
          "base_uri": "https://localhost:8080/",
          "height": 920
        },
        "outputId": "8ed0faa8-83ad-4a6a-dc82-4b979dc7b2d8"
      },
      "source": [
        "\n",
        "featuresets = [(gender_features(n), gender) for (n, gender) in labeled_names]\n",
        "train_set, devtest_set, test_set = featuresets[1000:], featuresets[500:1000], featuresets[:500]\n",
        "classifier = nltk.classify.MaxentClassifier.train(train_set, max_iter = 50)"
      ],
      "execution_count": null,
      "outputs": [
        {
          "output_type": "stream",
          "text": [
            "  ==> Training (50 iterations)\n",
            "\n",
            "      Iteration    Log Likelihood    Accuracy\n",
            "      ---------------------------------------\n",
            "             1          -0.69315        0.374\n",
            "             2          -0.48746        0.737\n",
            "             3          -0.41834        0.807\n",
            "             4          -0.37851        0.817\n",
            "             5          -0.35346        0.823\n",
            "             6          -0.33646        0.826\n",
            "             7          -0.32422        0.826\n",
            "             8          -0.31501        0.827\n",
            "             9          -0.30784        0.829\n",
            "            10          -0.30209        0.830\n",
            "            11          -0.29737        0.831\n",
            "            12          -0.29343        0.833\n",
            "            13          -0.29009        0.834\n",
            "            14          -0.28721        0.835\n",
            "            15          -0.28470        0.836\n",
            "            16          -0.28250        0.837\n",
            "            17          -0.28054        0.837\n",
            "            18          -0.27879        0.838\n",
            "            19          -0.27722        0.838\n",
            "            20          -0.27579        0.838\n",
            "            21          -0.27449        0.838\n",
            "            22          -0.27330        0.838\n",
            "            23          -0.27220        0.838\n",
            "            24          -0.27119        0.838\n",
            "            25          -0.27025        0.839\n",
            "            26          -0.26938        0.839\n",
            "            27          -0.26857        0.840\n",
            "            28          -0.26781        0.840\n",
            "            29          -0.26710        0.840\n",
            "            30          -0.26643        0.840\n",
            "            31          -0.26580        0.840\n",
            "            32          -0.26520        0.840\n",
            "            33          -0.26464        0.840\n",
            "            34          -0.26411        0.840\n",
            "            35          -0.26360        0.840\n",
            "            36          -0.26312        0.840\n",
            "            37          -0.26267        0.841\n",
            "            38          -0.26223        0.841\n",
            "            39          -0.26182        0.841\n",
            "            40          -0.26142        0.841\n",
            "            41          -0.26104        0.841\n",
            "            42          -0.26068        0.841\n",
            "            43          -0.26033        0.842\n",
            "            44          -0.26000        0.842\n",
            "            45          -0.25967        0.842\n",
            "            46          -0.25937        0.842\n",
            "            47          -0.25907        0.842\n",
            "            48          -0.25878        0.842\n",
            "            49          -0.25851        0.842\n",
            "         Final          -0.25824        0.842\n"
          ],
          "name": "stdout"
        }
      ]
    },
    {
      "cell_type": "code",
      "metadata": {
        "id": "n9V_p-4KfkeA",
        "colab": {
          "base_uri": "https://localhost:8080/",
          "height": 33
        },
        "outputId": "6be5879d-4e17-4406-e739-092163f0baa6"
      },
      "source": [
        "classifier = nltk.DecisionTreeClassifier.train(train_set)\n",
        "\n",
        "nltk.classify.accuracy(classifier, test_set)"
      ],
      "execution_count": null,
      "outputs": [
        {
          "output_type": "execute_result",
          "data": {
            "text/plain": [
              "0.734"
            ]
          },
          "metadata": {
            "tags": []
          },
          "execution_count": 64
        }
      ]
    },
    {
      "cell_type": "code",
      "metadata": {
        "id": "REUG1fyDfnfa",
        "colab": {
          "base_uri": "https://localhost:8080/",
          "height": 33
        },
        "outputId": "12500a0c-bd6b-43d1-8fe6-60e7a7db78d1"
      },
      "source": [
        "\n",
        "classifier = nltk.NaiveBayesClassifier.train(train_set)\n",
        "\n",
        "nltk.classify.accuracy(classifier, test_set)"
      ],
      "execution_count": null,
      "outputs": [
        {
          "output_type": "execute_result",
          "data": {
            "text/plain": [
              "0.78"
            ]
          },
          "metadata": {
            "tags": []
          },
          "execution_count": 65
        }
      ]
    }
  ]
}